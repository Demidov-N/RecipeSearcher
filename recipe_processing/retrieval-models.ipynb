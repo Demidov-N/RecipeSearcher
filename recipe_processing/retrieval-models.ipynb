{
  "cells": [
    {
      "cell_type": "markdown",
      "metadata": {
        "colab_type": "text",
        "id": "view-in-github"
      },
      "source": [
        "<a href=\"https://colab.research.google.com/github/dasmiq/cs6200-retrieval-models/blob/main/retrieval-models.ipynb\" target=\"_parent\"><img src=\"https://colab.research.google.com/assets/colab-badge.svg\" alt=\"Open In Colab\"/></a>"
      ]
    },
    {
      "cell_type": "markdown",
      "metadata": {
        "id": "vUpmSFflwzR1"
      },
      "source": [
        "# Retrieval Models and Evaluation\n",
        "\n"
      ]
    },
    {
      "cell_type": "markdown",
      "metadata": {
        "id": "-2PzgU4YxIl3"
      },
      "source": [
        "In this notebook, you will evaluate results ranking on a test collection. First, you'll compute the mean average precision of a baseline BM25 model. Then you'll implement a query-likelihood retrieval model based on the same inverted index.\n",
        "\n",
        "This notebook uses the [Pyserini](http://pyserini.io/) library, a Python interface to [Anserini](http://anserini.io) and thus to [Lucene](https://lucene.apache.org/), a widely-used open-source search engine. This library is written and maintained by Jimmy Lin and his colleagues at the University of Waterloo.\n"
      ]
    },
    {
      "cell_type": "markdown",
      "metadata": {
        "id": "f2vNd7bpJlDZ"
      },
      "source": [
        "We start by installing the python interface. Since it calls the underlying Lucene search engine, which is written in Java, we make sure we point to an appropriate Java installation. If like Colab you don't have Java 21, uncomment the following code and run it, or whatever makes sense for your platform."
      ]
    },
    {
      "cell_type": "code",
      "execution_count": 1,
      "metadata": {
        "colab": {
          "base_uri": "https://localhost:8080/"
        },
        "id": "nBDwrCizYdak",
        "outputId": "ccb9ac76-7686-4499-f913-2334717c0ac3"
      },
      "outputs": [
        {
          "name": "stdout",
          "output_type": "stream",
          "text": [
            "openjdk version \"22.0.1-internal\" 2024-04-16\n",
            "OpenJDK Runtime Environment (build 22.0.1-internal-adhoc.conda.src)\n",
            "OpenJDK 64-Bit Server VM (build 22.0.1-internal-adhoc.conda.src, mixed mode, sharing)\n"
          ]
        }
      ],
      "source": [
        "## Uncomment the following code to install Java 21 on Colab\n",
        "#apt-get install openjdk-21-jre-headless -qq > /dev/null\n",
        "import os\n",
        "os.environ[\"JAVA_HOME\"] = \"/usr/lib/jvm/java-21-openjdk\"\n",
        "!java -version"
      ]
    },
    {
      "cell_type": "code",
      "execution_count": 2,
      "metadata": {
        "colab": {
          "base_uri": "https://localhost:8080/"
        },
        "id": "E_lt0-pXJia0",
        "outputId": "6baea20c-8186-4397-afbc-76cbb0df914e"
      },
      "outputs": [],
      "source": [
        "#!pip install pyserini\n",
        "# You can change this to gpu if you have one.\n",
        "# It's a pyserini dependency, but we won't need it until the next assignment.\n",
        "#!pip install faiss-cpu"
      ]
    },
    {
      "cell_type": "markdown",
      "metadata": {
        "id": "NkD0kKxW9mHP"
      },
      "source": [
        "You can use the `LuceneSearcher` to search over an index. We can initialize the searcher with a pre-built index, which Pyserini will automatically download if it hasn't already. Note that the index takes up 1.6GB of disk."
      ]
    },
    {
      "cell_type": "code",
      "execution_count": 3,
      "metadata": {
        "colab": {
          "base_uri": "https://localhost:8080/"
        },
        "id": "zVoAZvuAI_la",
        "outputId": "e22b98b7-3452-4641-8b71-86300b3a8c49"
      },
      "outputs": [
        {
          "name": "stderr",
          "output_type": "stream",
          "text": [
            "WARNING: Using incubator modules: jdk.incubator.vector\n",
            "/home/redbear/miniforge3/envs/ds6220/lib/python3.11/site-packages/tqdm/auto.py:21: TqdmWarning: IProgress not found. Please update jupyter and ipywidgets. See https://ipywidgets.readthedocs.io/en/stable/user_install.html\n",
            "  from .autonotebook import tqdm as notebook_tqdm\n",
            "Mar 03, 2025 9:36:57 PM org.apache.lucene.store.MemorySegmentIndexInputProvider <init>\n",
            "INFO: Using MemorySegmentIndexInput with Java 21; to disable start with -Dorg.apache.lucene.store.MMapDirectory.enableMemorySegments=false\n"
          ]
        }
      ],
      "source": [
        "from pyserini.search.lucene import LuceneSearcher\n",
        "\n",
        "searcher = LuceneSearcher.from_prebuilt_index('robust04')"
      ]
    },
    {
      "cell_type": "markdown",
      "metadata": {
        "id": "N6xHyonHJDKy"
      },
      "source": [
        "Now we can search for a query and inspect the results:"
      ]
    },
    {
      "cell_type": "code",
      "execution_count": 4,
      "metadata": {
        "colab": {
          "base_uri": "https://localhost:8080/"
        },
        "id": "yFZlcqEX0t1f",
        "outputId": "321e4329-06fc-4a9e-c512-0045518bf185"
      },
      "outputs": [
        {
          "name": "stdout",
          "output_type": "stream",
          "text": [
            " 1 LA092790-0015   7.06680\n",
            " 2 LA081689-0039   6.89020\n",
            " 3 FBIS4-16530     6.61630\n",
            " 4 LA102589-0076   6.46450\n",
            " 5 FT932-15491     6.25090\n",
            " 6 FBIS3-12276     6.24630\n",
            " 7 LA091090-0085   6.17030\n",
            " 8 FT922-13519     6.04270\n",
            " 9 LA052790-0205   5.94060\n",
            "10 LA103089-0041   5.90650\n"
          ]
        }
      ],
      "source": [
        "hits = searcher.search('black bear attacks', 1000)\n",
        "\n",
        "# Prints the first 10 hits\n",
        "for i in range(0, 10):\n",
        "    print(f'{i+1:2} {hits[i].docid:15} {hits[i].score:.5f}')"
      ]
    },
    {
      "cell_type": "markdown",
      "metadata": {
        "id": "emoSTga_7fOB"
      },
      "source": [
        "The `IndexReaderUtils` class provides various methods to read the index directly. For example, we can fetch a raw document from the index given its `docid`:"
      ]
    },
    {
      "cell_type": "code",
      "execution_count": 5,
      "metadata": {
        "colab": {
          "base_uri": "https://localhost:8080/",
          "height": 599
        },
        "id": "N5ApT1YG71mz",
        "outputId": "cccac5ef-b29b-420d-93a2-312da52cca4d"
      },
      "outputs": [
        {
          "name": "stderr",
          "output_type": "stream",
          "text": [
            "/tmp/ipykernel_30523/1735331188.py:2: DeprecationWarning: Importing display from IPython.core.display is deprecated since IPython 7.14, please import from IPython.display\n",
            "  from IPython.core.display import display, HTML\n"
          ]
        },
        {
          "data": {
            "text/html": [
              "<div style=\"font-family: Times New Roman; padding-bottom:10px\"><DATE>\n",
              "<P>\n",
              "September 27, 1990, Thursday, Ventura County Edition\n",
              "</P>\n",
              "</DATE>\n",
              "<HEADLINE>\n",
              "<P>\n",
              "HUNGRY WILDLIFE STRAYING INTO SUBURBS;\n",
              "</P>\n",
              "<P>\n",
              "DROUGHT: FOUR DRY YEARS HAVE PARCHED NATIVE VEGETATION, FORCING BOBCATS, BEARS,\n",
              "MOUNTAIN LIONS, DEER AND COYOTES TO FORAGE CLOSER TO INHABITED AREAS.\n",
              "</P>\n",
              "</HEADLINE>\n",
              "<TEXT>\n",
              "<P>\n",
              "Hungry bobcats, bears and mountain lions -- unable to find food in Ventura\n",
              "County's drought-parched forests -- are being pushed out of their natural\n",
              "habitats to scavenge in rural communities, game officials said Wednesday.\n",
              "</P>\n",
              "<P>\n",
              "Two weeks ago, a black bear ripped the door off a trailer home in Rose Valley\n",
              "just north of Ojai. And within the past month, there have been several reports\n",
              "of mountain lions eating livestock near Los Padres National Forest. Several\n",
              "bobcats have been reported near houses in the Ojai Valley.\n",
              "</P>\n",
              "<P>\n",
              "Authorities say that over the past two years they have received twice the\n",
              "complaints -- about 20 a month -- of wild animals in populated areas. The\n",
              "drought is now in its fourth year in California.\n",
              "</P>\n",
              "<P>\n",
              "\"We've been having more and more conflicts with animals,\" said Capt. Roger\n",
              "Reese, with the state Department of Fish and Game. \"The fact is, it's very dry\n",
              "out there, and there just isn't a lot of food and water for them.\"\n",
              "</P>\n",
              "<P>\n",
              "Animal control officials say they are advising residents in rural areas to be\n",
              "aware of the problem. But so far, no one has been attacked by the wild animals,\n",
              "although there have been such attacks reported elsewhere in Southern\n",
              "California, authorities said.\n",
              "</P>\n",
              "<P>\n",
              "Coyotes have been running amok, officials said. Virtually all parts of the\n",
              "county except beach areas probably have been visited at one time or another by\n",
              "coyotes, said Kathy Jenks, director of the Ventura County Department of Animal\n",
              "Regulation.\n",
              "</P>\n",
              "<P>\n",
              "In Ventura, coyotes are often seen in Grant Park above City Hall, and in Arroyo\n",
              "Verde Park in the Ondulando district on the east side, Jenks said.\n",
              "</P>\n",
              "<P>\n",
              "Elsewhere, coyotes have been seen on streets in Thousand Oaks, Moorpark and\n",
              "Simi Valley. The rural, foothill developments are especially vulnerable, she\n",
              "said.\n",
              "</P>\n",
              "<P>\n",
              "Jenks said she advises residents to keep small pets inside, especially at\n",
              "night.\n",
              "</P>\n",
              "<P>\n",
              "There have even been a few cases in which brazen coyotes have attacked family\n",
              "animals in back yards, and a large number of house cats are disappearing,\n",
              "officials said.\n",
              "</P>\n",
              "<P>\n",
              "\"The common house cat is like a fancy feast for a coyote,\" she said. \"They're\n",
              "hungry, they're thirsty and they're coming down out of the hills.\"\n",
              "</P>\n",
              "<P>\n",
              "There have been a few reports of deer grazing in people's yards, Reese said.\n",
              "</P>\n",
              "<P>\n",
              "Traditionally, September is the worst month for wildlife, authorities said.\n",
              "</P>\n",
              "<P>\n",
              "\"It is usually the driest month,\" Reese said. \"And a lot of animals that have\n",
              "been raised in the spring leave their parents and go in search of food.\"\n",
              "</P>\n",
              "<P>\n",
              "More animals are expected to leave their natural habitats if the drought\n",
              "continues, officials said.\n",
              "</P>\n",
              "<P>\n",
              "\"I tell people who call that if we didn't have the big cats and the coyotes, we\n",
              "would be overrun by rodents,\" Jenks said. \"I would much rather hear a coyote in\n",
              "the distance than have roof rats.\"\n",
              "</P>\n",
              "<P>\n",
              "Don DeBusschere, who lives on a 45-acre walnut orchard in Happy Valley near\n",
              "Ojai, said his family has grown accustomed to wild animals. DeBusschere said he\n",
              "has seen scores of coyotes, several deer and a black bear.\n",
              "</P>\n",
              "<P>\n",
              "Recently, he said, two bobcats have moved into the trees on the edge of his\n",
              "property.\n",
              "</P>\n",
              "<P>\n",
              "\"They're not out to get humans,\" DeBusschere said. \"They're just trying to make\n",
              "a living off the land.\"\n",
              "</P>\n",
              "</TEXT></div>"
            ],
            "text/plain": [
              "<IPython.core.display.HTML object>"
            ]
          },
          "metadata": {},
          "output_type": "display_data"
        }
      ],
      "source": [
        "from pyserini.index import LuceneIndexReader\n",
        "from IPython.core.display import display, HTML\n",
        "\n",
        "reader = LuceneIndexReader.from_prebuilt_index('robust04')\n",
        "\n",
        "doc = reader.doc('LA092790-0015').raw()\n",
        "display(HTML('<div style=\"font-family: Times New Roman; padding-bottom:10px\">' + doc + '</div>'))"
      ]
    },
    {
      "cell_type": "markdown",
      "metadata": {
        "id": "1RMfMgWt8bgm"
      },
      "source": [
        "Note that the result is exactly the same as displaying the hit contents above. Given the raw text, we can obtain its analyzed form (i.e., tokenized, stemmed, stopwords removed, etc.). Here we show the first ten tokens:"
      ]
    },
    {
      "cell_type": "code",
      "execution_count": 6,
      "metadata": {
        "colab": {
          "base_uri": "https://localhost:8080/"
        },
        "id": "ZgNGM65F6m5h",
        "outputId": "34afa999-ae5d-41dd-ddb0-d183b7602300"
      },
      "outputs": [
        {
          "data": {
            "text/plain": [
              "['date',\n",
              " 'p',\n",
              " 'septemb',\n",
              " '27',\n",
              " '1990',\n",
              " 'thursdai',\n",
              " 'ventura',\n",
              " 'counti',\n",
              " 'edit',\n",
              " 'p']"
            ]
          },
          "execution_count": 6,
          "metadata": {},
          "output_type": "execute_result"
        }
      ],
      "source": [
        "analyzed = reader.analyze(doc)\n",
        "analyzed[0:10]"
      ]
    },
    {
      "cell_type": "markdown",
      "metadata": {
        "id": "Z5OUXedN89Yf"
      },
      "source": [
        "The index also stores the raw document vector, which we can obtain as a Python dictionary of analyzed terms to counts (i.e., term frequency).\n",
        "For brevity, we only look at terms that appear more than once:"
      ]
    },
    {
      "cell_type": "code",
      "execution_count": 7,
      "metadata": {
        "colab": {
          "base_uri": "https://localhost:8080/"
        },
        "id": "mMtneeJw8HDI",
        "outputId": "784561d7-d875-4836-fca2-e77189b6099f"
      },
      "outputs": [
        {
          "data": {
            "text/plain": [
              "{'been': 11,\n",
              " 'habitat': 2,\n",
              " 'year': 3,\n",
              " 'jenk': 4,\n",
              " 'mountain': 3,\n",
              " 'rees': 3,\n",
              " 'would': 2,\n",
              " 'debusscher': 3,\n",
              " 'near': 3,\n",
              " 'hungri': 3,\n",
              " 'past': 2,\n",
              " 'especi': 2,\n",
              " 'wildlif': 2,\n",
              " 'lion': 3,\n",
              " 'ventura': 4,\n",
              " 'anim': 9,\n",
              " 'forest': 2,\n",
              " 'two': 3,\n",
              " 'seen': 3,\n",
              " 'attack': 3,\n",
              " 'black': 2,\n",
              " 'i': 2,\n",
              " 'food': 3,\n",
              " 'counti': 4,\n",
              " 'rural': 3,\n",
              " \"they'r\": 5,\n",
              " 'sever': 3,\n",
              " 'california': 2,\n",
              " 'advis': 2,\n",
              " 'parch': 2,\n",
              " 'area': 4,\n",
              " 'she': 3,\n",
              " 'month': 4,\n",
              " 'deer': 3,\n",
              " 'famili': 2,\n",
              " 'we': 2,\n",
              " 'peopl': 2,\n",
              " 'just': 3,\n",
              " 'live': 2,\n",
              " 'drought': 4,\n",
              " 'ha': 3,\n",
              " 'he': 2,\n",
              " 'hi': 2,\n",
              " 'septemb': 2,\n",
              " 'yard': 2,\n",
              " 'elsewher': 2,\n",
              " 'natur': 2,\n",
              " 'out': 4,\n",
              " 'lot': 2,\n",
              " 'have': 16,\n",
              " 'leav': 2,\n",
              " 'more': 3,\n",
              " 'off': 2,\n",
              " 'ojai': 3,\n",
              " 'report': 4,\n",
              " 'bobcat': 4,\n",
              " 'coyot': 10,\n",
              " 'few': 2,\n",
              " 'bear': 4,\n",
              " 'depart': 2,\n",
              " 'author': 3,\n",
              " 'dry': 2,\n",
              " 'vallei': 4,\n",
              " 'who': 2,\n",
              " 'game': 2,\n",
              " 'resid': 2,\n",
              " 'hous': 3,\n",
              " 'cat': 3,\n",
              " 'sai': 2,\n",
              " 'said': 19,\n",
              " 'park': 2,\n",
              " 'on': 2,\n",
              " 'offici': 5,\n",
              " 'wild': 3}"
            ]
          },
          "execution_count": 7,
          "metadata": {},
          "output_type": "execute_result"
        }
      ],
      "source": [
        "doc_vector = reader.get_document_vector('LA092790-0015')\n",
        "{ k: v for (k, v) in doc_vector.items() if v >1 }"
      ]
    },
    {
      "cell_type": "markdown",
      "metadata": {
        "id": "GOFVMQKLyW1S"
      },
      "source": [
        "## Evaluating Ranked Results\n",
        "\n",
        "We can load some standard evaluation sets such as Robust04, which contains 250 queries, or \"topics\" as the TREC conferences call them."
      ]
    },
    {
      "cell_type": "code",
      "execution_count": 8,
      "metadata": {
        "colab": {
          "base_uri": "https://localhost:8080/"
        },
        "id": "Q1sdhbDTdwqf",
        "outputId": "b94c1a45-fd82-4ad5-849e-8d246c6f6671"
      },
      "outputs": [
        {
          "name": "stdout",
          "output_type": "stream",
          "text": [
            "250 queries total\n"
          ]
        }
      ],
      "source": [
        "from pyserini.search import get_topics\n",
        "topics = get_topics('robust04')\n",
        "print(f'{len(topics)} queries total')"
      ]
    },
    {
      "cell_type": "markdown",
      "metadata": {
        "id": "RbODj6sezBvB"
      },
      "source": [
        "The topics are in a dictionary, whose keys are integers uniquely identifying each query. Each topic contains the following fields:\n",
        "\n",
        "* `title`: TREC's term for the brief query a user might actually type;\n",
        "* `description`: a longer form of the query in the form of a complete sentence; and\n",
        "* `narrative`: a description of what the user is looking for and what kinds of results would be relevant or non-relevant."
      ]
    },
    {
      "cell_type": "code",
      "execution_count": 9,
      "metadata": {
        "colab": {
          "base_uri": "https://localhost:8080/"
        },
        "id": "KBOeSkJxy-8R",
        "outputId": "bbd2390e-36e7-4717-96ce-557ee6a9f350"
      },
      "outputs": [
        {
          "data": {
            "text/plain": [
              "{'narrative': 'A relevant document must as a minimum identify the organization and the type of illegal activity (e.g., Columbian cartel exporting cocaine). Vague references to international drug trade without identification of the organization(s) involved would not be relevant.',\n",
              " 'description': 'Identify organizations that participate in international criminal activity, the activity, and, if possible, collaborating organizations and the countries involved.',\n",
              " 'title': 'International Organized Crime'}"
            ]
          },
          "execution_count": 9,
          "metadata": {},
          "output_type": "execute_result"
        }
      ],
      "source": [
        "topics[301]"
      ]
    },
    {
      "cell_type": "markdown",
      "metadata": {
        "id": "gMbgbZVqyzdj"
      },
      "source": [
        "For the purpose of your experiments, we'll divide them into a development and test set."
      ]
    },
    {
      "cell_type": "code",
      "execution_count": 10,
      "metadata": {
        "id": "LILkqQDqd3Tj"
      },
      "outputs": [],
      "source": [
        "dev_topics = {k:topics[k] for k in list(topics.keys())[:125]}\n",
        "test_topics = {k:topics[k] for k in list(topics.keys())[125:]}"
      ]
    },
    {
      "cell_type": "markdown",
      "metadata": {
        "id": "HTY9-DMyzuU5"
      },
      "source": [
        "Now, we'll fetch the relevance judgments for the Robust04 queries, which TREC calls \"qrels\"."
      ]
    },
    {
      "cell_type": "code",
      "execution_count": 11,
      "metadata": {
        "id": "b53vacvvf6fw"
      },
      "outputs": [],
      "source": [
        "from urllib.request import urlopen\n",
        "\n",
        "qfile = 'https://github.com/castorini/anserini-tools/blob/63ceeab1dd94c1221f29b931d868e8fab67cc25c/topics-and-qrels/qrels.robust04.txt?raw=true'\n",
        "qrels = []\n",
        "for line in urlopen(qfile):\n",
        "  qid, round, docid, score = line.strip().split()\n",
        "  qrels.append([int(qid), 0, docid.decode('UTF-8'), int(score)])\n",
        "#qrels = [line.strip().split() for line in urlopen(qfile)]"
      ]
    },
    {
      "cell_type": "markdown",
      "metadata": {
        "id": "BXg8YO590Aky"
      },
      "source": [
        "Each record in the qrel contains four fields:\n",
        "\n",
        "1. the numeric identifier of the query;\n",
        "2. the round of relevance feedback, which is here always 0;\n",
        "3. the identifier of a documennt that has been judged; and\n",
        "4. the relevance score of that document.\n",
        "\n",
        "In Robust04, all relevance judgments are binary, i.e., 1 or 0. Note that not all non-relevant documents are recorded. The qrel file only contains those documents the annotators actually looked at; the vast majority of documents in the collection have not been judged. In IR evaluation, we assume that unannotated documents are non-relevant."
      ]
    },
    {
      "cell_type": "code",
      "execution_count": 12,
      "metadata": {
        "colab": {
          "base_uri": "https://localhost:8080/"
        },
        "id": "ZJblOI_pgZBh",
        "outputId": "ba11b85b-539b-4515-e223-24e5508c3f8d"
      },
      "outputs": [
        {
          "data": {
            "text/plain": [
              "[[301, 0, 'FBIS3-10082', 1],\n",
              " [301, 0, 'FBIS3-10169', 0],\n",
              " [301, 0, 'FBIS3-10243', 1],\n",
              " [301, 0, 'FBIS3-10319', 0],\n",
              " [301, 0, 'FBIS3-10397', 1],\n",
              " [301, 0, 'FBIS3-10491', 1],\n",
              " [301, 0, 'FBIS3-10555', 0],\n",
              " [301, 0, 'FBIS3-10622', 1],\n",
              " [301, 0, 'FBIS3-10634', 0],\n",
              " [301, 0, 'FBIS3-10635', 0]]"
            ]
          },
          "execution_count": 12,
          "metadata": {},
          "output_type": "execute_result"
        }
      ],
      "source": [
        "qrels[:10]"
      ]
    },
    {
      "cell_type": "markdown",
      "metadata": {
        "id": "LoDPnv1b04lP"
      },
      "source": [
        "## Computing Mean Average Precision\n",
        "\n",
        "The Robust04 collection uses binary relevance judgments and usually has multiple relevant results for each query. It is thus common to use **mean average precision** (MAP) to evaluate retrieval performance on it. Remember from class that MAP adds the precision at the position of each _relevant_ document in a ranked list and then divides by the total number of relevant documents. So that we don't have to scan through the entire collection, we usually evaluate MAP at some maximum rank value, such as 100 or 1000. We simply stop scanning at that maximum rank.\n",
        "\n",
        "As we saw above, you should pass a query string (the `title` of a topic) and the desired number of results to the `search` method of the `searcher` object."
      ]
    },
    {
      "cell_type": "markdown",
      "metadata": {
        "id": "407VkQsK8h6T"
      },
      "source": [
        "For this assignment, evaluate MAP@1000 for the list of `test_topics` we created above. You should process the `qrels` data to find the relevant results for each query."
      ]
    },
    {
      "cell_type": "code",
      "execution_count": 13,
      "metadata": {},
      "outputs": [
        {
          "name": "stderr",
          "output_type": "stream",
          "text": [
            "100%|██████████| 125/125 [00:05<00:00, 23.20it/s]"
          ]
        },
        {
          "name": "stdout",
          "output_type": "stream",
          "text": [
            "MAP@1000: 0.2616\n"
          ]
        },
        {
          "name": "stderr",
          "output_type": "stream",
          "text": [
            "\n"
          ]
        }
      ],
      "source": [
        "## TODO [35 points]: Compute MAP@1000 for test_topics\n",
        "# first process the qrels into a dictionary, where key is the query id and value is a list of dictionaries\n",
        "\n",
        "from tqdm import tqdm\n",
        "import numpy as np\n",
        "qrels_dict = {}\n",
        "for qid, round, docid, score in qrels:\n",
        "    if qid not in qrels_dict:\n",
        "        qrels_dict[qid] = []\n",
        "    qrels_dict[qid].append({'docid': docid, \"score\": score})\n",
        "\n",
        "def search_topic(topic_text, searcher, k=1000):\n",
        "    hits = searcher.search(topic_text, k)\n",
        "    docids = [hit.docid for hit in hits]\n",
        "    scores = [hit.score for hit in hits]\n",
        "    return docids, scores\n",
        "\n",
        "def compute_ap(qrels_list, docids):\n",
        "    \"\"\"Computes the average precision for a single query given the qrels and the retrieved documents.\n",
        "\n",
        "    Args:\n",
        "        qrels (list): A list of tuples in the format (topic_id, 0, doc_id, relevance)\n",
        "        docids (list): A list of retrieved documents based on the query\n",
        "    \"\"\"\n",
        "    \n",
        "    if docids is None or len(docids) == 0 or qrels_list is None or len(qrels_list) == 0:\n",
        "        return .0\n",
        "    \n",
        "    relevant_docs = {qrel['docid'] for qrel in qrels_list if qrel['score'] >= 1} \n",
        "    # all of the docs that are not in the relevant docs are irrelevant\n",
        "    \n",
        "    docids = np.array(docids)\n",
        "    \n",
        "    relevance_mask = np.isin(docids, list(relevant_docs))\n",
        "    \n",
        "    # compute the number of relevant docs at each rank\n",
        "    num_relevant_docs = np.cumsum(relevance_mask)\n",
        "    \n",
        "    # compute the precision at each rank\n",
        "    precision = num_relevant_docs / np.arange(1, len(docids) + 1)\n",
        "    \n",
        "    # Sum up only the precision scores where a relevant document was found\n",
        "    ap = np.sum(precision[relevance_mask]) / len(relevant_docs)\n",
        "    \n",
        "    return ap\n",
        "\n",
        "\n",
        "def compute_map(topics, searcher, qrels_dict, k=1000):\n",
        "    ap_scores = []\n",
        "    for qid, query in tqdm(topics.items()):\n",
        "        retrieved_docs, _ = search_topic(query['title'], searcher)\n",
        "        ap = compute_ap(qrels_dict.get(qid, []), retrieved_docs)\n",
        "        ap_scores.append(ap)\n",
        "    return sum(ap_scores) / len(ap_scores)\n",
        "\n",
        "map_1000_bm25 = compute_map(test_topics, searcher, qrels_dict)\n",
        "print(f'MAP@1000: {map_1000_bm25:.4f}')"
      ]
    },
    {
      "cell_type": "markdown",
      "metadata": {
        "id": "MpdecWki1sxo"
      },
      "source": [
        "## Implementing a Query Likelihood Model\n",
        "\n",
        "The default `LuceneSearcher` in pyserini uses a BM25 model. In this part of the assignment, you'll interact directly with the index to implement a query likelihood retrieval model.  For more details on pyserini's index API, [see the documentation](https://github.com/castorini/pyserini/blob/master/docs/usage-indexreader.md).\n",
        "\n",
        "We've already created an `IndexReader` for the Robust04 collection and assigned it to `reader`. Remember that we can pass documents or queries through the index's predefined analysis pipeline, a series of operations like stemming, stopword removal, etc."
      ]
    },
    {
      "cell_type": "code",
      "execution_count": 14,
      "metadata": {
        "colab": {
          "base_uri": "https://localhost:8080/"
        },
        "id": "HaDprYgo-yRz",
        "outputId": "f2e9b8a0-e366-4729-cf1e-9acbb4a885eb"
      },
      "outputs": [
        {
          "data": {
            "text/plain": [
              "['black', 'bear', 'attack']"
            ]
          },
          "execution_count": 14,
          "metadata": {},
          "output_type": "execute_result"
        }
      ],
      "source": [
        "reader.analyze('Are there black bear attacks there?')"
      ]
    },
    {
      "cell_type": "markdown",
      "metadata": {
        "id": "hs11fpZY-4H8"
      },
      "source": [
        "For most retrieval models, including BM25 and query likelihood, we'll want to know the overall statistics for the terms we retrieve from the index. By default, pyserini will do stemming and other \"analysis\" steps on the terms you give it. But since we're already working with stemmed queries, we'll tell it not to perform this analysis now."
      ]
    },
    {
      "cell_type": "code",
      "execution_count": 15,
      "metadata": {
        "colab": {
          "base_uri": "https://localhost:8080/"
        },
        "id": "ZNHf3z1Y_gy2",
        "outputId": "fe3011c4-e153-4212-912b-0fc6c6f53bd7"
      },
      "outputs": [
        {
          "name": "stdout",
          "output_type": "stream",
          "text": [
            "['bear']\n",
            "The document frequency is 16429 and the collection frequency is 23545.\n"
          ]
        }
      ],
      "source": [
        "# Just checking that our term is already in its index form.\n",
        "print(reader.analyze('bear'))\n",
        "\n",
        "df, cf = reader.get_term_counts('bear', analyzer=None)\n",
        "print(f'The document frequency is {df} and the collection frequency is {cf}.')"
      ]
    },
    {
      "cell_type": "markdown",
      "metadata": {
        "id": "FLGz4mncCuyd"
      },
      "source": [
        "You might also want to know summary statistics about the collection."
      ]
    },
    {
      "cell_type": "code",
      "execution_count": 16,
      "metadata": {
        "colab": {
          "base_uri": "https://localhost:8080/"
        },
        "id": "7L0l9hO4Cx5V",
        "outputId": "0a5ffdd6-81e2-40e6-9e40-3482e42113b2"
      },
      "outputs": [
        {
          "data": {
            "text/plain": [
              "{'total_terms': 174540872,\n",
              " 'documents': 528030,\n",
              " 'non_empty_documents': 528030,\n",
              " 'unique_terms': 923436}"
            ]
          },
          "execution_count": 16,
          "metadata": {},
          "output_type": "execute_result"
        }
      ],
      "source": [
        "reader.stats()"
      ]
    },
    {
      "cell_type": "markdown",
      "metadata": {
        "id": "o7878QVlAPWA"
      },
      "source": [
        "Now let's traverse the postings for a term."
      ]
    },
    {
      "cell_type": "code",
      "execution_count": 17,
      "metadata": {
        "colab": {
          "base_uri": "https://localhost:8080/"
        },
        "id": "rWdztSSQAaVs",
        "outputId": "c2fff0fb-78f7-42dc-c8b5-320b167b0d38"
      },
      "outputs": [
        {
          "name": "stdout",
          "output_type": "stream",
          "text": [
            "There are 16429 postings.\n",
            "Each posting contains a document ID (3405), term frequency (1), and position list ([461]).\n",
            "searcher has a method for turning internal integer IDs like 3405 into external IDs like LA031889-0009.\n"
          ]
        }
      ],
      "source": [
        "posting_list = reader.get_postings_list('bear', analyzer=None)\n",
        "print(f'There are {len(posting_list)} postings.')\n",
        "\n",
        "posting = posting_list[100]\n",
        "print(f'Each posting contains a document ID ({posting.docid}), term frequency ({posting.tf}), and position list ({posting.positions}).')\n",
        "\n",
        "print(f'searcher has a method for turning internal integer IDs like {posting.docid} into external IDs like {searcher.doc(posting.docid).docid()}.')"
      ]
    },
    {
      "cell_type": "markdown",
      "metadata": {
        "id": "pZ_vT4DeMbB4"
      },
      "source": [
        "If, instead of mapping terms to documents, you want to use a document name to get term information, see above for the `get_document_vector` method.\n",
        "\n",
        "Finally, it will be useful to have some information about each document in the collection, which is saved in a file in the GitHub repository."
      ]
    },
    {
      "cell_type": "code",
      "execution_count": 18,
      "metadata": {
        "id": "SRBbXWVVLsbg"
      },
      "outputs": [],
      "source": [
        "import json\n",
        "docfile = urlopen('https://github.com/dasmiq/cs6200-retrieval-models/raw/refs/heads/main/doclen.jsonl')\n",
        "docinfo = [json.loads(line) for line in docfile]"
      ]
    },
    {
      "cell_type": "markdown",
      "metadata": {
        "id": "vckk4zn5Mh6Q"
      },
      "source": [
        "Each record in that file contains the document `id`, its interned numeric `iid`, and the number of tokens `n`."
      ]
    },
    {
      "cell_type": "code",
      "execution_count": 19,
      "metadata": {},
      "outputs": [
        {
          "data": {
            "text/plain": [
              "528030"
            ]
          },
          "execution_count": 19,
          "metadata": {},
          "output_type": "execute_result"
        }
      ],
      "source": [
        "len(docinfo)"
      ]
    },
    {
      "cell_type": "markdown",
      "metadata": {
        "id": "F9KdZ6LLMiBS"
      },
      "source": [
        "Use Dirichlet smoothing with $\\mu$ equal to the mean document length in the collection."
      ]
    },
    {
      "cell_type": "code",
      "execution_count": 20,
      "metadata": {
        "id": "0Xv7_QT6ZvlO"
      },
      "outputs": [
        {
          "name": "stdout",
          "output_type": "stream",
          "text": [
            "The mean document length is 330.55.\n"
          ]
        }
      ],
      "source": [
        "# TODO [2 points]: Compute the mean document length from collection statistics.\n",
        "mu = np.sum([doc['n'] for doc in docinfo]) / len(docinfo)\n",
        "print(f'The mean document length is {mu:.2f}.')"
      ]
    },
    {
      "cell_type": "markdown",
      "metadata": {
        "id": "YbukLAzSZ3U1"
      },
      "source": [
        "Now you should have all the information you need to implement a query likelihood retrieval model."
      ]
    },
    {
      "cell_type": "code",
      "execution_count": 21,
      "metadata": {
        "id": "PKAzgxzwNQ8v"
      },
      "outputs": [
        {
          "name": "stdout",
          "output_type": "stream",
          "text": [
            "1000\n",
            "LA081689-0039 -16.3315\n",
            "LA092790-0015 -16.5745\n",
            "FBIS4-16530 -16.6780\n",
            "LA102589-0076 -17.2878\n",
            "FT932-15491 -17.4790\n",
            "FBIS3-12276 -17.5706\n",
            "LA091090-0085 -17.6674\n",
            "FT931-736 -17.7476\n",
            "FT922-13519 -17.8078\n",
            "LA122889-0122 -17.8343\n"
          ]
        }
      ],
      "source": [
        "## TODO [50 points]: Implement a query likelihood model with Dirichlet smoothing.\n",
        "## For a given query, index reader, and constant k, return the k documents with the highest query likelihoods.\n",
        "## Think about what data structure would let you keep the top k.\n",
        "\n",
        "# in order to maintain top k values I am going to use a sorted list\n",
        "# at each time I will insert a new value to keep the list sorted, I will check if the length of the list is greater than k\n",
        "# if it is I will remove the first element \n",
        "\n",
        "# I am going to use the library bisect to insert the new value in the correct position\n",
        "\n",
        "import bisect # https://docs.python.org/3/library/bisect.html\n",
        "\n",
        "\n",
        "def dirchlet_search(query, reader, docinfo = docinfo, k=1000):\n",
        "    query_terms = reader.analyze(query)\n",
        "    top_k = []\n",
        "    mu = np.sum([doc['n'] for doc in docinfo]) / len(docinfo)\n",
        "    \n",
        "    # define a list of docs that we want to go over, it should contain at least a single value in the query\n",
        "    docs = set()\n",
        "    term_doc_frequencies = {}\n",
        "    term_c_frequencies = {}\n",
        "    #print(\"Retrieving the term frequencies\")\n",
        "    for term in query_terms:\n",
        "        posting_list = reader.get_postings_list(term, analyzer=None)\n",
        "        term_c_frequencies[term] = reader.get_term_counts(term, analyzer=None)[1]\n",
        "        term_doc = {}\n",
        "        for posting in posting_list:\n",
        "            docs.add(posting.docid)\n",
        "            term_doc[posting.docid] = posting.tf\n",
        "        term_doc_frequencies[term] = term_doc\n",
        "            \n",
        "    \n",
        "    #print(\"Computing likelihoods\")\n",
        "    top_k = []\n",
        "    C = reader.stats()['total_terms'] # total number of terms in collection\n",
        "    for docid in docs:\n",
        "        single_docinfo = docinfo[docid]\n",
        "        D = single_docinfo['n'] # number of terms in the document\n",
        "        score = 0\n",
        "        for term in query_terms:\n",
        "            cf = term_c_frequencies[term] # get the document and collection frequency\n",
        "            # get the term frequency for the term in the document\n",
        "            tf = term_doc_frequencies[term].get(docid, 0)\n",
        "            # compute the log likelihood\n",
        "            score += np.log((tf + mu * cf / C)/ (D + mu))\n",
        "            \n",
        "        # get the document external id because this is how the searcher is returning it\n",
        "        docid_external = searcher.doc(docid).docid()\n",
        "        # insert the score in the correct position\n",
        "        bisect.insort(top_k, (docid_external, score), key=lambda x: x[1])\n",
        "        # remove the first element if the length is greater than k\n",
        "        if len(top_k) > k:\n",
        "            top_k.pop(0)\n",
        "    top_k.reverse()\n",
        "    # return in the same format as reader.search function\n",
        "    \n",
        "    return top_k\n",
        "\n",
        "            \n",
        "# testing the function\n",
        "top_k = dirchlet_search('black bear attacks', reader, docinfo, 1000)\n",
        "print(len(top_k))\n",
        "for docid, score in top_k[:10]:\n",
        "    print(f'{docid} {score:.4f}')\n"
      ]
    },
    {
      "cell_type": "markdown",
      "metadata": {
        "id": "xKVt8NkKQlqV"
      },
      "source": [
        "Now you can reuse some of your evaluation code for mean average precision from above."
      ]
    },
    {
      "cell_type": "code",
      "execution_count": 22,
      "metadata": {
        "id": "67coeQ03NcN6"
      },
      "outputs": [
        {
          "name": "stderr",
          "output_type": "stream",
          "text": [
            "100%|██████████| 125/125 [05:30<00:00,  2.64s/it]"
          ]
        },
        {
          "name": "stdout",
          "output_type": "stream",
          "text": [
            "MAP@1000: 0.2579\n"
          ]
        },
        {
          "name": "stderr",
          "output_type": "stream",
          "text": [
            "\n"
          ]
        }
      ],
      "source": [
        "## TODO [13 points]: Compute the MAP@1000 of your query likelihood model on the test_topics set.\n",
        "from dataclasses import dataclass\n",
        "\n",
        "# create a dummy searcher class that has only search method so I can reuse the compute_map function\n",
        "@dataclass\n",
        "class DocScore:\n",
        "    docid: str\n",
        "    score: float\n",
        "\n",
        "class DummySearcher:\n",
        "    def __init__(self, reader, docinfo):\n",
        "        self.reader = reader\n",
        "        self.docinfo = docinfo\n",
        "    \n",
        "    def search(self, query, k):\n",
        "        temp_res = dirchlet_search(query, self.reader, self.docinfo, k)\n",
        "        # convert the results to the same format as the searcher\n",
        "        return [DocScore(docid, score) for docid, score in temp_res]\n",
        "\n",
        "dummy_searcher = DummySearcher(reader, docinfo)\n",
        "\n",
        "map_1000 = compute_map(test_topics, dummy_searcher, qrels_dict)\n",
        "print(f'MAP@1000: {map_1000:.4f}')"
      ]
    },
    {
      "cell_type": "code",
      "execution_count": 23,
      "metadata": {},
      "outputs": [
        {
          "name": "stdout",
          "output_type": "stream",
          "text": [
            "0.26161264686447017\n"
          ]
        }
      ],
      "source": [
        "print(map_1000_bm25)"
      ]
    }
  ],
  "metadata": {
    "colab": {
      "include_colab_link": true,
      "provenance": []
    },
    "kernelspec": {
      "display_name": "ds6220",
      "language": "python",
      "name": "python3"
    },
    "language_info": {
      "codemirror_mode": {
        "name": "ipython",
        "version": 3
      },
      "file_extension": ".py",
      "mimetype": "text/x-python",
      "name": "python",
      "nbconvert_exporter": "python",
      "pygments_lexer": "ipython3",
      "version": "3.11.11"
    }
  },
  "nbformat": 4,
  "nbformat_minor": 0
}
