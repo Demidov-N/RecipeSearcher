{
 "cells": [
  {
   "cell_type": "code",
   "execution_count": 1,
   "metadata": {},
   "outputs": [
    {
     "name": "stderr",
     "output_type": "stream",
     "text": [
      "/home/redbear/miniforge3/envs/rsr/lib/python3.12/site-packages/tqdm/auto.py:21: TqdmWarning: IProgress not found. Please update jupyter and ipywidgets. See https://ipywidgets.readthedocs.io/en/stable/user_install.html\n",
      "  from .autonotebook import tqdm as notebook_tqdm\n"
     ]
    }
   ],
   "source": [
    "from pyserini.index.lucene import LuceneIndexReader\n",
    "from pyserini.search.lucene import LuceneSearcher"
   ]
  },
  {
   "cell_type": "code",
   "execution_count": 2,
   "metadata": {},
   "outputs": [
    {
     "name": "stderr",
     "output_type": "stream",
     "text": [
      "Apr 20, 2025 11:54:20 PM org.apache.lucene.store.MMapDirectory lookupProvider\n",
      "WARNING: You are running with Java 22 or later. To make full use of MMapDirectory, please update Apache Lucene.\n",
      "WARNING: A terminally deprecated method in sun.misc.Unsafe has been called\n",
      "WARNING: sun.misc.Unsafe::invokeCleaner has been called by org.apache.lucene.store.MappedByteBufferIndexInputProvider (file:/home/redbear/miniforge3/envs/rsr/lib/python3.12/site-packages/pyserini/resources/jars/anserini-0.38.0-fatjar.jar)\n",
      "WARNING: Please consider reporting this to the maintainers of class org.apache.lucene.store.MappedByteBufferIndexInputProvider\n",
      "WARNING: sun.misc.Unsafe::invokeCleaner will be removed in a future release\n"
     ]
    }
   ],
   "source": [
    "reader = LuceneIndexReader('indexes/content')"
   ]
  }
 ],
 "metadata": {
  "kernelspec": {
   "display_name": "rsr",
   "language": "python",
   "name": "python3"
  },
  "language_info": {
   "codemirror_mode": {
    "name": "ipython",
    "version": 3
   },
   "file_extension": ".py",
   "mimetype": "text/x-python",
   "name": "python",
   "nbconvert_exporter": "python",
   "pygments_lexer": "ipython3",
   "version": "3.12.9"
  }
 },
 "nbformat": 4,
 "nbformat_minor": 2
}
