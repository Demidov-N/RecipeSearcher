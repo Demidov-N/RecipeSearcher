{
 "cells": [
  {
   "cell_type": "code",
   "execution_count": 1,
   "metadata": {},
   "outputs": [],
   "source": [
    "import json\n",
    "with open(\"files/raw/foodrecipes_new.json\", \"r\") as f:\n",
    "    foodrecipes = json.load(f)"
   ]
  },
  {
   "cell_type": "code",
   "execution_count": 3,
   "metadata": {},
   "outputs": [
    {
     "data": {
      "text/plain": [
       "{'title': '30 minute Chili (quick)',\n",
       " 'keywords': ['One Dish Meal',\n",
       "  'Lunch/Snacks',\n",
       "  'Black Beans',\n",
       "  'Beans',\n",
       "  'Vegetable',\n",
       "  'Meat',\n",
       "  'Southwestern U.S.',\n",
       "  'Winter',\n",
       "  'Spicy',\n",
       "  'Brunch',\n",
       "  '< 30 Mins',\n",
       "  'Beginner Cook',\n",
       "  'Stove Top',\n",
       "  'Easy',\n",
       "  'Inexpensive'],\n",
       " 'yields': '8 servings',\n",
       " 'description': 'Quick and great flavor. Please rate this after you make it. I would like to know what you think. (good or bad)',\n",
       " 'ingredients': ['ground beef',\n",
       "  'rotel tomato & chilie',\n",
       "  'mild chili with bean',\n",
       "  'black bean',\n",
       "  'red kidney bean']}"
      ]
     },
     "execution_count": 3,
     "metadata": {},
     "output_type": "execute_result"
    }
   ],
   "source": [
    "foodrecipes[1]"
   ]
  },
  {
   "cell_type": "code",
   "execution_count": 9,
   "metadata": {},
   "outputs": [],
   "source": [
    "import recipe_processing.clean_ingredients as clean_ingredients"
   ]
  },
  {
   "cell_type": "code",
   "execution_count": 38,
   "metadata": {},
   "outputs": [
    {
     "data": {
      "text/plain": [
       "{'quantity': '2', 'unit': 'chicken', 'name': 'breast', 'preparation': ''}"
      ]
     },
     "execution_count": 38,
     "metadata": {},
     "output_type": "execute_result"
    }
   ],
   "source": [
    "ingredient = \"2 chicken breasts\"\n",
    "\n",
    "clean_ingredients.parse_ingredient(ingredient)"
   ]
  },
  {
   "cell_type": "code",
   "execution_count": 44,
   "metadata": {},
   "outputs": [
    {
     "data": {
      "text/plain": [
       "ParsedIngredient(name=[IngredientText(text='chicken breasts', confidence=0.995804, starting_index=1)], size=None, amount=[IngredientAmount(quantity=Fraction(2, 1), quantity_max=Fraction(2, 1), unit='', text='2', confidence=0.999814, starting_index=0, APPROXIMATE=False, SINGULAR=False, RANGE=False, MULTIPLIER=False, PREPARED_INGREDIENT=False)], preparation=None, comment=None, purpose=None, foundation_foods=[], sentence='2 chicken breasts')"
      ]
     },
     "execution_count": 44,
     "metadata": {},
     "output_type": "execute_result"
    }
   ],
   "source": [
    "from ingredient_parser import parse_ingredient\n",
    "\n",
    "parse_ingredient(ingredient)"
   ]
  },
  {
   "cell_type": "code",
   "execution_count": 42,
   "metadata": {},
   "outputs": [],
   "source": [
    "import spacy\n",
    "\n",
    "nlp = spacy.load(\"en_core_web_sm\")"
   ]
  }
 ],
 "metadata": {
  "kernelspec": {
   "display_name": "rsr",
   "language": "python",
   "name": "python3"
  },
  "language_info": {
   "codemirror_mode": {
    "name": "ipython",
    "version": 3
   },
   "file_extension": ".py",
   "mimetype": "text/x-python",
   "name": "python",
   "nbconvert_exporter": "python",
   "pygments_lexer": "ipython3",
   "version": "3.12.9"
  }
 },
 "nbformat": 4,
 "nbformat_minor": 2
}
