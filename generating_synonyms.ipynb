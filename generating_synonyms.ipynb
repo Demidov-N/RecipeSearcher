{
 "cells": [
  {
   "cell_type": "code",
   "execution_count": 2,
   "metadata": {},
   "outputs": [
    {
     "name": "stderr",
     "output_type": "stream",
     "text": [
      "WARNING: Using incubator modules: jdk.incubator.vector\n",
      "Apr 15, 2025 10:46:05 PM org.apache.lucene.store.MMapDirectory lookupProvider\n",
      "WARNING: You are running with Java 22 or later. To make full use of MMapDirectory, please update Apache Lucene.\n",
      "WARNING: A terminally deprecated method in sun.misc.Unsafe has been called\n",
      "WARNING: sun.misc.Unsafe::invokeCleaner has been called by org.apache.lucene.store.MappedByteBufferIndexInputProvider (file:/home/redbear/miniforge3/envs/rsr/lib/python3.12/site-packages/pyserini/resources/jars/anserini-0.38.0-fatjar.jar)\n",
      "WARNING: Please consider reporting this to the maintainers of class org.apache.lucene.store.MappedByteBufferIndexInputProvider\n",
      "WARNING: sun.misc.Unsafe::invokeCleaner will be removed in a future release\n"
     ]
    }
   ],
   "source": [
    "from pyserini.index.lucene import LuceneIndexReader\n",
    "\n",
    "class LuceneCustomRecipeReader(LuceneIndexReader):\n",
    "    \"\"\"Custom Lucene index reader for recipe search. The only addition is that every time the required\n",
    "    methods are called, we are going to first process the recipe into the undercores, bacuse by default the \n",
    "    Anserini is not supporting full phrase indexing \"\"\"\n",
    "    \n",
    "    def _preprocess_ingredient(self, ingredient):\n",
    "        return ingredient.replace(' ', '_')\n",
    "    \n",
    "    def get_postings_list(self, term, analyzer=None):\n",
    "        term = self._preprocess_ingredient(term)\n",
    "        return super().get_postings_list(term, analyzer=analyzer)\n",
    "    \n",
    "    def get_term_counts(self, term, analyzer = None):\n",
    "        term = self._preprocess_ingredient(term)\n",
    "        return super().get_term_counts(term, analyzer)\n",
    "    \n",
    "    def get_term_freq(self, term, docid, analyzer=None):\n",
    "        term = self._preprocess_ingredient(term)\n",
    "        return super().get_term_freq(term, docid, analyzer) \n",
    "    \n",
    "recipe_reader = LuceneCustomRecipeReader('indexes/ingredients_pretokenized')\n"
   ]
  },
  {
   "cell_type": "code",
   "execution_count": 3,
   "metadata": {},
   "outputs": [],
   "source": [
    "import itertools\n",
    "\n",
    "tf_list = []\n",
    "\n",
    "\n",
    "\n",
    "for term in recipe_reader.terms():\n",
    "    tf_list.append((term.term, term.df))\n",
    "    \n",
    "tf_list = sorted(tf_list, key=lambda x: x[1], reverse=True)\n",
    "\n",
    "\n",
    "tf_list_base_words = [(ingredient.replace('_', ' '), tf) for ingredient, tf in tf_list]\n",
    "tf_list_base_words_dict = {ingredient: tf for ingredient, tf in tf_list_base_words}\n"
   ]
  },
  {
   "cell_type": "code",
   "execution_count": 7,
   "metadata": {},
   "outputs": [],
   "source": [
    "# do the same thing but use the BERT model \n",
    "from sentence_transformers import SentenceTransformer, util\n",
    "import torch\n",
    "\n",
    "model = SentenceTransformer(\"sentence-transformers/all-MiniLM-L6-v2\")\n",
    "# encode the ingredients\n",
    "\n",
    "ingredients = [i[0] for i in tf_list_base_words if i[1] > 1]\n",
    "\n",
    "ingredients_embeddings = model.encode(ingredients, convert_to_tensor=True)"
   ]
  },
  {
   "cell_type": "code",
   "execution_count": 15,
   "metadata": {},
   "outputs": [
    {
     "name": "stderr",
     "output_type": "stream",
     "text": [
      "Processing recipes: 100%|██████████| 23236/23236 [01:37<00:00, 237.41it/s]\n"
     ]
    }
   ],
   "source": [
    "import numpy as np\n",
    "import math\n",
    "from tqdm import tqdm\n",
    "\n",
    "def build_synonym_dict_numpy(ingredients, embeddings, tf_list_base_words_dict, \n",
    "                             alpha=0.5, sim_cutoff=0.6, min_sim=0.5, top_k=100):\n",
    "    # Convert embeddings to NumPy if necessary.\n",
    "    if hasattr(embeddings, 'cpu'):\n",
    "        embeddings = embeddings.cpu().numpy()\n",
    "    else:\n",
    "        embeddings = np.array(embeddings)\n",
    "    \n",
    "    # Normalize embeddings (each row becomes a unit vector).\n",
    "    norms = np.linalg.norm(embeddings, axis=1, keepdims=True)\n",
    "    normalized = embeddings / norms\n",
    "    \n",
    "    # Precompute the adjusted term frequency vector.\n",
    "    log_tf = np.array([math.log(tf_list_base_words_dict.get(ing, 0) + 1) for ing in ingredients],\n",
    "                      dtype=np.float32)\n",
    "    adjusted_tf = log_tf ** alpha\n",
    "    \n",
    "    synonym_dict = {}\n",
    "    N = len(ingredients)\n",
    "    \n",
    "    # Process each ingredient (row) one at a time.\n",
    "    for i in tqdm(range(N), desc=\"Processing recipes\"):\n",
    "        # Compute cosine similarity for ingredient i with all ingredients.\n",
    "        cosine_row = np.dot(normalized[i], normalized.T)\n",
    "        \n",
    "        # Apply cutoffs.\n",
    "        effective_cosine = cosine_row.copy()\n",
    "        effective_cosine[effective_cosine < sim_cutoff] = 0.0\n",
    "        effective_cosine[effective_cosine < min_sim] = 0.0\n",
    "        \n",
    "        # Compute weighted score.\n",
    "        weighted_scores = effective_cosine * adjusted_tf\n",
    "        weighted_scores[i] = 0.0  # Exclude self\n",
    "        \n",
    "        # Extract top_k candidates using argpartition.\n",
    "        if top_k < len(weighted_scores):\n",
    "            top_indices_unsorted = np.argpartition(weighted_scores, -top_k)[-top_k:]\n",
    "        else:\n",
    "            top_indices_unsorted = np.arange(len(weighted_scores))\n",
    "        sorted_indices = top_indices_unsorted[np.argsort(weighted_scores[top_indices_unsorted])[::-1]]\n",
    "        \n",
    "        # Build candidate tuples: (ingredient, weighted_score, raw_cosine).\n",
    "        candidates = [(ingredients[j], float(weighted_scores[j]), float(cosine_row[j]))\n",
    "                      for j in sorted_indices]\n",
    "        synonym_dict[ingredients[i]] = candidates[:top_k]\n",
    "    \n",
    "    return synonym_dict\n",
    "\n",
    "# Example usage:\n",
    "synonym_dict = build_synonym_dict_numpy(ingredients, ingredients_embeddings, tf_list_base_words_dict,\n",
    "                                         alpha=0.2, sim_cutoff=0.6, min_sim=0.5, top_k=100)\n"
   ]
  },
  {
   "cell_type": "code",
   "execution_count": 18,
   "metadata": {},
   "outputs": [],
   "source": [
    "with open(\"files/other/synonyms.json\", \"w\") as f:\n",
    "    json.dump(synonym_dict, f)\n",
    "    "
   ]
  },
  {
   "cell_type": "code",
   "execution_count": 9,
   "metadata": {},
   "outputs": [
    {
     "data": {
      "text/plain": [
       "Text(0.5, 0, 'Term Frequency')"
      ]
     },
     "execution_count": 9,
     "metadata": {},
     "output_type": "execute_result"
    },
    {
     "data": {
      "image/png": "[encoded data removed]",
      "text/plain": [
       "<Figure size 1000x500 with 1 Axes>"
      ]
     },
     "metadata": {},
     "output_type": "display_data"
    }
   ],
   "source": [
    "import matplotlib.pyplot as plt\n",
    "import numpy as np\n",
    "\n",
    "# plot the distribution of the term frequencies\n",
    "plt.figure(figsize=(10, 5))\n",
    "plt.hist([np.log10(tf) for _, tf in tf_list if tf > 1], bins=100)\n",
    "plt.xlabel('Term Frequency')"
   ]
  },
  {
   "cell_type": "code",
   "execution_count": null,
   "metadata": {},
   "outputs": [],
   "source": []
  }
 ],
 "metadata": {
  "kernelspec": {
   "display_name": "rsr",
   "language": "python",
   "name": "python3"
  },
  "language_info": {
   "codemirror_mode": {
    "name": "ipython",
    "version": 3
   },
   "file_extension": ".py",
   "mimetype": "text/x-python",
   "name": "python",
   "nbconvert_exporter": "python",
   "pygments_lexer": "ipython3",
   "version": "3.12.9"
  }
 },
 "nbformat": 4,
 "nbformat_minor": 2
}
