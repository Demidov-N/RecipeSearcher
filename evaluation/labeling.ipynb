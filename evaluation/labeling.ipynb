{
 "cells": [
  {
   "cell_type": "code",
   "execution_count": 2,
   "metadata": {},
   "outputs": [],
   "source": [
    "import json\n",
    "import os, sys\n",
    "\n",
    "path = os.path.abspath(os.pardir)\n",
    "if path not in sys.path:\n",
    "    sys.path.append(path)\n",
    "\n",
    "# change the current directory \n",
    "os.chdir(path)"
   ]
  },
  {
   "cell_type": "code",
   "execution_count": 3,
   "metadata": {},
   "outputs": [],
   "source": [
    "with open('evaluation/results.json', 'r') as f:\n",
    "    results_json = json.load(f)"
   ]
  },
  {
   "cell_type": "code",
   "execution_count": 4,
   "metadata": {},
   "outputs": [],
   "source": [
    "# select IDS For the labeling\n",
    "ids = [0, 1, 2]"
   ]
  },
  {
   "cell_type": "code",
   "execution_count": 5,
   "metadata": {},
   "outputs": [
    {
     "data": {
      "text/plain": [
       "{'ingredients': 'pasta, tomato',\n",
       " 'keywords': '',\n",
       " 'results': [['https://www.food.com/recipe/garlic-herb-eggplant-aubergine-rolls-115960',\n",
       "   0.9998306781637181],\n",
       "  ['https://www.food.com/recipe/creamy-italian-pasta-295595',\n",
       "   0.4998274263342583],\n",
       "  ['https://www.food.com/recipe/beef-parmesan-280976', 0.33313866587138247],\n",
       "  ['https://www.food.com/recipe/hot-dog-goulash-157395', 0.24979396876794724],\n",
       "  ['https://www.food.com/recipe/cheesy-stuffed-shells-169282',\n",
       "   0.19979338190393636],\n",
       "  ['https://www.food.com/recipe/homemade-marinara-sauce-73868',\n",
       "   0.16647976870046333],\n",
       "  ['https://www.food.com/recipe/garden-fresh-spaghetti-64548',\n",
       "   0.14269527659730932],\n",
       "  ['https://www.food.com/recipe/cheesy-chicken-and-pasta-shell-casserole-498333',\n",
       "   0.12482711748964616],\n",
       "  ['https://www.food.com/recipe/cheesy-shell-lasagne-mmm-367231',\n",
       "   0.11092002015307365],\n",
       "  ['https://www.food.com/recipe/chicken-tomato-pasta-soup-402865',\n",
       "   0.09977938507109074]]}"
      ]
     },
     "execution_count": 5,
     "metadata": {},
     "output_type": "execute_result"
    }
   ],
   "source": [
    "results_json[0]"
   ]
  },
  {
   "cell_type": "code",
   "execution_count": 10,
   "metadata": {},
   "outputs": [
    {
     "name": "stderr",
     "output_type": "stream",
     "text": [
      "100%|██████████| 483137/483137 [00:00<00:00, 986749.09it/s] \n"
     ]
    }
   ],
   "source": [
    "from tqdm import tqdm\n",
    "with open('files/raw/foodrecipes.json', 'r') as f:\n",
    "    data = json.load(f)\n",
    "data_indexed = {}\n",
    "for recipe in tqdm(data):\n",
    "    recipe_url = recipe['canonical_url']\n",
    "    data_indexed[recipe_url] = recipe\n",
    "del data"
   ]
  },
  {
   "cell_type": "code",
   "execution_count": 12,
   "metadata": {},
   "outputs": [],
   "source": [
    "# build the labeling tasks\n",
    "\n",
    "results_subset = [results_json[i] for i in ids]\n",
    "ingredeints = [r['ingredients'] for r in results_subset for _ in r['results']]\n",
    "keywords = [r['keywords'] for r in results_subset for _ in r['results']]\n",
    "queries = [f\"Ingredients: {r['ingredients']}. Kewords: {r['keywords']}\"\n",
    "           for r in results_subset\n",
    "           for _ in r['results']]\n",
    "score = [float(r['results'][i][1]) for r in results_subset for i in range(len(r['results']))]\n",
    "recipe_subset = [data_indexed[r['results'][i][0]] for r in results_subset for i in range(len(r['results']))]\n",
    "annotations = []"
   ]
  },
  {
   "cell_type": "code",
   "execution_count": 13,
   "metadata": {},
   "outputs": [
    {
     "data": {
      "application/vnd.jupyter.widget-view+json": {
       "model_id": "c02a4d19da20437bb0704a40f084957f",
       "version_major": 2,
       "version_minor": 0
      },
      "text/plain": [
       "Label(value='1 / 40')"
      ]
     },
     "metadata": {},
     "output_type": "display_data"
    },
    {
     "data": {
      "application/vnd.jupyter.widget-view+json": {
       "model_id": "28e74eb1f7c0418e872c958e7098e756",
       "version_major": 2,
       "version_minor": 0
      },
      "text/plain": [
       "ToggleButtons(description='Label:', options=('Relevant', 'Not Relevant'), value='Relevant')"
      ]
     },
     "metadata": {},
     "output_type": "display_data"
    },
    {
     "data": {
      "application/vnd.jupyter.widget-view+json": {
       "model_id": "782e20e18b934ae3b7b2a56f99659b3b",
       "version_major": 2,
       "version_minor": 0
      },
      "text/plain": [
       "Button(description='Next', style=ButtonStyle())"
      ]
     },
     "metadata": {},
     "output_type": "display_data"
    },
    {
     "data": {
      "application/vnd.jupyter.widget-view+json": {
       "model_id": "3adafe91082b4c2c90bce5c64647143c",
       "version_major": 2,
       "version_minor": 0
      },
      "text/plain": [
       "Button(description='Skip', style=ButtonStyle())"
      ]
     },
     "metadata": {},
     "output_type": "display_data"
    },
    {
     "data": {
      "application/vnd.jupyter.widget-view+json": {
       "model_id": "1019df880d8640cf88220a3102e942f5",
       "version_major": 2,
       "version_minor": 0
      },
      "text/plain": [
       "Output()"
      ]
     },
     "metadata": {},
     "output_type": "display_data"
    }
   ],
   "source": [
    "# setup widgets\n",
    "import ipywidgets as widgets\n",
    "from IPython.display import display, clear_output\n",
    "from pprint import pprint\n",
    "\n",
    "index = 0\n",
    "\n",
    "output = widgets.Output()\n",
    "label_buttons = widgets.ToggleButtons(\n",
    "    options=[\"Relevant\", \"Not Relevant\"],\n",
    "    description='Label:',\n",
    "    button_style=''\n",
    ")\n",
    "\n",
    "\n",
    "next_button = widgets.Button(description=\"Next\")\n",
    "skip_button = widgets.Button(description=\"Skip\")\n",
    "progress_label = widgets.Label()\n",
    "\n",
    "def update_display():\n",
    "    with output:\n",
    "        clear_output(wait=True)\n",
    "        print(f\"Query: {queries[index]}\")\n",
    "        print(f\"Recipe {index + 1} of {len(recipe_subset)}:\")\n",
    "        pprint(recipe_subset[index])\n",
    "        progress_label.value = f\"{index + 1} / {len(recipe_subset)}\"\n",
    "\n",
    "def on_next_clicked(b):\n",
    "    global index\n",
    "    annotations.append({\n",
    "        \"ingredients\": ingredeints[index],\n",
    "        'keywords': keywords[index],   \n",
    "        'url': recipe_subset[index]['canonical_url'],\n",
    "        \"recipe\": recipe_subset[index],\n",
    "        'score': score[index],\n",
    "        \"label\": label_buttons.value\n",
    "    })\n",
    "    index += 1\n",
    "    if index < len(recipe_subset):\n",
    "        update_display()\n",
    "    else:\n",
    "        with output:\n",
    "            clear_output()\n",
    "            print(\"Labeling complete!\")\n",
    "        next_button.disabled = True\n",
    "        label_buttons.disabled = True\n",
    "        skip_button.disabled = True\n",
    "        progress_label.value = f\"{len(recipe_subset)} / {len(recipe_subset)}\"\n",
    "\n",
    "def on_skip_clicked(b):\n",
    "    global index\n",
    "    annotations.append({\n",
    "        \"ingredients\": ingredeints[index],\n",
    "        'keywords': keywords[index],   \n",
    "        'url': recipe_subset[index]['canonical_url'],\n",
    "        \"recipe\": recipe_subset[index],\n",
    "        'score': score[index],\n",
    "        \"label\": label_buttons.value\n",
    "    })\n",
    "    index += 1\n",
    "    if index < len(recipe_subset):\n",
    "        update_display()\n",
    "    else:\n",
    "        with output:\n",
    "            clear_output()\n",
    "            print(\"Labeling complete!\")\n",
    "        next_button.disabled = True\n",
    "        label_buttons.disabled = True\n",
    "        skip_button.disabled = True\n",
    "        progress_label.value = f\"{len(recipe_subset)} / {len(recipe_subset)}\"\n",
    "\n",
    "# Bind callbacks\n",
    "next_button.on_click(on_next_clicked)\n",
    "skip_button.on_click(on_skip_clicked)\n",
    "\n",
    "# Initial display\n",
    "update_display()\n",
    "display(progress_label, label_buttons, next_button, skip_button, output)\n"
   ]
  },
  {
   "cell_type": "code",
   "execution_count": 16,
   "metadata": {},
   "outputs": [],
   "source": [
    "# export the relevancy labels \n",
    "import pandas as pd\n",
    "# create df \n",
    "df = pd.DataFrame(annotations)\n",
    "# save to csv\n",
    "df.to_csv('evaluation/annotations.csv', index=False)"
   ]
  }
 ],
 "metadata": {
  "kernelspec": {
   "display_name": "rsr",
   "language": "python",
   "name": "python3"
  },
  "language_info": {
   "codemirror_mode": {
    "name": "ipython",
    "version": 3
   },
   "file_extension": ".py",
   "mimetype": "text/x-python",
   "name": "python",
   "nbconvert_exporter": "python",
   "pygments_lexer": "ipython3",
   "version": "3.12.9"
  }
 },
 "nbformat": 4,
 "nbformat_minor": 2
}
