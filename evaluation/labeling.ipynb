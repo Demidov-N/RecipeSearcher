{
 "cells": [
  {
   "cell_type": "code",
   "execution_count": 2,
   "metadata": {},
   "outputs": [],
   "source": [
    "import json\n",
    "import os, sys\n",
    "\n",
    "path = os.path.abspath(os.pardir)\n",
    "if path not in sys.path:\n",
    "    sys.path.append(path)\n",
    "\n",
    "# change the current directory \n",
    "os.chdir(path)"
   ]
  },
  {
   "cell_type": "code",
   "execution_count": 15,
   "metadata": {},
   "outputs": [],
   "source": [
    "with open('evaluation/results.json', 'r', encoding='utf-8') as f:\n",
    "    results_json = json.load(f)"
   ]
  },
  {
   "cell_type": "code",
   "execution_count": 16,
   "metadata": {},
   "outputs": [],
   "source": [
    "# select IDS For the labeling\n",
    "ids =  [7, 8, 9]"
   ]
  },
  {
   "cell_type": "code",
   "execution_count": 17,
   "metadata": {},
   "outputs": [
    {
     "name": "stderr",
     "output_type": "stream",
     "text": [
      "100%|██████████| 483137/483137 [00:00<00:00, 1173946.75it/s]\n"
     ]
    }
   ],
   "source": [
    "from tqdm import tqdm\n",
    "with open('files/raw/foodrecipes.json', 'r', encoding='utf-8') as f:\n",
    "    data = json.load(f)\n",
    "data_indexed = {}\n",
    "for recipe in tqdm(data):\n",
    "    recipe_url = recipe['canonical_url']\n",
    "    data_indexed[recipe_url] = recipe\n",
    "del data"
   ]
  },
  {
   "cell_type": "code",
   "execution_count": 18,
   "metadata": {},
   "outputs": [],
   "source": [
    "# build the labeling tasks\n",
    "\n",
    "results_subset = [results_json[i] for i in ids]\n",
    "ingredeints = [r['ingredients'] for r in results_subset for _ in r['results']]\n",
    "keywords = [r['keywords'] for r in results_subset for _ in r['results']]\n",
    "queries = [f\"Ingredients: {r['ingredients']}. Kewords: {r['keywords']}\"\n",
    "           for r in results_subset\n",
    "           for _ in r['results']]\n",
    "score = [float(r['results'][i][1]) for r in results_subset for i in range(len(r['results']))]\n",
    "recipe_subset = [data_indexed[r['results'][i][0]] for r in results_subset for i in range(len(r['results']))]\n"
   ]
  },
  {
   "cell_type": "code",
   "execution_count": null,
   "metadata": {},
   "outputs": [
    {
     "data": {
      "application/vnd.jupyter.widget-view+json": {
       "model_id": "3620b4588b064be2867fd3c10d27304f",
       "version_major": 2,
       "version_minor": 0
      },
      "text/plain": [
       "VBox(children=(Label(value='1 / 30'), ToggleButtons(description='Label:', options=('Relevant', 'Not Relevant')…"
      ]
     },
     "metadata": {},
     "output_type": "display_data"
    }
   ],
   "source": [
    "# setup widgets\n",
    "import ipywidgets as widgets\n",
    "from IPython.display import display, clear_output\n",
    "from pprint import pprint\n",
    "\n",
    "index = 0\n",
    "annotations = []\n",
    "\n",
    "output = widgets.Output()\n",
    "label_buttons = widgets.ToggleButtons(\n",
    "    options=[\"Relevant\", \"Not Relevant\"],\n",
    "    description='Label:',\n",
    "    button_style=''\n",
    ")\n",
    "\n",
    "\n",
    "next_button = widgets.Button(description=\"Next\")\n",
    "skip_button = widgets.Button(description=\"Skip\")\n",
    "progress_label = widgets.Label()\n",
    "\n",
    "def update_display():\n",
    "    with output:\n",
    "        clear_output(wait=True)\n",
    "        print(f\"Query: {queries[index]}\")\n",
    "        print(f\"Recipe {index + 1} of {len(recipe_subset)}:\")\n",
    "        pprint(recipe_subset[index])\n",
    "        progress_label.value = f\"{index + 1} / {len(recipe_subset)}\"\n",
    "\n",
    "def on_next_clicked(b):\n",
    "    global index\n",
    "    annotations.append({\n",
    "        \"ingredients\": ingredeints[index],\n",
    "        'keywords': keywords[index],   \n",
    "        'url': recipe_subset[index]['canonical_url'],\n",
    "        \"recipe\": recipe_subset[index],\n",
    "        'score': score[index],\n",
    "        \"label\": label_buttons.value\n",
    "    })\n",
    "    index += 1\n",
    "    if index < len(recipe_subset):\n",
    "        update_display()\n",
    "    else:\n",
    "        with output:\n",
    "            clear_output()\n",
    "            print(\"Labeling complete!\")\n",
    "        next_button.disabled = True\n",
    "        label_buttons.disabled = True\n",
    "        skip_button.disabled = True\n",
    "        progress_label.value = f\"{len(recipe_subset)} / {len(recipe_subset)}\"\n",
    "\n",
    "def on_skip_clicked(b):\n",
    "    global index\n",
    "    annotations.append({\n",
    "        \"ingredients\": ingredeints[index],\n",
    "        'keywords': keywords[index],   \n",
    "        'url': recipe_subset[index]['canonical_url'],\n",
    "        \"recipe\": recipe_subset[index],\n",
    "        'score': score[index],\n",
    "        \"label\": label_buttons.value\n",
    "    })\n",
    "    index += 1\n",
    "    if index < len(recipe_subset):\n",
    "        update_display()\n",
    "    else:\n",
    "        with output:\n",
    "            clear_output()\n",
    "            print(\"Labeling complete!\")\n",
    "        next_button.disabled = True\n",
    "        label_buttons.disabled = True\n",
    "        skip_button.disabled = True\n",
    "        progress_label.value = f\"{len(recipe_subset)} / {len(recipe_subset)}\"\n",
    "\n",
    "# Bind callbacks\n",
    "next_button.on_click(on_next_clicked)\n",
    "skip_button.on_click(on_skip_clicked)\n",
    "\n",
    "# Initial display\n",
    "ui = widgets.VBox([\n",
    "    progress_label,\n",
    "    label_buttons,\n",
    "    widgets.HBox([next_button, skip_button]),\n",
    "    output\n",
    "])\n",
    "update_display()\n",
    "display(ui)\n"
   ]
  },
  {
   "cell_type": "code",
   "execution_count": 20,
   "metadata": {},
   "outputs": [],
   "source": [
    "# export the relevancy labels \n",
    "import pandas as pd\n",
    "# create df \n",
    "df = pd.DataFrame(annotations)\n",
    "# save to csv\n",
    "df.to_csv('evaluation/annotations.csv', index=False)"
   ]
  },
  {
   "cell_type": "code",
   "execution_count": 7,
   "metadata": {},
   "outputs": [],
   "source": [
    "import json\n",
    "\n",
    "with open('files/raw/foodrecipes.json', 'r', encoding='utf-8') as f:\n",
    "    data = json.load(f)\n"
   ]
  },
  {
   "cell_type": "code",
   "execution_count": 14,
   "metadata": {},
   "outputs": [
    {
     "data": {
      "text/plain": [
       "'https://www.food.com/recipe/1-pot-4-item-sausage-suprise-447710'"
      ]
     },
     "execution_count": 14,
     "metadata": {},
     "output_type": "execute_result"
    }
   ],
   "source": [
    "data[0]['canonical_url']"
   ]
  },
  {
   "cell_type": "code",
   "execution_count": null,
   "metadata": {},
   "outputs": [],
   "source": [
    "with open('files/raw/foodrecipes.json', 'w', encoding='utf-8') as f:\n",
    "    json.dump(data, f, ensure_ascii=False, indent=4)\n"
   ]
  }
 ],
 "metadata": {
  "kernelspec": {
   "display_name": "rsr",
   "language": "python",
   "name": "python3"
  },
  "language_info": {
   "codemirror_mode": {
    "name": "ipython",
    "version": 3
   },
   "file_extension": ".py",
   "mimetype": "text/x-python",
   "name": "python",
   "nbconvert_exporter": "python",
   "pygments_lexer": "ipython3",
   "version": "3.12.10"
  }
 },
 "nbformat": 4,
 "nbformat_minor": 2
}
