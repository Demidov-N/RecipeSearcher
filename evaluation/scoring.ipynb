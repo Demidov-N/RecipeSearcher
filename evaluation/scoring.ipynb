{
 "cells": [
  {
   "cell_type": "code",
   "execution_count": 1,
   "id": "5325d086",
   "metadata": {},
   "outputs": [],
   "source": [
    "import pandas as pd\n",
    "import numpy as np\n"
   ]
  },
  {
   "cell_type": "code",
   "execution_count": 17,
   "id": "6f507b1d",
   "metadata": {},
   "outputs": [],
   "source": [
    "annotations_rrf = pd.read_csv('annotations-rrf.csv')\n",
    "annotations_simple = pd.read_csv('annotations-simple.csv')\n"
   ]
  },
  {
   "cell_type": "code",
   "execution_count": 18,
   "id": "2f8f33d8",
   "metadata": {},
   "outputs": [
    {
     "data": {
      "text/plain": [
       "ingredients                                                                                                                keywords                          \n",
       "almond flour, eggs, coconut oil                                                                                            gluten-free, dessert                  20\n",
       "beans                                                                                                                      crock pot                             20\n",
       "beef, bell peppers, onion                                                                                                  quick, stir-fry                       10\n",
       "chicken, garlic, onion, tomato, basil, oregano, parsley, thyme, rosemary, lemon, olive oil, butter, salt, pepper, paprika  spicy                                 10\n",
       "chicken, garlic, rice                                                                                                      spicy, quick                          20\n",
       "eggplant, tomato, feta cheese, olives, cucumber, red onion, mint, oregano                                                  Mediterranean, vegan, fresh, quick    10\n",
       "dtype: int64"
      ]
     },
     "execution_count": 18,
     "metadata": {},
     "output_type": "execute_result"
    }
   ],
   "source": [
    "annotations_rrf.groupby(['ingredients', 'keywords']).size()"
   ]
  },
  {
   "cell_type": "code",
   "execution_count": 24,
   "id": "25f79ae8",
   "metadata": {},
   "outputs": [
    {
     "data": {
      "application/vnd.microsoft.datawrangler.viewer.v0+json": {
       "columns": [
        {
         "name": "index",
         "rawType": "int64",
         "type": "integer"
        },
        {
         "name": "ingredients",
         "rawType": "object",
         "type": "unknown"
        },
        {
         "name": "keywords",
         "rawType": "object",
         "type": "unknown"
        },
        {
         "name": "url",
         "rawType": "object",
         "type": "string"
        },
        {
         "name": "recipe",
         "rawType": "object",
         "type": "string"
        },
        {
         "name": "score",
         "rawType": "float64",
         "type": "float"
        },
        {
         "name": "label",
         "rawType": "object",
         "type": "string"
        }
       ],
       "conversionMethod": "pd.DataFrame",
       "ref": "cb871600-228f-4ee5-ab1a-5838bc2cf7a8",
       "rows": [
        [
         "0",
         "broccoli, chicken",
         null,
         "https://www.food.com/recipe/chicken-broccoli-and-noodles-supreme-409885",
         "{'_id': {'$oid': '67d41dd8293985ce9b43d92b'}, 'author': 'CookingONTheSide', 'canonical_url': 'https://www.food.com/recipe/chicken-broccoli-and-noodles-supreme-409885', 'category': 'Chicken', 'cook_time': 25, 'description': 'This makes a comforting one-dish meal that my family loves. I love using rotisserie chicken for this.', 'host': 'food.com', 'image': 'https://img.sndimg.com/food/image/upload/q_92,fl_progressive,w_1200,c_scale/v1/img/recipes/40/98/85/pickSh2oq.jpg', 'ingredient_groups': [{'ingredients': ['3 cups cooked chicken, chopped', '3 cups uncooked medium egg noodles', '2 cups fresh broccoli or 2 cups frozen broccoli florets', '1 (10 3/4 ounce) can condensed cream of chicken soup', '1/2 cup sour cream', '1/3 cup parmesan cheese, grated', '1/8 teaspoon ground black pepper'], 'purpose': None}], 'ingredients': ['3 cups cooked chicken, chopped', '3 cups uncooked medium egg noodles', '2 cups fresh broccoli or 2 cups frozen broccoli florets', '1 (10 3/4 ounce) can condensed cream of chicken soup', '1/2 cup sour cream', '1/3 cup parmesan cheese, grated', '1/8 teaspoon ground black pepper'], 'instructions': 'Cook the noodles according to package directions.\\nAdd the broccoli for the last 5 minutes of cooking time.\\nDrain the noodle mixture well and return to saucepan.\\nStir the chicken, soup, sour cream, cheese and black pepper in the saucepan and cook over medium heat until the mixture is hot and bubbling, stirring often.', 'instructions_list': ['Cook the noodles according to package directions.', 'Add the broccoli for the last 5 minutes of cooking time.', 'Drain the noodle mixture well and return to saucepan.', 'Stir the chicken, soup, sour cream, cheese and black pepper in the saucepan and cook over medium heat until the mixture is hot and bubbling, stirring often.'], 'keywords': ['Poultry', 'Vegetable', 'Meat', 'Kid Friendly', '< 60 Mins'], 'language': 'en', 'nutrients': {'calories': '355.8', 'fatContent': '15.1', 'saturatedFatContent': '5.9', 'cholesterolContent': '93.1', 'sodiumContent': '505.6', 'carbohydrateContent': '28.6', 'fiberContent': '2.7', 'sugarContent': '1.4', 'proteinContent': '26.3'}, 'prep_time': 10, 'ratings': 4.5, 'ratings_count': 4, 'site_name': 'Food.com', 'title': 'Chicken, Broccoli and Noodles Supreme', 'total_time': 35, 'yields': '6 servings', 'source': 'food', 'url': 'https://www.food.com/recipe/chicken-broccoli-and-noodles-supreme-409885', 'timestamp': {'$date': '2025-03-14T12:15:20.860Z'}}",
         "0.99939876102382",
         "Relevant"
        ],
        [
         "1",
         "broccoli, chicken",
         null,
         "https://www.food.com/recipe/elvas-chicken-and-broccoli-casserole-213957",
         "{'_id': {'$oid': '67d44d48293985ce9b450790'}, 'author': 'Hill Family', 'canonical_url': 'https://www.food.com/recipe/elvas-chicken-and-broccoli-casserole-213957', 'category': 'Chicken Breast', 'cook_time': 40, 'description': \"Make and share this Elva's Chicken and Broccoli Casserole recipe from Food.com.\", 'host': 'food.com', 'image': 'https://img.sndimg.com/food/image/upload/q_92,fl_progressive,w_1200,c_scale/v1/img/recipes/21/39/57/picwWpzxX.jpg', 'ingredient_groups': [{'ingredients': ['2 (6 ounce) boxes frozen broccoli or 2 (6 ounce) boxes fresh broccoli, cook slightly', '4 -5 chicken breasts, cooked and cubed', '21 1/2 ounces cream of chicken soup', '1 tablespoon lemon juice', '1 cup mayonnaise', 'cheese, grated', 'salt', 'pepper'], 'purpose': None}], 'ingredients': ['2 (6 ounce) boxes frozen broccoli or 2 (6 ounce) boxes fresh broccoli, cook slightly', '4 -5 chicken breasts, cooked and cubed', '21 1/2 ounces cream of chicken soup', '1 tablespoon lemon juice', '1 cup mayonnaise', 'cheese, grated', 'salt', 'pepper'], 'instructions': 'Mix together soup, lemon juice and mayo, set aside.\\nGrease a 9 x 13 inch baking dish. Arrange broccoli in the bottom, place the chicken on top and cover with cheese sauce.\\nGrate cheese generously on top. Bake at 350 degrees for 40 minutes.', 'instructions_list': ['Mix together soup, lemon juice and mayo, set aside.', 'Grease a 9 x 13 inch baking dish. Arrange broccoli in the bottom, place the chicken on top and cover with cheese sauce.', 'Grate cheese generously on top. Bake at 350 degrees for 40 minutes.'], 'keywords': ['Chicken', 'Poultry', 'Cheese', 'Meat', '< 60 Mins', 'Oven', 'Easy'], 'language': 'en', 'nutrients': {'calories': '424.8', 'fatContent': '28.1', 'saturatedFatContent': '6.1', 'cholesterolContent': '80.2', 'sodiumContent': '1018.5', 'carbohydrateContent': '19.6', 'fiberContent': '1.7', 'sugarContent': '3.9', 'proteinContent': '24.5'}, 'prep_time': 15, 'ratings': 3, 'ratings_count': 1, 'site_name': 'Food.com', 'title': \"Elva's Chicken and Broccoli Casserole\", 'total_time': 55, 'yields': '8 servings', 'source': 'food', 'url': 'https://www.food.com/recipe/elvas-chicken-and-broccoli-casserole-213957', 'timestamp': {'$date': '2025-03-14T15:37:44.382Z'}}",
         "0.99920643423996",
         "Relevant"
        ],
        [
         "2",
         "broccoli, chicken",
         null,
         "https://www.food.com/recipe/finicky-feline-diet-185282",
         "{'_id': {'$oid': '67d4518b293985ce9b452520'}, 'author': 'Loves2Teach', 'canonical_url': 'https://www.food.com/recipe/finicky-feline-diet-185282', 'category': 'Healthy', 'cook_time': None, 'description': 'Make and share this Finicky Feline Diet recipe from Food.com.', 'host': 'food.com', 'image': 'https://img.sndimg.com/food/image/upload/q_92,fl_progressive,w_1200,c_scale/v1/gk-static/fdc-new/img/fdc-shareGraphic.png', 'ingredient_groups': [{'ingredients': ['1 cup chopped cooked chicken', '1/2 cup cooked rice', '1/2 cup chopped broccoli, cooked until tender', '1/4 cup chopped carrot, cooked until tender', '1/8 cup chicken broth (may need more or less, add it a bit at a time to your food processor)'], 'purpose': None}], 'ingredients': ['1 cup chopped cooked chicken', '1/2 cup cooked rice', '1/2 cup chopped broccoli, cooked until tender', '1/4 cup chopped carrot, cooked until tender', '1/8 cup chicken broth (may need more or less, add it a bit at a time to your food processor)'], 'instructions': 'Process all ingredients in a food processor or blender with enough chicken broth to hold together. Store in an airtight container in the refrigerator.', 'instructions_list': ['Process all ingredients in a food processor or blender with enough chicken broth to hold together. Store in an airtight container in the refrigerator.'], 'keywords': ['< 15 Mins', 'Easy'], 'language': 'en', 'nutrients': {'calories': '96.6', 'fatContent': '2.5', 'saturatedFatContent': '0.7', 'cholesterolContent': '26.2', 'sodiumContent': '58.6', 'carbohydrateContent': '8.1', 'fiberContent': '0.6', 'sugarContent': '0.5', 'proteinContent': '9.8'}, 'prep_time': 5, 'site_name': 'Food.com', 'title': 'Finicky Feline Diet', 'total_time': 5, 'yields': '4 servings', 'source': 'food', 'url': 'https://www.food.com/recipe/finicky-feline-diet-185282', 'timestamp': {'$date': '2025-03-14T15:55:55.710Z'}}",
         "0.9989951292989542",
         "Not Relevant"
        ],
        [
         "3",
         "broccoli, chicken",
         null,
         "https://www.food.com/recipe/chicken-divan-386117",
         "{'_id': {'$oid': '67d41918293985ce9b43bba5'}, 'author': 'Christina Souther', 'canonical_url': 'https://www.food.com/recipe/chicken-divan-386117', 'category': 'One Dish Meal', 'cook_time': 35, 'description': 'A delicious chicken and broccoli casserole with a creamy sauce topped with cheese and crispy breadcrumbs!', 'host': 'food.com', 'image': 'https://img.sndimg.com/food/image/upload/q_92,fl_progressive,w_1200,c_scale/v1/gk-static/fdc-new/img/fdc-shareGraphic.png', 'ingredient_groups': [{'ingredients': ['2 very large heads fresh broccoli or 2 (10 ounce) packages , frozen broccoli. cook and drain', '3 large chicken breasts, cooked and shredded (I put mine in the crockpot with a couple of crushed garlic cloves and some chicken stock for about 6)', '2 (10 ounce) cans cream of chicken soup', '1 cup mayonnaise', '1 teaspoon lemon juice', '1/2-3/4 teaspoon curry powder', '1/2 cup breadcrumbs', '1/2 cup grated cheddar cheese', '1 tablespoon butter'], 'purpose': None}], 'ingredients': ['2 very large heads fresh broccoli or 2 (10 ounce) packages , frozen broccoli. cook and drain', '3 large chicken breasts, cooked and shredded (I put mine in the crockpot with a couple of crushed garlic cloves and some chicken stock for about 6)', '2 (10 ounce) cans cream of chicken soup', '1 cup mayonnaise', '1 teaspoon lemon juice', '1/2-3/4 teaspoon curry powder', '1/2 cup breadcrumbs', '1/2 cup grated cheddar cheese', '1 tablespoon butter'], 'instructions': 'Arrange cooked broccoli in a greased 9x11 dish. Salt and pepper to taste. Place cooked, shredded chicked on top of broccoli. In a bowl, combine soups, mayonnaise, lemon juice and curry. Mix well. Spread over the top of the chicken. Cover with shredded cheese. Place small pieces of button randomly on top of the cheese. Sprinkle the bread crumbs on top of the button and cheese. Bake in a preheated 350 degree oven for 30-35 minutes or till bubbly around the edges.', 'instructions_list': ['Arrange cooked broccoli in a greased 9x11 dish. Salt and pepper to taste. Place cooked, shredded chicked on top of broccoli. In a bowl, combine soups, mayonnaise, lemon juice and curry. Mix well. Spread over the top of the chicken. Cover with shredded cheese. Place small pieces of button randomly on top of the cheese. Sprinkle the bread crumbs on top of the button and cheese. Bake in a preheated 350 degree oven for 30-35 minutes or till bubbly around the edges.'], 'keywords': ['Chicken Breast', 'Chicken', 'Poultry', 'Vegetable', 'Meat', 'Weeknight', '< 60 Mins', 'Easy', 'Inexpensive'], 'language': 'en', 'nutrients': {'calories': '452.8', 'fatContent': '30.8', 'saturatedFatContent': '8.7', 'cholesterolContent': '79.1', 'sodiumContent': '1081.2', 'carbohydrateContent': '22.9', 'fiberContent': '0.5', 'sugarContent': '3.6', 'proteinContent': '21.3'}, 'prep_time': 25, 'site_name': 'Food.com', 'title': 'Chicken Divan', 'total_time': 60, 'yields': '8 servings', 'source': 'food', 'url': 'https://www.food.com/recipe/chicken-divan-386117', 'timestamp': {'$date': '2025-03-14T11:55:04.653Z'}}",
         "0.998896018736247",
         "Not Relevant"
        ],
        [
         "4",
         "broccoli, chicken",
         null,
         "https://www.food.com/recipe/chicken-and-broccoli-casserole-91972",
         "{'_id': {'$oid': '67d416a4293985ce9b43abfd'}, 'author': 'Barenakedchef', 'canonical_url': 'https://www.food.com/recipe/chicken-and-broccoli-casserole-91972', 'category': 'One Dish Meal', 'cook_time': 20, 'description': \"Got this recipe out of a high school cookbook. It's so easy, and tastes wonderful! I actually won a cook-off at work with this recipe!\", 'host': 'food.com', 'image': 'https://img.sndimg.com/food/image/upload/q_92,fl_progressive,w_1200,c_scale/v1/img/recipes/91/97/2/P42qga1HQGGVqGXfcOtL_Chicken%20Broccoli%20Rice%20Casserole.JPG', 'ingredient_groups': [{'ingredients': ['1 1/3 cups instant rice', '1 cup grated cheese', '2 cups diced cooked chicken', '1 1/2 cups cooked broccoli', '1 can cream of mushroom soup', '1 1/2 cups chicken broth'], 'purpose': None}], 'ingredients': ['1 1/3 cups instant rice', '1 cup grated cheese', '2 cups diced cooked chicken', '1 1/2 cups cooked broccoli', '1 can cream of mushroom soup', '1 1/2 cups chicken broth'], 'instructions': 'Layer in 2-quart casserole: Rice, ½ of the cheese, chicken, broccoli, soup and broth.\\nPierce casserole, add rest of cheese.\\nBake at 375º for 20 minutes.', 'instructions_list': ['Layer in 2-quart casserole: Rice, ½ of the cheese, chicken, broccoli, soup and broth.', 'Pierce casserole, add rest of cheese.', 'Bake at 375º for 20 minutes.'], 'keywords': ['Chicken Breast', 'Chicken', 'Poultry', 'Vegetable', 'Meat', 'Potluck', '< 30 Mins', 'Oven', 'Beginner Cook', 'Easy'], 'language': 'en', 'nutrients': {'calories': '280.9', 'fatContent': '11.3', 'saturatedFatContent': '4.6', 'cholesterolContent': '47', 'sodiumContent': '767.7', 'carbohydrateContent': '24.1', 'fiberContent': '1', 'sugarContent': '1.3', 'proteinContent': '19.7'}, 'prep_time': 10, 'ratings': 5, 'ratings_count': 6, 'site_name': 'Food.com', 'title': 'Chicken and Broccoli Casserole', 'total_time': 30, 'yields': '6 servings', 'source': 'food', 'url': 'https://www.food.com/recipe/chicken-and-broccoli-casserole-91972', 'timestamp': {'$date': '2025-03-14T11:44:36.735Z'}}",
         "0.9985133844092208",
         "Relevant"
        ],
        [
         "5",
         "broccoli, chicken",
         null,
         "https://www.food.com/recipe/broccoli-chicken-cups-288269",
         "{'_id': {'$oid': '67d40533293985ce9b433dd8'}, 'author': 'grapefruit', 'canonical_url': 'https://www.food.com/recipe/broccoli-chicken-cups-288269', 'category': 'Lunch/Snacks', 'cook_time': 30, 'description': 'These are really good! I got this recipe from Taste Of Home magazine and made these last night. I made a few changes, but am posting the original recipe here: added 1 tbsp more mustard than asked for (personal preference), also - for the cooked chicken, i had boiled about 400 g boneless fillets in about 2 cups of water with a little vinegar, a crushed stock cube, garlic and ginger paste and lots of black pepper. I didnt have any parmesan so topped with crushed black pepper and just a bit of mozzarella. Also - i used ready made puff pastry squares for this', 'host': 'food.com', 'image': 'https://img.sndimg.com/food/image/upload/q_92,fl_progressive,w_1200,c_scale/v1/gk-static/fdc-new/img/fdc-shareGraphic.png', 'ingredient_groups': [{'ingredients': ['2 1/2 cups diced cooked chicken breasts', '1 (10 3/4 ounce) can reduced-fat reduced-sodium condensed cream of chicken soup, undiluted', '1 cup chopped frozen or fresh broccoli, chopped', '2 small plum tomatoes, seeded and chopped', '1 small carrot, grated', '1 tablespoon Dijon mustard', '1 garlic clove, minced', '1/4 teaspoon black pepper', '1 sheet frozen puff pastry, thawed', '1/4 cup grated parmesan cheese'], 'purpose': None}], 'ingredients': ['2 1/2 cups diced cooked chicken breasts', '1 (10 3/4 ounce) can reduced-fat reduced-sodium condensed cream of chicken soup, undiluted', '1 cup chopped frozen or fresh broccoli, chopped', '2 small plum tomatoes, seeded and chopped', '1 small carrot, grated', '1 tablespoon Dijon mustard', '1 garlic clove, minced', '1/4 teaspoon black pepper', '1 sheet frozen puff pastry, thawed', '1/4 cup grated parmesan cheese'], 'instructions': 'In a large bowl, combine the first 8 ingredients, set aside.\\nOn a lightly floured surface, roll pastry into a 12x9\" rectangle.\\nCut lengthwise into lenghtwise into 3 strips and widthwise into 4 strips.\\ngently press pastry squares into muffin cups coated with cooking spray.\\nSpoon mixture into pastry cups.\\nSprinkle with parmesan.\\nBake at 375F for 25- 30 minutes or until golden brown.\\nServe warm.', 'instructions_list': ['In a large bowl, combine the first 8 ingredients, set aside.', 'On a lightly floured surface, roll pastry into a 12x9\" rectangle.', 'Cut lengthwise into lenghtwise into 3 strips and widthwise into 4 strips.', 'gently press pastry squares into muffin cups coated with cooking spray.', 'Spoon mixture into pastry cups.', 'Sprinkle with parmesan.', 'Bake at 375F for 25- 30 minutes or until golden brown.', 'Serve warm.'], 'keywords': ['Toddler Friendly', 'Kid Friendly', '< 60 Mins', 'Easy'], 'language': 'en', 'nutrients': {'calories': '188.5', 'fatContent': '10.8', 'saturatedFatContent': '3', 'cholesterolContent': '26.3', 'sodiumContent': '126.2', 'carbohydrateContent': '11.2', 'fiberContent': '1', 'sugarContent': '0.8', 'proteinContent': '11.5'}, 'prep_time': 10, 'site_name': 'Food.com', 'title': 'Broccoli Chicken Cups', 'total_time': 40, 'yields': '12 cups', 'source': 'food', 'url': 'https://www.food.com/recipe/broccoli-chicken-cups-288269', 'timestamp': {'$date': '2025-03-14T10:30:11.998Z'}}",
         "0.9985085548310654",
         "Not Relevant"
        ],
        [
         "6",
         "broccoli, chicken",
         null,
         "https://www.food.com/recipe/chicken-and-broccoli-with-mushroom-sauce-137606",
         "{'_id': {'$oid': '67d416d4293985ce9b43ad3f'}, 'author': 'Heidi C.', 'canonical_url': 'https://www.food.com/recipe/chicken-and-broccoli-with-mushroom-sauce-137606', 'category': 'Chicken Breast', 'cook_time': 25, 'description': 'I found this recipe in The American Heart Association Cookbook that was published in 1975. I have made this countless times.Its sooo good. Every year I make this for the xmas party at work....They tell me I better not show up without it!!!!', 'host': 'food.com', 'image': 'https://img.sndimg.com/food/image/upload/q_92,fl_progressive,w_1200,c_scale/v1/gk-static/fdc-new/img/fdc-shareGraphic.png', 'ingredient_groups': [{'ingredients': ['10 ounces frozen broccoli', '3 tablespoons margarine', '3 tablespoons flour', '1 cup chicken broth', '1 (4 ounce) can canned mushroom slices, with liquid', '1 lb cooked chicken, sliced (or 2 cups cooked chicken or turkey)', '2 tablespoons parsley sprigs (chopped)', '2 tablespoons breadcrumbs'], 'purpose': None}], 'ingredients': ['10 ounces frozen broccoli', '3 tablespoons margarine', '3 tablespoons flour', '1 cup chicken broth', '1 (4 ounce) can canned mushroom slices, with liquid', '1 lb cooked chicken, sliced (or 2 cups cooked chicken or turkey)', '2 tablespoons parsley sprigs (chopped)', '2 tablespoons breadcrumbs'], 'instructions': 'Preheat oven to 375F degrees.\\nCook broccoli according to package directions.(I use a little more)This recipe can be made with asparagus instead of broccoli.\\nMix margarine and flour together in saucepan.\\nCook briefly over medium heat.\\nBlend in chicken broth,stirring constantly until thickened and smooth.\\nStir in mushrooms and their liquid.\\nSeason to taste.(I use garlic powder and season salt.Also I make twice as much sauce).\\nPlace cooked broccoli pieces in a shallow pan.\\nCover with sliced chicken and pour mushroom sauce over all.\\nTop with parsley and bread crumbs.( I use more bread crumbs than recipe calls for.).\\nBake, uncovered,15 to 25 minutes, or until bubbly and brown on top.', 'instructions_list': ['Preheat oven to 375F degrees.', 'Cook broccoli according to package directions.(I use a little more)This recipe can be made with asparagus instead of broccoli.', 'Mix margarine and flour together in saucepan.', 'Cook briefly over medium heat.', 'Blend in chicken broth,stirring constantly until thickened and smooth.', 'Stir in mushrooms and their liquid.', 'Season to taste.(I use garlic powder and season salt.Also I make twice as much sauce).', 'Place cooked broccoli pieces in a shallow pan.', 'Cover with sliced chicken and pour mushroom sauce over all.', 'Top with parsley and bread crumbs.( I use more bread crumbs than recipe calls for.).', 'Bake, uncovered,15 to 25 minutes, or until bubbly and brown on top.'], 'keywords': ['Chicken', 'Poultry', 'Meat', 'Potluck', 'Brunch', '< 60 Mins'], 'language': 'en', 'nutrients': {'calories': '350.7', 'fatContent': '17.1', 'saturatedFatContent': '3.8', 'cholesterolContent': '85.1', 'sodiumContent': '566.2', 'carbohydrateContent': '14.8', 'fiberContent': '3.4', 'sugarContent': '2.2', 'proteinContent': '33.8'}, 'prep_time': 30, 'ratings': 5, 'ratings_count': 1, 'site_name': 'Food.com', 'title': 'Chicken and Broccoli With Mushroom Sauce', 'total_time': 55, 'yields': '4 servings', 'source': 'food', 'url': 'https://www.food.com/recipe/chicken-and-broccoli-with-mushroom-sauce-137606', 'timestamp': {'$date': '2025-03-14T11:45:24.121Z'}}",
         "0.9979194615331732",
         "Relevant"
        ],
        [
         "7",
         "broccoli, chicken",
         null,
         "https://www.food.com/recipe/chicken-divan-271733",
         "{'_id': {'$oid': '67d4191b293985ce9b43bbb5'}, 'author': 'SweetDivaMJ', 'canonical_url': 'https://www.food.com/recipe/chicken-divan-271733', 'category': 'Chicken', 'cook_time': 40, 'description': \"I can't have enough chicken recipes - and this is a good one using my kids' favorite vegetable. It's very quick and easy to put together - sometimes I assemble it earlier in the day, stick it in the fridge and then pop it in the oven when I get home. Just a suggestion: If I do this, I usually put it in the oven before I turn it on so that it can warm up as the oven preheats, then I time it according to the recipe directions once the oven has reached the specified temperature.\", 'host': 'food.com', 'image': 'https://img.sndimg.com/food/image/upload/q_92,fl_progressive,w_1200,c_scale/v1/gk-static/fdc-new/img/fdc-shareGraphic.png', 'ingredient_groups': [{'ingredients': ['1 1/4 cups fresh broccoli, cooked and chopped', '3 cups cubed cooked chicken', '1 (10 3/4 ounce) can condensed cream of chicken soup', '1 cup chicken broth', '1 cup mayonnaise', '2 tablespoons fresh lemon juice', '1/2 teaspoon pepper', '1/4 teaspoon garlic powder', '3/4 cup shredded cheddar cheese'], 'purpose': None}], 'ingredients': ['1 1/4 cups fresh broccoli, cooked and chopped', '3 cups cubed cooked chicken', '1 (10 3/4 ounce) can condensed cream of chicken soup', '1 cup chicken broth', '1 cup mayonnaise', '2 tablespoons fresh lemon juice', '1/2 teaspoon pepper', '1/4 teaspoon garlic powder', '3/4 cup shredded cheddar cheese'], 'instructions': 'Spray a 13x9x2 baking pan with nonstick cooking spray.\\nArrange broccoli in pan; cover with chicken.\\nCombine the next 6 ingredients; pour over chicken. Sprinkle with cheese.\\nCover and bake at 350* for 30 minutes.\\nUncover; bake 5-10 minute or until bubbly. Yield: 6 servings.', 'instructions_list': ['Spray a 13x9x2 baking pan with nonstick cooking spray.', 'Arrange broccoli in pan; cover with chicken.', 'Combine the next 6 ingredients; pour over chicken. Sprinkle with cheese.', 'Cover and bake at 350* for 30 minutes.', 'Uncover; bake 5-10 minute or until bubbly. Yield: 6 servings.'], 'keywords': ['Poultry', 'Meat', '< 60 Mins', 'Beginner Cook', 'Easy'], 'language': 'en', 'nutrients': {'calories': '391.6', 'fatContent': '25.7', 'saturatedFatContent': '7.1', 'cholesterolContent': '81.6', 'sodiumContent': '892.1', 'carbohydrateContent': '16.3', 'fiberContent': '1.1', 'sugarContent': '3.6', 'proteinContent': '24.2'}, 'prep_time': 10, 'ratings': 5, 'ratings_count': 1, 'site_name': 'Food.com', 'title': 'Chicken Divan', 'total_time': 50, 'yields': '6 servings', 'source': 'food', 'url': 'https://www.food.com/recipe/chicken-divan-271733', 'timestamp': {'$date': '2025-03-14T11:55:07.565Z'}}",
         "0.9976816364324984",
         "Relevant"
        ],
        [
         "8",
         "broccoli, chicken",
         null,
         "https://www.food.com/recipe/cheesy-broccoli-potato-soup-122524",
         "{'_id': {'$oid': '67d4146e293985ce9b439e8c'}, 'author': 'Sweet Southern Bell', 'canonical_url': 'https://www.food.com/recipe/cheesy-broccoli-potato-soup-122524', 'category': 'Chicken', 'cook_time': 10, 'description': 'Make and share this Cheesy Broccoli Potato Soup recipe from Food.com.', 'host': 'food.com', 'image': 'https://img.sndimg.com/food/image/upload/q_92,fl_progressive,w_1200,c_scale/v1/gk-static/fdc-new/img/fdc-shareGraphic.png', 'ingredient_groups': [{'ingredients': ['2 cups chicken broth', '1/3 cup chopped onion', '1 (10 ounce) package frozen chopped broccoli', '1 1/3 cups instant mashed potatoes (dry)', '2 cups cut-up cooked chicken', '2 cups shredded swiss cheese (8 ounces)', '2 cups milk', '1/2 teaspoon salt'], 'purpose': None}], 'ingredients': ['2 cups chicken broth', '1/3 cup chopped onion', '1 (10 ounce) package frozen chopped broccoli', '1 1/3 cups instant mashed potatoes (dry)', '2 cups cut-up cooked chicken', '2 cups shredded swiss cheese (8 ounces)', '2 cups milk', '1/2 teaspoon salt'], 'instructions': 'Heat broth, onion and frozen broccoli to boiling in 3-quart saucepan.\\nReduce heat; cover and simmer 5 minutes, stirring occasionally.\\nStir in potatoes until well blended; stir in remaining ingredients.\\nHeat over low heat about 5 minutes, stirring occasionally, until hot and cheese is melted.', 'instructions_list': ['Heat broth, onion and frozen broccoli to boiling in 3-quart saucepan.', 'Reduce heat; cover and simmer 5 minutes, stirring occasionally.', 'Stir in potatoes until well blended; stir in remaining ingredients.', 'Heat over low heat about 5 minutes, stirring occasionally, until hot and cheese is melted.'], 'keywords': ['Potato', 'Poultry', 'Vegetable', 'Meat', '< 30 Mins'], 'language': 'en', 'nutrients': {'calories': '333.4', 'fatContent': '16.7', 'saturatedFatContent': '9.3', 'cholesterolContent': '79.5', 'sodiumContent': '615.2', 'carbohydrateContent': '17.8', 'fiberContent': '2.3', 'sugarContent': '2.1', 'proteinContent': '27.9'}, 'prep_time': 10, 'site_name': 'Food.com', 'title': 'Cheesy Broccoli Potato Soup', 'total_time': 20, 'yields': '6 servings', 'source': 'food', 'url': 'https://www.food.com/recipe/cheesy-broccoli-potato-soup-122524', 'timestamp': {'$date': '2025-03-14T11:35:10.368Z'}}",
         "0.9971519909021616",
         "Relevant"
        ],
        [
         "9",
         "broccoli, chicken",
         null,
         "https://www.food.com/recipe/cheesy-broccoli-potato-soup-22785",
         "{'_id': {'$oid': '67d4146e293985ce9b439e8a'}, 'author': 'MizzNezz', 'canonical_url': 'https://www.food.com/recipe/cheesy-broccoli-potato-soup-22785', 'category': 'Lunch/Snacks', 'cook_time': 13, 'description': 'Make and share this Cheesy Broccoli Potato Soup recipe from Food.com.', 'host': 'food.com', 'image': 'https://img.sndimg.com/food/image/upload/q_92,fl_progressive,w_1200,c_scale/v1/gk-static/fdc-new/img/fdc-shareGraphic.png', 'ingredient_groups': [{'ingredients': ['2 cups chicken broth', '1/3 cup chopped onion', '2 cups broccoli, chopped', '1 1/3 cups instant mashed potatoes', '2 cups cooked chicken', '2 cups shredded swiss cheese', '2 cups milk', '1 teaspoon salt'], 'purpose': None}], 'ingredients': ['2 cups chicken broth', '1/3 cup chopped onion', '2 cups broccoli, chopped', '1 1/3 cups instant mashed potatoes', '2 cups cooked chicken', '2 cups shredded swiss cheese', '2 cups milk', '1 teaspoon salt'], 'instructions': 'Heat broth, onions, and broccoli to boiling.\\nReduce heat and simmer 10 minutes.\\nStir in potatoes, mix well.\\nAdd remaining ingredients.\\nCook on low for 5 minutes.\\nFor creamier soup, puree half in blender and return to pot and heat through.', 'instructions_list': ['Heat broth, onions, and broccoli to boiling.', 'Reduce heat and simmer 10 minutes.', 'Stir in potatoes, mix well.', 'Add remaining ingredients.', 'Cook on low for 5 minutes.', 'For creamier soup, puree half in blender and return to pot and heat through.'], 'keywords': ['Potato', 'Cheese', 'Vegetable', 'Polish', 'European', '< 30 Mins', 'Refrigerator', 'Stove Top', 'Easy'], 'language': 'en', 'nutrients': {'calories': '253.4', 'fatContent': '13.6', 'saturatedFatContent': '8.4', 'cholesterolContent': '44.5', 'sodiumContent': '772.6', 'carbohydrateContent': '17.6', 'fiberContent': '1.6', 'sugarContent': '2', 'proteinContent': '15.8'}, 'prep_time': 5, 'ratings': 5, 'ratings_count': 5, 'site_name': 'Food.com', 'title': 'Cheesy Broccoli Potato Soup', 'total_time': 18, 'yields': '6 servings', 'source': 'food', 'url': 'https://www.food.com/recipe/cheesy-broccoli-potato-soup-22785', 'timestamp': {'$date': '2025-03-14T11:35:10.219Z'}}",
         "0.997115586748006",
         "Relevant"
        ],
        [
         "10",
         "pasta, tomato",
         null,
         "https://www.food.com/recipe/garlic-herb-eggplant-aubergine-rolls-115960",
         "{'_id': {'$oid': '67d45a60293985ce9b456401'}, 'author': 'jovigirl', 'canonical_url': 'https://www.food.com/recipe/garlic-herb-eggplant-aubergine-rolls-115960', 'category': 'One Dish Meal', 'cook_time': 20, 'description': \"OK... let me first say I'm not a huge fan of eggplant, but this looked so good (got it on a recipe card at Walmart I think), that I had to post it. Hopefully its as good as the picture looks!\", 'host': 'food.com', 'image': 'https://img.sndimg.com/food/image/upload/q_92,fl_progressive,w_1200,c_scale/v1/gk-static/fdc-new/img/fdc-shareGraphic.png', 'ingredient_groups': [{'ingredients': ['1 eggplant', '1/2 cup Italian seasoned breadcrumbs', '3 tablespoons olive oil', '1 (6 1/2 ounce) package cream cheese with garlic and herbs', '1 (14 ounce) jar spaghetti or 1 (14 ounce) jar pasta sauce', 'hot cooked pasta', '1/3 cup grated parmesan cheese'], 'purpose': None}], 'ingredients': ['1 eggplant', '1/2 cup Italian seasoned breadcrumbs', '3 tablespoons olive oil', '1 (6 1/2 ounce) package cream cheese with garlic and herbs', '1 (14 ounce) jar spaghetti or 1 (14 ounce) jar pasta sauce', 'hot cooked pasta', '1/3 cup grated parmesan cheese'], 'instructions': 'Preheat oven to 350. Trim both ends from eggplant. Slice eggplant. Soak slices in salted water for 10 minutes. Drain.\\nCoat both sides of eggplant slices with bread crumbs. Heat oil in skillet and cook 3 minutes per side.\\nSpread each slice evenly with cheese. Roll up and secure with a toothpick. Place in baking dish.\\nPour spaghetti sauce over eggplant rolls and bake for 15 minutes.\\nServe sauce and eggplant rolls over hot cooked pasta. Sprinkle with parmesan.', 'instructions_list': ['Preheat oven to 350. Trim both ends from eggplant. Slice eggplant. Soak slices in salted water for 10 minutes. Drain.', 'Coat both sides of eggplant slices with bread crumbs. Heat oil in skillet and cook 3 minutes per side.', 'Spread each slice evenly with cheese. Roll up and secure with a toothpick. Place in baking dish.', 'Pour spaghetti sauce over eggplant rolls and bake for 15 minutes.', 'Serve sauce and eggplant rolls over hot cooked pasta. Sprinkle with parmesan.'], 'keywords': ['Vegetable', '< 60 Mins', 'Inexpensive'], 'language': 'en', 'nutrients': {'calories': '580.4', 'fatContent': '15.1', 'saturatedFatContent': '3.4', 'cholesterolContent': '7.5', 'sodiumContent': '398.6', 'carbohydrateContent': '91.6', 'fiberContent': '7.8', 'sugarContent': '5.4', 'proteinContent': '19.5'}, 'prep_time': 15, 'ratings': 4, 'ratings_count': 1, 'site_name': 'Food.com', 'title': 'Garlic Herb Eggplant (Aubergine) Rolls', 'total_time': 35, 'yields': '4 servings', 'source': 'food', 'url': 'https://www.food.com/recipe/garlic-herb-eggplant-aubergine-rolls-115960', 'timestamp': {'$date': '2025-03-14T16:33:36.550Z'}}",
         "0.999830678163718",
         "Not Relevant"
        ],
        [
         "11",
         "pasta, tomato",
         null,
         "https://www.food.com/recipe/creamy-italian-pasta-295595",
         "{'_id': {'$oid': '67d43705293985ce9b44767e'}, 'author': 'F-16 momma', 'canonical_url': 'https://www.food.com/recipe/creamy-italian-pasta-295595', 'category': 'One Dish Meal', 'cook_time': None, 'description': \"Creamy...cheesy...yummy...goodness! Easy stove top Italian pasta dish. Would be great with olives or corn added as well. We've made it with Italian sausage as well.\", 'host': 'food.com', 'image': 'https://img.sndimg.com/food/image/upload/q_92,fl_progressive,w_1200,c_scale/v1/img/recipes/29/55/95/pictYdfTd.jpg', 'ingredient_groups': [{'ingredients': ['16 ounces pasta (fusilli, medium shells, elbow mac, etc)', '1 lb ground beef', '26 ounces pasta sauce', '8 ounces tomato sauce', '8 ounces cream cheese', '2 cups mozzarella cheese, shredded', '1 1/2 tablespoons italian seasoning', '1 teaspoon garlic powder'], 'purpose': None}], 'ingredients': ['16 ounces pasta (fusilli, medium shells, elbow mac, etc)', '1 lb ground beef', '26 ounces pasta sauce', '8 ounces tomato sauce', '8 ounces cream cheese', '2 cups mozzarella cheese, shredded', '1 1/2 tablespoons italian seasoning', '1 teaspoon garlic powder'], 'instructions': 'Boil pasta as directed on package and drain.\\nMeanwhile, brown meat with garlic powder and Italian seasoning.\\nMix all very well (except mozarella) in pasta pot (or larger pot) over low heat until cream cheese melts.\\nTop evenly with mozarella.\\nCover and let sit on low for about 15 min, or until mozarella melted.\\nEnjoy!', 'instructions_list': ['Boil pasta as directed on package and drain.', 'Meanwhile, brown meat with garlic powder and Italian seasoning.', 'Mix all very well (except mozarella) in pasta pot (or larger pot) over low heat until cream cheese melts.', 'Top evenly with mozarella.', 'Cover and let sit on low for about 15 min, or until mozarella melted.', 'Enjoy!'], 'keywords': ['Meat', 'Kid Friendly', 'Potluck', '< 60 Mins', 'Easy'], 'language': 'en', 'nutrients': {'calories': '793.1', 'fatContent': '37', 'saturatedFatContent': '18.3', 'cholesterolContent': '122.5', 'sodiumContent': '1190.3', 'carbohydrateContent': '75.6', 'fiberContent': '3.5', 'sugarContent': '14.4', 'proteinContent': '38.1'}, 'prep_time': 45, 'ratings': 3.5, 'ratings_count': 2, 'site_name': 'Food.com', 'title': 'Creamy Italian Pasta', 'total_time': 45, 'yields': '8 servings', 'source': 'food', 'url': 'https://www.food.com/recipe/creamy-italian-pasta-295595', 'timestamp': {'$date': '2025-03-14T14:02:45.159Z'}}",
         "0.9996548526685166",
         "Not Relevant"
        ],
        [
         "12",
         "pasta, tomato",
         null,
         "https://www.food.com/recipe/beef-parmesan-280976",
         "{'_id': {'$oid': '67d3f7a6293985ce9b42e7f8'}, 'author': 'PaulaG', 'canonical_url': 'https://www.food.com/recipe/beef-parmesan-280976', 'category': 'Meat', 'cook_time': 15, 'description': 'Make and share this Beef Parmesan recipe from Food.com.', 'host': 'food.com', 'image': 'https://img.sndimg.com/food/image/upload/q_92,fl_progressive,w_1200,c_scale/v1/img/recipes/28/09/76/pic6FLQyK.jpg', 'ingredient_groups': [{'ingredients': ['2 lean ground beef burgers, 1/4 pound each', '1 large tomatoes, chopped', '1/4 teaspoon dried basil or 1/4 teaspoon italian seasoning', 'salt and pepper', '1/2 cup mozzarella cheese, shredded', '1/8 cup grated parmesan cheese', '2 cups hot cooked pasta', '1/2 cup pasta sauce'], 'purpose': None}], 'ingredients': ['2 lean ground beef burgers, 1/4 pound each', '1 large tomatoes, chopped', '1/4 teaspoon dried basil or 1/4 teaspoon italian seasoning', 'salt and pepper', '1/2 cup mozzarella cheese, shredded', '1/8 cup grated parmesan cheese', '2 cups hot cooked pasta', '1/2 cup pasta sauce'], 'instructions': 'Preheat broiler for 5 minutes, place patties in a single layer and broil for 5 minutes.\\nTurn and top with salt/pepper to taste, chopped tomato, seasoning, mozzarella and Parmesan cheese; broil an additional 3 to 5 minutes or until burgers are cooked through and cheese is melted.\\nServe over pasta and sauce.', 'instructions_list': ['Preheat broiler for 5 minutes, place patties in a single layer and broil for 5 minutes.', 'Turn and top with salt/pepper to taste, chopped tomato, seasoning, mozzarella and Parmesan cheese; broil an additional 3 to 5 minutes or until burgers are cooked through and cheese is melted.', 'Serve over pasta and sauce.'], 'keywords': ['Broil/Grill', '< 30 Mins', 'Oven', 'Easy', 'Inexpensive'], 'language': 'en', 'nutrients': {'calories': '350.2', 'fatContent': '10.7', 'saturatedFatContent': '5.2', 'cholesterolContent': '27.6', 'sodiumContent': '576.3', 'carbohydrateContent': '50.6', 'fiberContent': '8.1', 'sugarContent': '8.3', 'proteinContent': '14.3'}, 'prep_time': 10, 'ratings': 4, 'ratings_count': 1, 'site_name': 'Food.com', 'title': 'Beef Parmesan', 'total_time': 25, 'yields': '2 servings', 'source': 'food', 'url': 'https://www.food.com/recipe/beef-parmesan-280976', 'timestamp': {'$date': '2025-03-14T09:32:22.166Z'}}",
         "0.9994159976141476",
         "Relevant"
        ],
        [
         "13",
         "pasta, tomato",
         null,
         "https://www.food.com/recipe/hot-dog-goulash-157395",
         "{'_id': {'$oid': '67d471be293985ce9b4605cf'}, 'author': 'Hedge', 'canonical_url': 'https://www.food.com/recipe/hot-dog-goulash-157395', 'category': 'Lunch/Snacks', 'cook_time': None, 'description': 'This is a concoction I came up with while trying to find a different way to use hot dogs that was kid friendly.', 'host': 'food.com', 'image': 'https://img.sndimg.com/food/image/upload/q_92,fl_progressive,w_1200,c_scale/v1/gk-static/fdc-new/img/fdc-shareGraphic.png', 'ingredient_groups': [{'ingredients': ['16 ounces hot dogs (I buy them when they are on sale)', '1/4 cup onion', '1 tablespoon olive oil', '1/2 teaspoon garlic powder', '1 quart diced tomato (I can my own but 2 16oz cans will do)', '1 (26 ounce) jar pasta sauce (I buy in quality when on sale 10 for $10.00)', '1 (10 1/2 ounce) can cream of tomato soup (on sale at $1.00 per can)', '1 cup water', '16 ounces pasta (I use medium shell macaroni on sale at 2 for $1.00)', \"1 dash pepper (I use fresh ground and don't add salt as the hot dogs are salty enough)\"], 'purpose': None}], 'ingredients': ['16 ounces hot dogs (I buy them when they are on sale)', '1/4 cup onion', '1 tablespoon olive oil', '1/2 teaspoon garlic powder', '1 quart diced tomato (I can my own but 2 16oz cans will do)', '1 (26 ounce) jar pasta sauce (I buy in quality when on sale 10 for $10.00)', '1 (10 1/2 ounce) can cream of tomato soup (on sale at $1.00 per can)', '1 cup water', '16 ounces pasta (I use medium shell macaroni on sale at 2 for $1.00)', \"1 dash pepper (I use fresh ground and don't add salt as the hot dogs are salty enough)\"], 'instructions': 'cut hot dogs in 1/2 lengthwise then into 1/4\" pieces.\\nIn 4qt pan brown hot dogs and onions in oil.\\nadd tomatoes, soup or tomato paste ,water, and pasta sauce. add pepper and garlic powder.\\nLet simmer while macaroni is cooking.\\nCook macar4oni in separate pan, drain and add to sauce.\\nWorks well with ground beef ,fresh browned of course, leftover hamburger patties chopped fine, leftover meat loaf or meatballs broken up fine and even leftover cooked chicken or turkey.', 'instructions_list': ['cut hot dogs in 1/2 lengthwise then into 1/4\" pieces.', 'In 4qt pan brown hot dogs and onions in oil.', 'add tomatoes, soup or tomato paste ,water, and pasta sauce. add pepper and garlic powder.', 'Let simmer while macaroni is cooking.', 'Cook macar4oni in separate pan, drain and add to sauce.', 'Works well with ground beef ,fresh browned of course, leftover hamburger patties chopped fine, leftover meat loaf or meatballs broken up fine and even leftover cooked chicken or turkey.'], 'keywords': ['< 15 Mins'], 'language': 'en', 'nutrients': {'calories': '752.4', 'fatContent': '31.1', 'saturatedFatContent': '10.5', 'cholesterolContent': '44.2', 'sodiumContent': '2287.3', 'carbohydrateContent': '94.8', 'fiberContent': '5.9', 'sugarContent': '21.8', 'proteinContent': '23.6'}, 'prep_time': 10, 'site_name': 'Food.com', 'title': 'Hot Dog Goulash', 'total_time': 10, 'yields': '6 servings', 'source': 'food', 'url': 'https://www.food.com/recipe/hot-dog-goulash-157395', 'timestamp': {'$date': '2025-03-14T18:13:18.212Z'}}",
         "0.999175875071789",
         "Relevant"
        ],
        [
         "14",
         "pasta, tomato",
         null,
         "https://www.food.com/recipe/cheesy-stuffed-shells-169282",
         "{'_id': {'$oid': '67d414f5293985ce9b43a1ae'}, 'author': 'Vino Girl', 'canonical_url': 'https://www.food.com/recipe/cheesy-stuffed-shells-169282', 'category': 'One Dish Meal', 'cook_time': 27, 'description': 'Make and share this Cheesy Stuffed Shells recipe from Food.com.', 'host': 'food.com', 'image': 'https://img.sndimg.com/food/image/upload/q_92,fl_progressive,w_1200,c_scale/v1/gk-static/fdc-new/img/fdc-shareGraphic.png', 'ingredient_groups': [{'ingredients': ['16 ounces low fat cottage cheese', '1 (10 ounce) package frozen chopped spinach, thawed, well drained', '1 cup shredded 2% mozzarella cheese, divided', '1/4 cup grated parmesan cheese', '1 teaspoon italian seasoning', '20 large pasta shells, cooked, drained', '1 (26 ounce) jar spaghetti sauce', '1 large tomatoes, chopped'], 'purpose': None}], 'ingredients': ['16 ounces low fat cottage cheese', '1 (10 ounce) package frozen chopped spinach, thawed, well drained', '1 cup shredded 2% mozzarella cheese, divided', '1/4 cup grated parmesan cheese', '1 teaspoon italian seasoning', '20 large pasta shells, cooked, drained', '1 (26 ounce) jar spaghetti sauce', '1 large tomatoes, chopped'], 'instructions': 'Preheat oven to 400°F\\nMix cottage cheese, spinach, 1/2 cup of the mozzarella cheese, Parmesan cheese and Italian seasoning until well blended.\\nSpoon 1 heaping tablespoons of the cheese mixture evenly into each pasta shell.\\nCombine spaghetti sauce and tomatoes; spoon half of the sauce mixture into 13x9-inch baking dish.\\nPlace shells, filled sides up, in baking dish.\\nSpoon remaining sauce mixture over shells.\\nCover with foil.\\nBake 25 minute or until heated through.\\nUncover; top with remaining 1/2 cup mozzarella cheese.\\nBake, uncovered, an additional 2 minute or until cheese is melted.', 'instructions_list': ['Preheat oven to 400°F', 'Mix cottage cheese, spinach, 1/2 cup of the mozzarella cheese, Parmesan cheese and Italian seasoning until well blended.', 'Spoon 1 heaping tablespoons of the cheese mixture evenly into each pasta shell.', 'Combine spaghetti sauce and tomatoes; spoon half of the sauce mixture into 13x9-inch baking dish.', 'Place shells, filled sides up, in baking dish.', 'Spoon remaining sauce mixture over shells.', 'Cover with foil.', 'Bake 25 minute or until heated through.', 'Uncover; top with remaining 1/2 cup mozzarella cheese.', 'Bake, uncovered, an additional 2 minute or until cheese is melted.'], 'keywords': ['Pasta Shells', 'Spinach', 'Cheese', 'Greens', 'Vegetable', 'Kid Friendly', 'Savory', '< 60 Mins', 'Oven', 'Easy'], 'language': 'en', 'nutrients': {'calories': '242.5', 'fatContent': '7.4', 'saturatedFatContent': '2.7', 'cholesterolContent': '11.6', 'sodiumContent': '1237.7', 'carbohydrateContent': '24.9', 'fiberContent': '2.8', 'sugarContent': '15.7', 'proteinContent': '19.9'}, 'prep_time': 30, 'site_name': 'Food.com', 'title': 'Cheesy Stuffed Shells', 'total_time': 57, 'yields': '5 servings', 'source': 'food', 'url': 'https://www.food.com/recipe/cheesy-stuffed-shells-169282', 'timestamp': {'$date': '2025-03-14T11:37:25.122Z'}}",
         "0.9989669095196818",
         "Relevant"
        ],
        [
         "15",
         "pasta, tomato",
         null,
         "https://www.food.com/recipe/homemade-marinara-sauce-73868",
         "{'_id': {'$oid': '67d46e9f293985ce9b45efb5'}, 'author': 'Audrey M', 'canonical_url': 'https://www.food.com/recipe/homemade-marinara-sauce-73868', 'category': 'One Dish Meal', 'cook_time': 30, 'description': 'Make and share this Homemade Marinara Sauce recipe from Food.com.', 'host': 'food.com', 'image': 'https://img.sndimg.com/food/image/upload/q_92,fl_progressive,w_1200,c_scale/v1/img/recipes/73/86/8/picezbX5Y.jpg', 'ingredient_groups': [{'ingredients': ['1 tablespoon olive oil', '1 1/2 tablespoons minced garlic', '6 lbs coarsely chopped peeled tomatoes (about 6 cups)', '3/4 teaspoon salt', '1/2 teaspoon black pepper', '1/4 cup chopped fresh basil', '1/4 cup chopped fresh parsley', '8 cups hot cooked spaghetti (about 1 pound uncooked pasta)'], 'purpose': None}], 'ingredients': ['1 tablespoon olive oil', '1 1/2 tablespoons minced garlic', '6 lbs coarsely chopped peeled tomatoes (about 6 cups)', '3/4 teaspoon salt', '1/2 teaspoon black pepper', '1/4 cup chopped fresh basil', '1/4 cup chopped fresh parsley', '8 cups hot cooked spaghetti (about 1 pound uncooked pasta)'], 'instructions': \"If fresh tomatoes aren't available, you can substitute a 28-ounce can of whole tomatoes, undrained and chopped, plus a 28-ounce can of diced tomatoes, undrained, instead.\\nTo balance the flavor and thicken the sauce, add 3 tablespoons of tomato paste and 1 teaspoon of sugar to the canned tomatoes.\\nHeat oil in a large saucepan over medium heat.\\nAdd garlic; cook 2 minutes, stirring frequently.\\nAdd tomato, salt, and pepper; bring to a boil.\\nReduce heat; simmer 25 minutes, stirring occasionally.\\nStir in basil and parsley, and cook 1 minute.\\nServe over pasta.\", 'instructions_list': [\"If fresh tomatoes aren't available, you can substitute a 28-ounce can of whole tomatoes, undrained and chopped, plus a 28-ounce can of diced tomatoes, undrained, instead.\", 'To balance the flavor and thicken the sauce, add 3 tablespoons of tomato paste and 1 teaspoon of sugar to the canned tomatoes.', 'Heat oil in a large saucepan over medium heat.', 'Add garlic; cook 2 minutes, stirring frequently.', 'Add tomato, salt, and pepper; bring to a boil.', 'Reduce heat; simmer 25 minutes, stirring occasionally.', 'Stir in basil and parsley, and cook 1 minute.', 'Serve over pasta.'], 'keywords': ['Spaghetti', 'European', 'Low Protein', 'Low Cholesterol', 'Healthy', '< 60 Mins', 'Stove Top'], 'language': 'en', 'nutrients': {'calories': '401.4', 'fatContent': '4.9', 'saturatedFatContent': '0.8', 'cholesterolContent': '0', 'sodiumContent': '317.2', 'carbohydrateContent': '76.3', 'fiberContent': '9', 'sugarContent': '13', 'proteinContent': '15.1'}, 'prep_time': 10, 'ratings': 5, 'ratings_count': 3, 'site_name': 'Food.com', 'title': 'Homemade Marinara Sauce', 'total_time': 40, 'yields': '6 servings', 'source': 'food', 'url': 'https://www.food.com/recipe/homemade-marinara-sauce-73868', 'timestamp': {'$date': '2025-03-14T17:59:59.411Z'}}",
         "0.99887861220278",
         "Relevant"
        ],
        [
         "16",
         "pasta, tomato",
         null,
         "https://www.food.com/recipe/garden-fresh-spaghetti-64548",
         "{'_id': {'$oid': '67d45922293985ce9b455b18'}, 'author': 'Upsidedown Again', 'canonical_url': 'https://www.food.com/recipe/garden-fresh-spaghetti-64548', 'category': 'Spaghetti', 'cook_time': 2, 'description': \"Pick the ingredients for this dish straight from your garden if you can. When that's impossible, premium produce from the store tastes great too. The spaghetti sauce seasons the dish, but oregano, basil, parsley, or red pepper, especially if they're fresh, can be added for more flavor.\", 'host': 'food.com', 'image': 'https://img.sndimg.com/food/image/upload/q_92,fl_progressive,w_1200,c_scale/v1/gk-static/fdc-new/img/fdc-shareGraphic.png', 'ingredient_groups': [{'ingredients': ['2 tablespoons olive oil', '1 cup sliced mushrooms', '1/4 cup chives', '2 -3 bell peppers, at least two different colors', '5 -6 large tomatoes', '1/4 cup spaghetti sauce', '8 ounces spaghetti'], 'purpose': None}], 'ingredients': ['2 tablespoons olive oil', '1 cup sliced mushrooms', '1/4 cup chives', '2 -3 bell peppers, at least two different colors', '5 -6 large tomatoes', '1/4 cup spaghetti sauce', '8 ounces spaghetti'], 'instructions': 'Heat oil in large skillet over medium heat.\\nAdd mushrooms.\\nChop each additional vegetable in turn as they appear on ingredients list, (chives, peppers, then tomatoes) adding each to the hot skillet as you finish chopping it.\\nChives should be chopped into long pieces and peppers and tomatoes should be cut into large bite-size pieces.\\nImmediately after adding tomatoes, add spaghetti sauce and cook just long enough to warm the tomatoes and sauce (1-2 minutes).\\nTo make this dish look especially fancy, spoon vegetables over each individual dish of spaghetti.', 'instructions_list': ['Heat oil in large skillet over medium heat.', 'Add mushrooms.', 'Chop each additional vegetable in turn as they appear on ingredients list, (chives, peppers, then tomatoes) adding each to the hot skillet as you finish chopping it.', 'Chives should be chopped into long pieces and peppers and tomatoes should be cut into large bite-size pieces.', 'Immediately after adding tomatoes, add spaghetti sauce and cook just long enough to warm the tomatoes and sauce (1-2 minutes).', 'To make this dish look especially fancy, spoon vegetables over each individual dish of spaghetti.'], 'keywords': ['Peppers', 'Vegetable', 'Low Protein', 'Low Cholesterol', 'Healthy', 'Summer', '< 30 Mins', 'Beginner Cook', 'Stove Top', 'Easy', 'Inexpensive'], 'language': 'en', 'nutrients': {'calories': '340.3', 'fatContent': '8.6', 'saturatedFatContent': '1.3', 'cholesterolContent': '0', 'sodiumContent': '92.3', 'carbohydrateContent': '56.7', 'fiberContent': '5.9', 'sugarContent': '10.2', 'proteinContent': '10.9'}, 'prep_time': 15, 'site_name': 'Food.com', 'title': 'Garden Fresh Spaghetti', 'total_time': 17, 'yields': '6 servings', 'source': 'food', 'url': 'https://www.food.com/recipe/garden-fresh-spaghetti-64548', 'timestamp': {'$date': '2025-03-14T16:28:18.388Z'}}",
         "0.9988669361811652",
         "Relevant"
        ],
        [
         "17",
         "pasta, tomato",
         null,
         "https://www.food.com/recipe/cheesy-chicken-and-pasta-shell-casserole-498333",
         "{'_id': {'$oid': '67d41315293985ce9b4395e6'}, 'author': 'weekend cooker', 'canonical_url': 'https://www.food.com/recipe/cheesy-chicken-and-pasta-shell-casserole-498333', 'category': 'Chicken', 'cook_time': 30, 'description': 'Make and share this Cheesy Chicken and Pasta Shell Casserole recipe from Food.com.', 'host': 'food.com', 'image': 'https://img.sndimg.com/food/image/upload/q_92,fl_progressive,w_1200,c_scale/v1/gk-static/fdc-new/img/fdc-shareGraphic.png', 'ingredient_groups': [{'ingredients': ['1 (8 ounce) box medium pasta shells, uncooked', '1 lb boneless skinless chicken breast, cut into bite size pieces', '1/4 teaspoon garlic powder', '1 medium green bell pepper, chopped', '1 (14 1/2 ounce) diced tomatoes, undrained', '1 (15 ounce) can tomato sauce', '1 1/2 cups shredded Italian cheese blend, divided'], 'purpose': None}], 'ingredients': ['1 (8 ounce) box medium pasta shells, uncooked', '1 lb boneless skinless chicken breast, cut into bite size pieces', '1/4 teaspoon garlic powder', '1 medium green bell pepper, chopped', '1 (14 1/2 ounce) diced tomatoes, undrained', '1 (15 ounce) can tomato sauce', '1 1/2 cups shredded Italian cheese blend, divided'], 'instructions': 'Preheat oven to 375 degrees.\\nCook pasta according to package directions, omitting the salt.\\nSpray a 8x8 baking dish with cooking spray, and set aside.\\nSpray large skillet with cooking spray, heat over medium-high heat, add chicken and sprinkle with garlic powder.\\nCook 2-3 minutes add bell pepper.\\nCook until pepper is tender and chicken is no longer pink in centers.\\nStir in undrained tomatoes, tomato sauce, 3/4 cup cheese, and cooked pasta.\\nTransfer mixture to prepared dish, and sprinkle with remaining 3/4 cup cheese.\\nbake 15 minutes or until cheese melts, and mixture is bubbly.', 'instructions_list': ['Preheat oven to 375 degrees.', 'Cook pasta according to package directions, omitting the salt.', 'Spray a 8x8 baking dish with cooking spray, and set aside.', 'Spray large skillet with cooking spray, heat over medium-high heat, add chicken and sprinkle with garlic powder.', 'Cook 2-3 minutes add bell pepper.', 'Cook until pepper is tender and chicken is no longer pink in centers.', 'Stir in undrained tomatoes, tomato sauce, 3/4 cup cheese, and cooked pasta.', 'Transfer mixture to prepared dish, and sprinkle with remaining 3/4 cup cheese.', 'bake 15 minutes or until cheese melts, and mixture is bubbly.'], 'keywords': ['Poultry', 'Meat', 'Weeknight', '< 60 Mins', 'Easy'], 'language': 'en', 'nutrients': {'calories': '261.1', 'fatContent': '2.8', 'saturatedFatContent': '0.6', 'cholesterolContent': '48.4', 'sodiumContent': '468.4', 'carbohydrateContent': '35.9', 'fiberContent': '3.5', 'sugarContent': '6.3', 'proteinContent': '22.8'}, 'prep_time': 10, 'site_name': 'Food.com', 'title': 'Cheesy Chicken and Pasta Shell Casserole', 'total_time': 40, 'yields': '1 serving', 'source': 'food', 'url': 'https://www.food.com/recipe/cheesy-chicken-and-pasta-shell-casserole-498333', 'timestamp': {'$date': '2025-03-14T11:29:25.782Z'}}",
         "0.9986169399171692",
         "Relevant"
        ],
        [
         "18",
         "pasta, tomato",
         null,
         "https://www.food.com/recipe/cheesy-shell-lasagne-mmm-367231",
         "{'_id': {'$oid': '67d4150e293985ce9b43a25d'}, 'author': 'Chef Decadent1', 'canonical_url': 'https://www.food.com/recipe/cheesy-shell-lasagne-mmm-367231', 'category': 'One Dish Meal', 'cook_time': 60, 'description': 'Easy and good...even the kids will enjoy this one. Compliments of taste of home...........thought I would share with my ZAAR friends. ENJOY!!!!', 'host': 'food.com', 'image': 'https://img.sndimg.com/food/image/upload/q_92,fl_progressive,w_1200,c_scale/v1/gk-static/fdc-new/img/fdc-shareGraphic.png', 'ingredient_groups': [{'ingredients': ['1 1/2 lbs ground beef', '2 medium onions, chopped', '1 garlic clove, minced', '14 1/2 ounces diced tomatoes', '14 ounces spaghetti sauce', '4 ounces mushroom pieces', '8 ounces small shell pasta', '2 cups sour cream', '8 ounces provolone cheese, shredded', '1 cup mozzarella cheese'], 'purpose': None}], 'ingredients': ['1 1/2 lbs ground beef', '2 medium onions, chopped', '1 garlic clove, minced', '14 1/2 ounces diced tomatoes', '14 ounces spaghetti sauce', '4 ounces mushroom pieces', '8 ounces small shell pasta', '2 cups sour cream', '8 ounces provolone cheese, shredded', '1 cup mozzarella cheese'], 'instructions': \"In a non stick skillet cook the beef, onion, and garlic until no pink remains in the beef. Drain stir in the tomatoes,meatless spaghetti sauce and undrained mushrooms. Bring to a boil. Reduce heat and simmer uncovered for 20 minutes.\\nMeanwhile cook pasta according to pkg directions. Drain.\\nPlace half of the pasta in an ungreased 13X9 dish.Top with half of the meat sauce, sour cream and provolene cheese. Repeat the layers. Sprinkle with mozzarella cheese.\\nCover and bake at 350 for 35-40 minutes. Uncover and bake 10 minutes longer or until the cheexe begins to brown. Let stand 10 minutes before cutting. Serve with garlic bread and a nice salad. Don't forget to take a picture!**I use marinara spaghetti sauce.\", 'instructions_list': ['In a non stick skillet cook the beef, onion, and garlic until no pink remains in the beef. Drain stir in the tomatoes,meatless spaghetti sauce and undrained mushrooms. Bring to a boil. Reduce heat and simmer uncovered for 20 minutes.', 'Meanwhile cook pasta according to pkg directions. Drain.', 'Place half of the pasta in an ungreased 13X9 dish.Top with half of the meat sauce, sour cream and provolene cheese. Repeat the layers. Sprinkle with mozzarella cheese.', \"Cover and bake at 350 for 35-40 minutes. Uncover and bake 10 minutes longer or until the cheexe begins to brown. Let stand 10 minutes before cutting. Serve with garlic bread and a nice salad. Don't forget to take a picture!**I use marinara spaghetti sauce.\"], 'keywords': ['< 4 Hours'], 'language': 'en', 'nutrients': {'calories': '413.7', 'fatContent': '24.9', 'saturatedFatContent': '13', 'cholesterolContent': '75.8', 'sodiumContent': '526.5', 'carbohydrateContent': '24.8', 'fiberContent': '1.6', 'sugarContent': '5.9', 'proteinContent': '22.6'}, 'prep_time': 10, 'site_name': 'Food.com', 'title': 'Cheesy Shell Lasagne..........mmm!!!', 'total_time': 70, 'yields': '12 servings', 'source': 'food', 'url': 'https://www.food.com/recipe/cheesy-shell-lasagne-mmm-367231', 'timestamp': {'$date': '2025-03-14T11:37:50.932Z'}}",
         "0.9982801813776628",
         "Relevant"
        ],
        [
         "19",
         "pasta, tomato",
         null,
         "https://www.food.com/recipe/chicken-tomato-pasta-soup-402865",
         "{'_id': {'$oid': '67d41cd2293985ce9b43d2bc'}, 'author': 'enestvmel', 'canonical_url': 'https://www.food.com/recipe/chicken-tomato-pasta-soup-402865', 'category': 'Low Cholesterol', 'cook_time': 15, 'description': \"Just made this on a whim tonight. Tasted pretty good, so I thought I'd post it because it was really easy and went great with our grilled cheese sandwiches. Something a little different than tomato soup...Leave out the chicken for a more vegetarian version. Great opportunity to use up your garden tomatoes!\", 'host': 'food.com', 'image': 'https://img.sndimg.com/food/image/upload/q_92,fl_progressive,w_1200,c_scale/v1/gk-static/fdc-new/img/fdc-shareGraphic.png', 'ingredient_groups': [{'ingredients': ['14 ounces tomato sauce', '14 ounces diced tomatoes', '3 ounces pasta', '14 ounces water', '1 cooked chicken breast, diced', '1 teaspoon garlic powder', '1/2 teaspoon basil', 'pepper', '1 pinch red pepper flakes (optional)'], 'purpose': None}], 'ingredients': ['14 ounces tomato sauce', '14 ounces diced tomatoes', '3 ounces pasta', '14 ounces water', '1 cooked chicken breast, diced', '1 teaspoon garlic powder', '1/2 teaspoon basil', 'pepper', '1 pinch red pepper flakes (optional)'], 'instructions': 'Put the sauce and tomatoes together with the water and bring to a boil.\\nAdd pasta and chicken and bring down to low.\\nAdd the spices and cook for about 15-20 minutes.', 'instructions_list': ['Put the sauce and tomatoes together with the water and bring to a boil.', 'Add pasta and chicken and bring down to low.', 'Add the spices and cook for about 15-20 minutes.'], 'keywords': ['Healthy', '< 30 Mins', 'Easy'], 'language': 'en', 'nutrients': {'calories': '187.7', 'fatContent': '2.6', 'saturatedFatContent': '0.7', 'cholesterolContent': '20.6', 'sodiumContent': '760', 'carbohydrateContent': '30.1', 'fiberContent': '3.6', 'sugarContent': '8.5', 'proteinContent': '12.3'}, 'prep_time': 5, 'site_name': 'Food.com', 'title': 'Chicken Tomato Pasta Soup', 'total_time': 20, 'yields': '6 cups', 'source': 'food', 'url': 'https://www.food.com/recipe/chicken-tomato-pasta-soup-402865', 'timestamp': {'$date': '2025-03-14T12:10:58.068Z'}}",
         "0.9977938507109074",
         "Relevant"
        ],
        [
         "20",
         "pork chop",
         null,
         "https://www.food.com/recipe/herbed-pork-chops-15394",
         "{'_id': {'$oid': '67d46c80293985ce9b45e110'}, 'author': 'Sharlene~W', 'canonical_url': 'https://www.food.com/recipe/herbed-pork-chops-15394', 'category': 'Pork', 'cook_time': 20, 'description': 'This is a simple, yet delicious entrée. Elegant enough for a dinner party, especially Variation 2. Update: My favorite is the cream/tarragon version, but I decided it needed more sauce. When I make it I triple all of the sauce ingredients.', 'host': 'food.com', 'image': 'https://img.sndimg.com/food/image/upload/q_92,fl_progressive,w_1200,c_scale/v1/img/recipes/15/39/4/pict7Lc0a.jpg', 'ingredient_groups': [{'ingredients': ['1 tablespoon vegetable oil', '2 lbs pork loin chops (about 1 inch thick) or 2 lbs pork chops (about 1 inch thick)', '6 tablespoons fresh lemon juice', '6 tablespoons water', '1 teaspoon thyme or 1 teaspoon rosemary, crumbled', '1/2 teaspoon salt', '1/4 teaspoon fresh ground black pepper'], 'purpose': None}], 'ingredients': ['1 tablespoon vegetable oil', '2 lbs pork loin chops (about 1 inch thick) or 2 lbs pork chops (about 1 inch thick)', '6 tablespoons fresh lemon juice', '6 tablespoons water', '1 teaspoon thyme or 1 teaspoon rosemary, crumbled', '1/2 teaspoon salt', '1/4 teaspoon fresh ground black pepper'], 'instructions': 'Heat oil in large skillet.\\nOver medium-high heat, add chops and cook until golden brown on both sides (2 to 4 minutes) Reduce heat to low and cook, turning often until chops are cooked through (10 to 12 minutes) Remove from pan and keep warm.\\nAdd remaining ingredients to the skillet and increase heat to high.\\nBring to a boil and cook, stirring up bits stuck to pan, until thickened (1 to 2 minutes) Serve sauce over chops.\\nVariation 1: Replace lemon juice and water with 3/4 cup dry white wine.\\nVariation 2: Replace lemon juice and water with 3/4 cup heavy cream and 3/4 cup chicken broth and replace dried thyme with dried tarragon.', 'instructions_list': ['Heat oil in large skillet.', 'Over medium-high heat, add chops and cook until golden brown on both sides (2 to 4 minutes) Reduce heat to low and cook, turning often until chops are cooked through (10 to 12 minutes) Remove from pan and keep warm.', 'Add remaining ingredients to the skillet and increase heat to high.', 'Bring to a boil and cook, stirring up bits stuck to pan, until thickened (1 to 2 minutes) Serve sauce over chops.', 'Variation 1: Replace lemon juice and water with 3/4 cup dry white wine.', 'Variation 2: Replace lemon juice and water with 3/4 cup heavy cream and 3/4 cup chicken broth and replace dried thyme with dried tarragon.'], 'keywords': ['Meat', 'Very Low Carbs', 'High Protein', 'High In...', '< 30 Mins', 'Stove Top', 'Easy'], 'language': 'en', 'nutrients': {'calories': '761.4', 'fatContent': '59.7', 'saturatedFatContent': '21.5', 'cholesterolContent': '194.9', 'sodiumContent': '450.1', 'carbohydrateContent': '2', 'fiberContent': '0.1', 'sugarContent': '0.5', 'proteinContent': '51'}, 'prep_time': 5, 'ratings': 4.5, 'ratings_count': 10, 'site_name': 'Food.com', 'title': 'Herbed Pork Chops', 'total_time': 25, 'yields': '4 servings', 'source': 'food', 'url': 'https://www.food.com/recipe/herbed-pork-chops-15394', 'timestamp': {'$date': '2025-03-14T17:50:56.158Z'}}",
         "0.9995575784572204",
         "Relevant"
        ],
        [
         "21",
         "pork chop",
         null,
         "https://www.food.com/recipe/balsamic-glazed-pork-chops-161554",
         "{'_id': {'$oid': '67d3f04b293985ce9b42ba08'}, 'author': 'slclemons', 'canonical_url': 'https://www.food.com/recipe/balsamic-glazed-pork-chops-161554', 'category': 'Pork', 'cook_time': 30, 'description': 'Make and share this Balsamic Glazed Pork Chops recipe from Food.com.', 'host': 'food.com', 'image': 'https://img.sndimg.com/food/image/upload/q_92,fl_progressive,w_1200,c_scale/v1/gk-static/fdc-new/img/fdc-shareGraphic.png', 'ingredient_groups': [{'ingredients': ['4 boneless pork chops or 4 center-cut pork chops', 'salt and pepper', '2/3 cup balsamic vinegar (a bit more for more gravy but also add a bit more sugar)', '1 1/2 teaspoons sugar', '8 -10 quartered shallots (peeled but ends left on)', '2 tablespoons olive oil'], 'purpose': None}], 'ingredients': ['4 boneless pork chops or 4 center-cut pork chops', 'salt and pepper', '2/3 cup balsamic vinegar (a bit more for more gravy but also add a bit more sugar)', '1 1/2 teaspoons sugar', '8 -10 quartered shallots (peeled but ends left on)', '2 tablespoons olive oil'], 'instructions': \"Season chops with salt & pepper and cook with shallots in hot oil (about 2.5 minutes on each side and chops are golden brown, turning shallots occasionally).\\nRemove chops and set aside on plate.\\nAdd vinegar, sugar (a bit of salt & pepper to taste) to shallots and continue cooking until mixture begins to thicken (about 5 minutes).\\nReturn chops and any juices on plate to skillet. Turn chops 3-4 times until coated. Then continue cooking until chops are done, turning twice.\\nRemove chops and continue cooking mixture for about 5 minutes. Pour gravy over chops and serve.\\nQuick, Easy and Delicious! I'm guessing on the prep and cook time. I can't remember and this is a required field.\\nP.S. You can add more chops but of course, increase other ingredients for the gravy.\", 'instructions_list': ['Season chops with salt & pepper and cook with shallots in hot oil (about 2.5 minutes on each side and chops are golden brown, turning shallots occasionally).', 'Remove chops and set aside on plate.', 'Add vinegar, sugar (a bit of salt & pepper to taste) to shallots and continue cooking until mixture begins to thicken (about 5 minutes).', 'Return chops and any juices on plate to skillet. Turn chops 3-4 times until coated. Then continue cooking until chops are done, turning twice.', 'Remove chops and continue cooking mixture for about 5 minutes. Pour gravy over chops and serve.', \"Quick, Easy and Delicious! I'm guessing on the prep and cook time. I can't remember and this is a required field.\", 'P.S. You can add more chops but of course, increase other ingredients for the gravy.'], 'keywords': ['Meat', 'Savory', '< 60 Mins', 'Beginner Cook', 'Easy', 'Inexpensive'], 'language': 'en', 'nutrients': {'calories': '418.7', 'fatContent': '19.6', 'saturatedFatContent': '5.5', 'cholesterolContent': '124', 'sodiumContent': '103.5', 'carbohydrateContent': '15.5', 'fiberContent': '0', 'sugarContent': '7.9', 'proteinContent': '41.1'}, 'prep_time': 20, 'ratings': 5, 'ratings_count': 2, 'site_name': 'Food.com', 'title': 'Balsamic Glazed Pork Chops', 'total_time': 50, 'yields': '4 servings', 'source': 'food', 'url': 'https://www.food.com/recipe/balsamic-glazed-pork-chops-161554', 'timestamp': {'$date': '2025-03-14T09:00:59.535Z'}}",
         "0.9992523752703916",
         "Relevant"
        ],
        [
         "22",
         "pork chop",
         null,
         "https://www.food.com/recipe/croatian-zagorje-kotlovina-329392",
         "{'_id': {'$oid': '67d43a74293985ce9b448bfa'}, 'author': 'nitko', 'canonical_url': 'https://www.food.com/recipe/croatian-zagorje-kotlovina-329392', 'category': 'Pork', 'cook_time': 60, 'description': 'This is very special meal form region Zagorje in Croatia. It is usually made for large groups of people, feasts, holidays, celebrations, or just drinking parties. The best is to use neck part of pork chopped into schnitzels, various sausages (preferably hot – we have one sausage nicknamed “Firemen’s party” because it is VERY hot), and of course pork chops. We use a special equipment (you can see on pictures), cauldron (in Croatian: “kotao”) and that is the origin of the name: Food from cauldron or “kotlovina”. This is recipe for about 15 persons but of course this can be reduced for smaller party. You can do it at home using frying pot but it will not be so great.', 'host': 'food.com', 'image': 'https://img.sndimg.com/food/image/upload/q_92,fl_progressive,w_1200,c_scale/v1/img/recipes/32/93/92/piczlCaMf.jpg', 'ingredient_groups': [{'ingredients': ['2000 g pork, nect (neck parts, chopped into schnitzels)', '1000 g pork chops', '1000 g sausages (preferably German, Bratwurst, Schinkenwurst)', '1000 g onions', '5 tablespoons dried red paprika (grounded)', '1 tablespoon dried hot red paprika (grounded)', '2000 g potatoes', '5 garlic cloves', '2 tablespoons salt', '1 tablespoon pepper', '1 liter white wine', '1 cup oil'], 'purpose': None}], 'ingredients': ['2000 g pork, nect (neck parts, chopped into schnitzels)', '1000 g pork chops', '1000 g sausages (preferably German, Bratwurst, Schinkenwurst)', '1000 g onions', '5 tablespoons dried red paprika (grounded)', '1 tablespoon dried hot red paprika (grounded)', '2000 g potatoes', '5 garlic cloves', '2 tablespoons salt', '1 tablespoon pepper', '1 liter white wine', '1 cup oil'], 'instructions': 'First chop pork meat (neck and chops) into schnitzels and marinate at least 4 hours in: salt, pepper, sliced garlic and oil. Just mix all these ingredients with meat, cover and keep in cool place. This is also nice marinade for normal pork meat on grill; we use it a lot in Croatia.\\nGrill meat and sausages on cauldron flat bottom part, and when done place them on the sides of the cauldron.\\nSlice all potatoes into 1/8 parts. Slice onion into rounds or half-rounds. Put onion into oil where meat was grilling and sauté it until translucent.\\nAdd all paprika, sweet and hot, stir, add all wine and stir removing possible lumps from paprika. Add all sliced potato and if necessary some water to cover potato. Fire must be strong.\\nCook potato about 20 to 30 minutes or until soft. Try it and if necessary salt it more. At the end or last 10 minutes add meat into potato. Serve hot with lot of wine to drink (or beer).', 'instructions_list': ['First chop pork meat (neck and chops) into schnitzels and marinate at least 4 hours in: salt, pepper, sliced garlic and oil. Just mix all these ingredients with meat, cover and keep in cool place. This is also nice marinade for normal pork meat on grill; we use it a lot in Croatia.', 'Grill meat and sausages on cauldron flat bottom part, and when done place them on the sides of the cauldron.', 'Slice all potatoes into 1/8 parts. Slice onion into rounds or half-rounds. Put onion into oil where meat was grilling and sauté it until translucent.', 'Add all paprika, sweet and hot, stir, add all wine and stir removing possible lumps from paprika. Add all sliced potato and if necessary some water to cover potato. Fire must be strong.', 'Cook potato about 20 to 30 minutes or until soft. Try it and if necessary salt it more. At the end or last 10 minutes add meat into potato. Serve hot with lot of wine to drink (or beer).'], 'keywords': ['Potato', 'Vegetable', 'Meat', 'European', 'For Large Groups', '< 4 Hours'], 'language': 'en', 'nutrients': {'calories': '1143.4', 'fatContent': '71.8', 'saturatedFatContent': '21.2', 'cholesterolContent': '255.3', 'sodiumContent': '1911.1', 'carbohydrateContent': '33.5', 'fiberContent': '4.8', 'sugarContent': '4.8', 'proteinContent': '76.3'}, 'prep_time': 30, 'site_name': 'Food.com', 'title': 'Croatian Zagorje “kotlovina”', 'total_time': 90, 'yields': '15 servings', 'source': 'food', 'url': 'https://www.food.com/recipe/croatian-zagorje-kotlovina-329392', 'timestamp': {'$date': '2025-03-14T14:17:24.985Z'}}",
         "0.9952542646101556",
         "Relevant"
        ],
        [
         "23",
         "pork chop",
         null,
         "https://www.food.com/recipe/fried-pork-chops-476519",
         "{'_id': {'$oid': '67d45613293985ce9b4545ae'}, 'author': 'Bekah Balmer', 'canonical_url': 'https://www.food.com/recipe/fried-pork-chops-476519', 'category': 'Pork', 'cook_time': 10, 'description': 'I only have a few ways of cooking pork chops (why mess with a good thing?). This is my favorite way to cook bone in chops inside.', 'host': 'food.com', 'image': 'https://img.sndimg.com/food/image/upload/q_92,fl_progressive,w_1200,c_scale/v1/gk-static/fdc-new/img/fdc-shareGraphic.png', 'ingredient_groups': [{'ingredients': ['4 bone in pork chops', '3 tablespoons olive oil', 'adobo seasoning'], 'purpose': None}], 'ingredients': ['4 bone in pork chops', '3 tablespoons olive oil', 'adobo seasoning'], 'instructions': 'Heat frying pan over medium heat with olive oil coating the pan.\\nliberally sprinkle adobo over chops and place in heated oil. liberally sprinkle adobo over other side of meat.\\nWhen you have a good sear on the first side, flip and sear the second.\\nAfter both sides have been seared turn down heat and finish cooking.', 'instructions_list': ['Heat frying pan over medium heat with olive oil coating the pan.', 'liberally sprinkle adobo over chops and place in heated oil. liberally sprinkle adobo over other side of meat.', 'When you have a good sear on the first side, flip and sear the second.', 'After both sides have been seared turn down heat and finish cooking.'], 'keywords': ['Meat', 'Very Low Carbs', 'High Protein', 'High In...', '< 15 Mins', 'Easy'], 'language': 'en', 'nutrients': {'calories': '427.8', 'fatContent': '28.1', 'saturatedFatContent': '7.3', 'cholesterolContent': '137.3', 'sodiumContent': '109.7', 'carbohydrateContent': '0', 'fiberContent': '0', 'sugarContent': '0', 'proteinContent': '41.2'}, 'prep_time': None, 'site_name': 'Food.com', 'title': 'Fried Pork Chops', 'total_time': 10, 'yields': '4 servings', 'source': 'food', 'url': 'https://www.food.com/recipe/fried-pork-chops-476519', 'timestamp': {'$date': '2025-03-14T16:15:15.901Z'}}",
         "0.9916637923737318",
         "Relevant"
        ],
        [
         "24",
         "pork chop",
         null,
         "https://www.food.com/recipe/breaded-pork-chops-351119",
         "{'_id': {'$oid': '67d4027b293985ce9b432c1f'}, 'author': 'HWOBBS25', 'canonical_url': 'https://www.food.com/recipe/breaded-pork-chops-351119', 'category': 'Pork', 'cook_time': 30, 'description': 'My boyfriend isnt a big pork fan, but he really enjoyed these! They are so simple and great for when your in a hurry and need a quick meal!', 'host': 'food.com', 'image': 'https://img.sndimg.com/food/image/upload/q_92,fl_progressive,w_1200,c_scale/v1/gk-static/fdc-new/img/fdc-shareGraphic.png', 'ingredient_groups': [{'ingredients': ['4 bone-in pork chops', '2 cups crushed corn flakes', '2 eggs, beaten', '1/4 cup milk'], 'purpose': None}], 'ingredients': ['4 bone-in pork chops', '2 cups crushed corn flakes', '2 eggs, beaten', '1/4 cup milk'], 'instructions': 'Mix together beaten eggs and milk.\\nDip porkchop in egg mixture then roll in crushed corn flakes.\\nPlace porkchops on greased baking sheet, salt and pepper to taste, and bake at 350 for about 30min or until porkchops are cooked through and corn flakes are crisp.', 'instructions_list': ['Mix together beaten eggs and milk.', 'Dip porkchop in egg mixture then roll in crushed corn flakes.', 'Place porkchops on greased baking sheet, salt and pepper to taste, and bake at 350 for about 30min or until porkchops are cooked through and corn flakes are crisp.'], 'keywords': ['Meat', 'High Protein', 'High In...', '< 60 Mins', 'Easy'], 'language': 'en', 'nutrients': {'calories': '321.1', 'fatContent': '17.3', 'saturatedFatContent': '6.1', 'cholesterolContent': '182.9', 'sodiumContent': '210.9', 'carbohydrateContent': '13.1', 'fiberContent': '0.3', 'sugarContent': '1.7', 'proteinContent': '27.1'}, 'prep_time': 15, 'ratings': 3, 'ratings_count': 1, 'site_name': 'Food.com', 'title': 'Breaded Pork Chops', 'total_time': 45, 'yields': '4 servings', 'source': 'food', 'url': 'https://www.food.com/recipe/breaded-pork-chops-351119', 'timestamp': {'$date': '2025-03-14T10:18:35.249Z'}}",
         "0.9887098252395368",
         "Relevant"
        ],
        [
         "25",
         "pork chop",
         null,
         "https://www.food.com/recipe/bbq-pork-chops-and-roasted-potatoes-161671",
         "{'_id': {'$oid': '67d3f4f1293985ce9b42d80a'}, 'author': 'looneytunesfan', 'canonical_url': 'https://www.food.com/recipe/bbq-pork-chops-and-roasted-potatoes-161671', 'category': 'Pork', 'cook_time': 90, 'description': 'Make and share this BBQ Pork Chops and Roasted Potatoes recipe from Food.com.', 'host': 'food.com', 'image': 'https://img.sndimg.com/food/image/upload/q_92,fl_progressive,w_1200,c_scale/v1/img/recipes/16/16/71/picLVGc81.jpg', 'ingredient_groups': [{'ingredients': ['6 lean pork chops', '2 large onions, sliced into rings', '6 large potatoes, peeled & halved', '1 (18 ounce) bottle barbecue sauce'], 'purpose': None}], 'ingredients': ['6 lean pork chops', '2 large onions, sliced into rings', '6 large potatoes, peeled & halved', '1 (18 ounce) bottle barbecue sauce'], 'instructions': 'Place pork chops in a single layer in a casserole dish. Layer potatoes and onion rings over meat. Pour barbecue sauce over vegetables and bake at 350 degrees until done, about 1 1/2 hours.', 'instructions_list': ['Place pork chops in a single layer in a casserole dish. Layer potatoes and onion rings over meat. Pour barbecue sauce over vegetables and bake at 350 degrees until done, about 1 1/2 hours.'], 'keywords': ['Potato', 'Vegetable', 'Meat', '< 4 Hours', 'Easy'], 'language': 'en', 'nutrients': {'calories': '444.8', 'fatContent': '0.7', 'saturatedFatContent': '0.1', 'cholesterolContent': '0', 'sodiumContent': '818.2', 'carbohydrateContent': '103.1', 'fiberContent': '9.5', 'sugarContent': '29.4', 'proteinContent': '8'}, 'prep_time': 30, 'ratings': 4, 'ratings_count': 1, 'site_name': 'Food.com', 'title': 'BBQ Pork Chops and Roasted Potatoes', 'total_time': 120, 'yields': '6 servings', 'source': 'food', 'url': 'https://www.food.com/recipe/bbq-pork-chops-and-roasted-potatoes-161671', 'timestamp': {'$date': '2025-03-14T09:20:49.771Z'}}",
         "0.9876526297333776",
         "Relevant"
        ],
        [
         "26",
         "pork chop",
         null,
         "https://www.food.com/recipe/crockpot-pork-chops-473577",
         "{'_id': {'$oid': '67d43cae293985ce9b449a23'}, 'author': 'internetnut', 'canonical_url': 'https://www.food.com/recipe/crockpot-pork-chops-473577', 'category': 'Lunch/Snacks', 'cook_time': 360, 'description': 'Serve with mashed potatoes. This came from Easy Home Cooked Recipes. I have not tried this, just posting for safe keeping.', 'host': 'food.com', 'image': 'https://img.sndimg.com/food/image/upload/q_92,fl_progressive,w_1200,c_scale/v1/gk-static/fdc-new/img/fdc-shareGraphic.png', 'ingredient_groups': [{'ingredients': ['4 whole bone in pork chops or 4 boneless pork chops', '1 ounce onion soup mix (1 envelope)', '1 1/2 cups chicken broth (or use 1 chicken bouillon cube in 1-1/2 C water)', '10 3/4 ounces cream of chicken soup', '1 ounce dry pork gravy mix (1 envelope)'], 'purpose': None}], 'ingredients': ['4 whole bone in pork chops or 4 boneless pork chops', '1 ounce onion soup mix (1 envelope)', '1 1/2 cups chicken broth (or use 1 chicken bouillon cube in 1-1/2 C water)', '10 3/4 ounces cream of chicken soup', '1 ounce dry pork gravy mix (1 envelope)'], 'instructions': 'Place chops in crockpot. In a bowl, mix all ingredients together & pour over chops.\\nCook on LOW for 6-8 hours.', 'instructions_list': ['Place chops in crockpot. In a bowl, mix all ingredients together & pour over chops.', 'Cook on LOW for 6-8 hours.'], 'keywords': ['Pork', 'Meat', 'Toddler Friendly', 'Kid Friendly', 'Easy'], 'language': 'en', 'nutrients': {'calories': '442.3', 'fatContent': '22.9', 'saturatedFatContent': '7.4', 'cholesterolContent': '143.4', 'sodiumContent': '1493.5', 'carbohydrateContent': '10.4', 'fiberContent': '0.5', 'sugarContent': '1', 'proteinContent': '45.4'}, 'prep_time': 15, 'ratings': 2, 'ratings_count': 3, 'site_name': 'Food.com', 'title': 'Crockpot Pork Chops', 'total_time': 375, 'yields': '4 servings', 'source': 'food', 'url': 'https://www.food.com/recipe/crockpot-pork-chops-473577', 'timestamp': {'$date': '2025-03-14T14:26:54.349Z'}}",
         "0.9852704738849282",
         "Relevant"
        ],
        [
         "27",
         "pork chop",
         null,
         "https://www.food.com/recipe/a-1-pork-chops-520375",
         "{'_id': {'$oid': '67d3ce5f293985ce9b424782'}, 'author': 'Montana Heart Song', 'canonical_url': 'https://www.food.com/recipe/a-1-pork-chops-520375', 'category': 'Meat', 'cook_time': 30, 'description': 'A1 sauce, mayonnaise. shake and bake for pork. Simple, great taste and moist! If you use thin pork chops less than 1 to 1 1/2 inch thick, cut the cooking time to 15 minutes and 5 minutes.Took a photo with phone and now have to figure out how to enter on computer.', 'host': 'food.com', 'image': 'https://img.sndimg.com/food/image/upload/q_92,fl_progressive,w_1200,c_scale/v1/gk-static/fdc-new/img/fdc-shareGraphic.png', 'ingredient_groups': [{'ingredients': ['4 teaspoons A.1. Original Sauce', '4 bone in pork chops', '4 tablespoons mayonnaise', '1 (4 ounce) envelope Shake-n-Bake for pork', 'Pam cooking spray'], 'purpose': None}], 'ingredients': ['4 teaspoons A.1. Original Sauce', '4 bone in pork chops', '4 tablespoons mayonnaise', '1 (4 ounce) envelope Shake-n-Bake for pork', 'Pam cooking spray'], 'instructions': 'Preheat oven 375*.\\nSpray Pam on baking dish.\\nLay pork chops flat on prep surface.\\nBrush on 1/2 tsp A1sauce on one side of each pork chop.\\nSpoon on 1/2 tblsp. mayonnaise on top of sauce on each pork chop. Gently spread until covered.\\nSprinkle one half of shake and bake envelope over the mayonnaise on each pork chop.\\nUsing a spatula gently lift each chop and slowly flip over into the baking pan.\\nProceed with steps 4,5,6, on the plain side of each pork chop.\\nBake in the oven uncovered 20 minutes. Pull out pan. Using spatula, gently flip over. Bake 10 more minutes.', 'instructions_list': ['Preheat oven 375*.', 'Spray Pam on baking dish.', 'Lay pork chops flat on prep surface.', 'Brush on 1/2 tsp A1sauce on one side of each pork chop.', 'Spoon on 1/2 tblsp. mayonnaise on top of sauce on each pork chop. Gently spread until covered.', 'Sprinkle one half of shake and bake envelope over the mayonnaise on each pork chop.', 'Using a spatula gently lift each chop and slowly flip over into the baking pan.', 'Proceed with steps 4,5,6, on the plain side of each pork chop.', 'Bake in the oven uncovered 20 minutes. Pull out pan. Using spatula, gently flip over. Bake 10 more minutes.'], 'keywords': ['Weeknight', '< 60 Mins', 'Easy'], 'language': 'en', 'nutrients': {'calories': '502.5', 'fatContent': '23.9', 'saturatedFatContent': '6.7', 'cholesterolContent': '141.1', 'sodiumContent': '832.6', 'carbohydrateContent': '26.1', 'fiberContent': '0', 'sugarContent': '0.9', 'proteinContent': '43.1'}, 'prep_time': 10, 'site_name': 'Food.com', 'title': 'A 1 Pork Chops', 'total_time': 40, 'yields': '4 servings', 'source': 'food', 'url': 'https://www.food.com/recipe/a-1-pork-chops-520375', 'timestamp': {'$date': '2025-03-14T06:36:15.057Z'}}",
         "0.9852704738849282",
         "Relevant"
        ],
        [
         "28",
         "pork chop",
         null,
         "https://www.food.com/recipe/chicken-lickin-good-pork-chops-35097",
         "{'_id': {'$oid': '67d41b26293985ce9b43c8af'}, 'author': 'angels606', 'canonical_url': 'https://www.food.com/recipe/chicken-lickin-good-pork-chops-35097', 'category': 'Pork', 'cook_time': 360, 'description': 'Make and share this Chicken Lickin Good Pork Chops recipe from Food.com.', 'host': 'food.com', 'image': 'https://img.sndimg.com/food/image/upload/q_92,fl_progressive,w_1200,c_scale/v1/gk-static/fdc-new/img/fdc-shareGraphic.png', 'ingredient_groups': [{'ingredients': ['6 -8 lean pork chops, 1 inch thick', '1/2 cup flour', '1 tablespoon salt', '1/2 teaspoon garlic powder', '2 tablespoons oil', '1 (10 1/2 ounce) can chicken and rice soup'], 'purpose': None}], 'ingredients': ['6 -8 lean pork chops, 1 inch thick', '1/2 cup flour', '1 tablespoon salt', '1/2 teaspoon garlic powder', '2 tablespoons oil', '1 (10 1/2 ounce) can chicken and rice soup'], 'instructions': 'Dredge pork chops in mixture of flour, salt,and garlic powder.\\nBrown in oil in large skillet.\\nPlace browned pork chops in CrockPot.\\nAdd can of soup.\\nCover and cook on low 6 to 8 hours.\\n(High: 3 1/2 hours).', 'instructions_list': ['Dredge pork chops in mixture of flour, salt,and garlic powder.', 'Brown in oil in large skillet.', 'Place browned pork chops in CrockPot.', 'Add can of soup.', 'Cover and cook on low 6 to 8 hours.', '(High: 3 1/2 hours).'], 'keywords': ['Meat', 'Weeknight'], 'language': 'en', 'nutrients': {'calories': '361.1', 'fatContent': '25.4', 'saturatedFatContent': '8.2', 'cholesterolContent': '71.5', 'sodiumContent': '1576.9', 'carbohydrateContent': '11.3', 'fiberContent': '0.6', 'sugarContent': '0.2', 'proteinContent': '20.6'}, 'prep_time': 20, 'ratings': 3.5, 'ratings_count': 2, 'site_name': 'Food.com', 'title': 'Chicken Lickin Good Pork Chops', 'total_time': 380, 'yields': '6 servings', 'source': 'food', 'url': 'https://www.food.com/recipe/chicken-lickin-good-pork-chops-35097', 'timestamp': {'$date': '2025-03-14T12:03:50.582Z'}}",
         "0.9798457663733824",
         "Relevant"
        ],
        [
         "29",
         "pork chop",
         null,
         "https://www.food.com/recipe/arabian-stew-248331",
         "{'_id': {'$oid': '67d3e752293985ce9b427d6f'}, 'author': 'KGCOOK', 'canonical_url': 'https://www.food.com/recipe/arabian-stew-248331', 'category': 'One Dish Meal', 'cook_time': 60, 'description': 'One dish meal and so easy to make. Uses pork chops, long grain rice, stewed tomatoes and vegetables.', 'host': 'food.com', 'image': 'https://img.sndimg.com/food/image/upload/q_92,fl_progressive,w_1200,c_scale/v1/gk-static/fdc-new/img/fdc-shareGraphic.png', 'ingredient_groups': [{'ingredients': ['4 lean pork chops (remove excess fat)', '1 (12 1/2 ounce) can stewed tomatoes, any flavor, reserve juice', '1 cup long grain rice, uncooked', '1 green pepper, sliced in rings', '4 slices onions', '2 cups tomato juice (use reserved juice and add enough water to make 2 cups liquid)'], 'purpose': None}], 'ingredients': ['4 lean pork chops (remove excess fat)', '1 (12 1/2 ounce) can stewed tomatoes, any flavor, reserve juice', '1 cup long grain rice, uncooked', '1 green pepper, sliced in rings', '4 slices onions', '2 cups tomato juice (use reserved juice and add enough water to make 2 cups liquid)'], 'instructions': 'Brown pork chops in pan with cooking spray.\\ntill about 1/2 done.\\nDrain tomatoe juice into measuring cup.\\nSqueeze tomatoes to get out excess juice. Add enough water to make 2 cups liquid.\\nPour rice into bottom of prepared baking dish.\\nand even out.\\nLay pork chops in single layer over rice.\\nOn each chop put one slice of green pepper, onion and tomato.\\nIf you have extra vegetables chop and shrinkle over casserole.\\nPour reserved tomato juice over te top.\\nCover and bake in a 350 degree oven for 1 hour or until rice is tender.', 'instructions_list': ['Brown pork chops in pan with cooking spray.', 'till about 1/2 done.', 'Drain tomatoe juice into measuring cup.', 'Squeeze tomatoes to get out excess juice. Add enough water to make 2 cups liquid.', 'Pour rice into bottom of prepared baking dish.', 'and even out.', 'Lay pork chops in single layer over rice.', 'On each chop put one slice of green pepper, onion and tomato.', 'If you have extra vegetables chop and shrinkle over casserole.', 'Pour reserved tomato juice over te top.', 'Cover and bake in a 350 degree oven for 1 hour or until rice is tender.'], 'keywords': ['Long Grain Rice', 'Pork', 'Rice', 'Meat', 'Low Cholesterol', 'Healthy', 'Beginner Cook', '< 4 Hours', 'Easy'], 'language': 'en', 'nutrients': {'calories': '482.2', 'fatContent': '20.5', 'saturatedFatContent': '7.6', 'cholesterolContent': '68.8', 'sodiumContent': '597.8', 'carbohydrateContent': '50.8', 'fiberContent': '2.8', 'sugarContent': '9.9', 'proteinContent': '23.4'}, 'prep_time': 15, 'ratings': 4.5, 'ratings_count': 2, 'site_name': 'Food.com', 'title': 'Arabian Stew', 'total_time': 75, 'yields': '4 servings', 'source': 'food', 'url': 'https://www.food.com/recipe/arabian-stew-248331', 'timestamp': {'$date': '2025-03-14T08:22:42.183Z'}}",
         "0.9798457663733824",
         "Relevant"
        ],
        [
         "30",
         "beans",
         "crock pot",
         "https://www.food.com/recipe/bruschetta-beans-342595",
         "{'_id': {'$oid': '67d405a2293985ce9b434038'}, 'author': 'lewyn', 'canonical_url': 'https://www.food.com/recipe/bruschetta-beans-342595', 'category': 'Beans', 'cook_time': 30, 'description': 'Beans mixed with bruschetta- I made it as a side dish, and much to my surprise my guests liked it better than anything else I made.', 'host': 'food.com', 'image': 'https://img.sndimg.com/food/image/upload/q_92,fl_progressive,w_1200,c_scale/v1/gk-static/fdc-new/img/fdc-shareGraphic.png', 'ingredient_groups': [{'ingredients': ['15 ounces beans', '5 ounces ready-made bruschetta'], 'purpose': None}], 'ingredients': ['15 ounces beans', '5 ounces ready-made bruschetta'], 'instructions': 'Put can of beans in baking pan.\\nMix bruschetta in beans.\\nBake for 30 minutes at 350 degrees (or fewer; generally, the biggest, thickest beans will take longer to bake).', 'instructions_list': ['Put can of beans in baking pan.', 'Mix bruschetta in beans.', 'Bake for 30 minutes at 350 degrees (or fewer; generally, the biggest, thickest beans will take longer to bake).'], 'keywords': ['Kosher', '< 60 Mins', 'Oven', 'Beginner Cook', 'Easy', 'Inexpensive'], 'language': 'en', 'nutrients': {'calories': '0', 'fatContent': '0', 'saturatedFatContent': '0', 'cholesterolContent': '0', 'sodiumContent': '0', 'carbohydrateContent': '0', 'fiberContent': '0', 'sugarContent': '0', 'proteinContent': '0'}, 'prep_time': 2, 'site_name': 'Food.com', 'title': 'Bruschetta Beans', 'total_time': 32, 'yields': '1 serving', 'source': 'food', 'url': 'https://www.food.com/recipe/bruschetta-beans-342595', 'timestamp': {'$date': '2025-03-14T10:32:02.276Z'}}",
         "0.9999999998863822",
         "Not Relevant"
        ],
        [
         "31",
         "beans",
         "crock pot",
         "https://www.food.com/recipe/frijoles-refritos-refried-beans-8226",
         "{'_id': {'$oid': '67d457a4293985ce9b455111'}, 'author': 'peppermintkitty', 'canonical_url': 'https://www.food.com/recipe/frijoles-refritos-refried-beans-8226', 'category': 'Beans', 'cook_time': None, 'description': 'Make and share this Frijoles Refritos (Refried Beans) recipe from Food.com.', 'host': 'food.com', 'image': 'https://img.sndimg.com/food/image/upload/q_92,fl_progressive,w_1200,c_scale/v1/gk-static/fdc-new/img/fdc-shareGraphic.png', 'ingredient_groups': [{'ingredients': ['2 cups beans, Cooked', '3 tablespoons lard or 3 tablespoons bacon drippings', '1/2 cup longhorn cheese, Grated'], 'purpose': None}], 'ingredients': ['2 cups beans, Cooked', '3 tablespoons lard or 3 tablespoons bacon drippings', '1/2 cup longhorn cheese, Grated'], 'instructions': 'Heat lard or bacon drippings in frying pan or saucepan.\\nAdd beans, mash and simmer for 5 minutes.\\nTop with cheese and serve when melted.\\nNOTE: this along with green chili and/or salsa is a great burrito filling.', 'instructions_list': ['Heat lard or bacon drippings in frying pan or saucepan.', 'Add beans, mash and simmer for 5 minutes.', 'Top with cheese and serve when melted.', 'NOTE: this along with green chili and/or salsa is a great burrito filling.'], 'keywords': ['Mexican', '< 15 Mins', 'Stove Top', 'Easy'], 'language': 'en', 'nutrients': {'calories': '102.1', 'fatContent': '10.1', 'saturatedFatContent': '4.8', 'cholesterolContent': '17.6', 'sodiumContent': '68.3', 'carbohydrateContent': '0.1', 'fiberContent': '0', 'sugarContent': '0.1', 'proteinContent': '2.7'}, 'prep_time': None, 'site_name': 'Food.com', 'title': 'Frijoles Refritos (Refried Beans)', 'total_time': 5, 'yields': '6 servings', 'source': 'food', 'url': 'https://www.food.com/recipe/frijoles-refritos-refried-beans-8226', 'timestamp': {'$date': '2025-03-14T16:21:56.610Z'}}",
         "0.999999999454841",
         "Not Relevant"
        ],
        [
         "32",
         "beans",
         "crock pot",
         "https://www.food.com/recipe/bean-pickles-26614",
         "{'_id': {'$oid': '67d3f679293985ce9b42e06d'}, 'author': 'Nancy Sneed', 'canonical_url': 'https://www.food.com/recipe/bean-pickles-26614', 'category': 'Very Low Carbs', 'cook_time': 5, 'description': \"Pickled green beans. Prep time would vary depending on the amount you were making but I will make an educated guess and include the time for washing the beans and jars and packing them into the jars. The cooking time will be for blanching the beans after the water boils. Here again I'm guessing at the amount it will make. Sorry but I found the recipe on the internet and that's all it said about it.\", 'host': 'food.com', 'image': 'https://img.sndimg.com/food/image/upload/q_92,fl_progressive,w_1200,c_scale/v1/gk-static/fdc-new/img/fdc-shareGraphic.png', 'ingredient_groups': [{'ingredients': ['beans', '1 gallon water', '1 cup salt', '1 cup vinegar'], 'purpose': None}], 'ingredients': ['beans', '1 gallon water', '1 cup salt', '1 cup vinegar'], 'instructions': 'Cook the beans until they change color.\\nDrain and cool.\\nPut in jars and seal.', 'instructions_list': ['Cook the beans until they change color.', 'Drain and cool.', 'Put in jars and seal.'], 'keywords': ['Low Protein', 'Low Cholesterol', 'Healthy', '< 60 Mins', 'Stove Top', 'Easy'], 'language': 'en', 'nutrients': {'calories': '7.1', 'fatContent': '0', 'saturatedFatContent': '0', 'cholesterolContent': '0', 'sodiumContent': '18875.5', 'carbohydrateContent': '0', 'fiberContent': '0', 'sugarContent': '0', 'proteinContent': '0'}, 'prep_time': 30, 'ratings': 4, 'ratings_count': 2, 'site_name': 'Food.com', 'title': 'Bean Pickles', 'total_time': 35, 'yields': '8 servings', 'source': 'food', 'url': 'https://www.food.com/recipe/bean-pickles-26614', 'timestamp': {'$date': '2025-03-14T09:27:21.870Z'}}",
         "0.9999999978606138",
         "Not Relevant"
        ],
        [
         "33",
         "beans",
         "crock pot",
         "https://www.food.com/recipe/hummus-159324",
         "{'_id': {'$oid': '67d47267293985ce9b460a70'}, 'author': 'kitinsoco', 'canonical_url': 'https://www.food.com/recipe/hummus-159324', 'category': '< 15 Mins', 'cook_time': None, 'description': 'Make and share this Hummus recipe from Food.com.', 'host': 'food.com', 'image': 'https://img.sndimg.com/food/image/upload/q_92,fl_progressive,w_1200,c_scale/v1/gk-static/fdc-new/img/fdc-shareGraphic.png', 'ingredient_groups': [{'ingredients': ['56 ounces beans, well drained', '1/2 cup olive oil', '5 garlic cloves', '1 teaspoon lemon juice'], 'purpose': None}], 'ingredients': ['56 ounces beans, well drained', '1/2 cup olive oil', '5 garlic cloves', '1 teaspoon lemon juice'], 'instructions': 'Put all ingredients in a blender and process until smooth.\\nRefrigerate before serving. This tastes better when kept overnight in refrigerator. Will keep for one week in the refrigerator and three months in the freezer.', 'instructions_list': ['Put all ingredients in a blender and process until smooth.', 'Refrigerate before serving. This tastes better when kept overnight in refrigerator. Will keep for one week in the refrigerator and three months in the freezer.'], 'keywords': ['Easy'], 'language': 'en', 'nutrients': {'calories': '163.1', 'fatContent': '18', 'saturatedFatContent': '2.5', 'cholesterolContent': '0', 'sodiumContent': '0.8', 'carbohydrateContent': '0.9', 'fiberContent': '0.1', 'sugarContent': '0.1', 'proteinContent': '0.2'}, 'prep_time': 15, 'site_name': 'Food.com', 'title': 'Hummus', 'total_time': 15, 'yields': '6 servings', 'source': 'food', 'url': 'https://www.food.com/recipe/hummus-159324', 'timestamp': {'$date': '2025-03-14T18:16:07.745Z'}}",
         "0.9999999978606138",
         "Not Relevant"
        ],
        [
         "34",
         "beans",
         "crock pot",
         "https://www.food.com/recipe/bean-burritos-in-a-hurry-66372",
         "{'_id': {'$oid': '67d3f683293985ce9b42e0ac'}, 'author': 'Mexi-Rosie', 'canonical_url': 'https://www.food.com/recipe/bean-burritos-in-a-hurry-66372', 'category': 'Lunch/Snacks', 'cook_time': 2, 'description': 'Make and share this Bean Burritos in a Hurry recipe from Food.com.', 'host': 'food.com', 'image': 'https://img.sndimg.com/food/image/upload/q_92,fl_progressive,w_1200,c_scale/v1/gk-static/fdc-new/img/fdc-shareGraphic.png', 'ingredient_groups': [{'ingredients': ['1 flour tortilla', '1 teaspoon adobo sauce', '1 1/2 tablespoons cooked and drained whole beans or 1 1/2 tablespoons refried beans', '2 slices cream cheese'], 'purpose': None}], 'ingredients': ['1 flour tortilla', '1 teaspoon adobo sauce', '1 1/2 tablespoons cooked and drained whole beans or 1 1/2 tablespoons refried beans', '2 slices cream cheese'], 'instructions': 'Moisten inside of tortilla with chipotle liquid.\\nSpread beans (if refried) on whole tortilla, or if unrefried a row in center.\\nPlace the cream cheese on top-.\\nHeat in microwave, if desired.', 'instructions_list': ['Moisten inside of tortilla with chipotle liquid.', 'Spread beans (if refried) on whole tortilla, or if unrefried a row in center.', 'Place the cream cheese on top-.', 'Heat in microwave, if desired.'], 'keywords': ['Beans', 'Mexican', 'Microwave', '< 15 Mins', 'Easy'], 'language': 'en', 'nutrients': {'calories': '93.6', 'fatContent': '2.3', 'saturatedFatContent': '0.6', 'cholesterolContent': '0', 'sodiumContent': '190.8', 'carbohydrateContent': '15.4', 'fiberContent': '0.9', 'sugarContent': '0.6', 'proteinContent': '2.5'}, 'prep_time': 3, 'site_name': 'Food.com', 'title': 'Bean Burritos in a Hurry', 'total_time': 5, 'yields': '1 serving', 'source': 'food', 'url': 'https://www.food.com/recipe/bean-burritos-in-a-hurry-66372', 'timestamp': {'$date': '2025-03-14T09:27:31.458Z'}}",
         "0.9999999978606138",
         "Not Relevant"
        ],
        [
         "35",
         "beans",
         "crock pot",
         "https://www.food.com/recipe/amaranth-190649",
         "{'_id': {'$oid': '67d3d88a293985ce9b4256eb'}, 'author': 'drhousespcatcher', 'canonical_url': 'https://www.food.com/recipe/amaranth-190649', 'category': 'Breakfast', 'cook_time': None, 'description': 'Make and share this Amaranth recipe from Food.com.', 'host': 'food.com', 'image': 'https://img.sndimg.com/food/image/upload/q_92,fl_progressive,w_1200,c_scale/v1/gk-static/fdc-new/img/fdc-shareGraphic.png', 'ingredient_groups': [{'ingredients': ['1 cup amaranth', '2 1/2 cups water or 2 1/2 cups stock, see note', 'fresh herb, to taste', 'cooked beans (optional)'], 'purpose': None}], 'ingredients': ['1 cup amaranth', '2 1/2 cups water or 2 1/2 cups stock, see note', 'fresh herb, to taste', 'cooked beans (optional)'], 'instructions': 'For breakfast cereal increase the liquid used to 3 cups and sweeten.\\nYou may add dried fruit, allspice and nuts if desired.\\nBoil the seeds in the liquid [if using stock use 1/2 cup stock to 1/2 cup water] until the seeds are tender, about 18 to 20 minutes.\\nAdd the herbs, grated gingerroot, beans. Serve.', 'instructions_list': ['For breakfast cereal increase the liquid used to 3 cups and sweeten.', 'You may add dried fruit, allspice and nuts if desired.', 'Boil the seeds in the liquid [if using stock use 1/2 cup stock to 1/2 cup water] until the seeds are tender, about 18 to 20 minutes.', 'Add the herbs, grated gingerroot, beans. Serve.'], 'keywords': ['Grains', 'Mexican', 'Vegan', 'Low Cholesterol', 'Healthy', '< 30 Mins', 'Easy'], 'language': 'en', 'nutrients': {'calories': '510.4', 'fatContent': '6.7', 'saturatedFatContent': '1.7', 'cholesterolContent': '0', 'sodiumContent': '29.8', 'carbohydrateContent': '100.7', 'fiberContent': '9.4', 'sugarContent': '33.8', 'proteinContent': '14.3'}, 'prep_time': 20, 'site_name': 'Food.com', 'title': 'Amaranth', 'total_time': 20, 'yields': '2 cups', 'source': 'food', 'url': 'https://www.food.com/recipe/amaranth-190649', 'timestamp': {'$date': '2025-03-14T07:19:38.305Z'}}",
         "0.9999999978606138",
         "Not Relevant"
        ],
        [
         "36",
         "beans",
         "crock pot",
         "https://www.food.com/recipe/chili-bean-dip-403978",
         "{'_id': {'$oid': '67d41f07293985ce9b43e092'}, 'author': 'internetnut', 'canonical_url': 'https://www.food.com/recipe/chili-bean-dip-403978', 'category': 'Beans', 'cook_time': None, 'description': \"I found this in The Market Basket Fresh Fruit and Vegetable Guide. This comes from the New York State WIC Program Farmers Market Nutrition Program. I have not tried this recipe, but I'm posting it for safe keeping.\", 'host': 'food.com', 'image': 'https://img.sndimg.com/food/image/upload/q_92,fl_progressive,w_1200,c_scale/v1/gk-static/fdc-new/img/fdc-shareGraphic.png', 'ingredient_groups': [{'ingredients': ['2 cups beans, cooked', '1 tablespoon vinegar', '1 teaspoon chili powder', '2 teaspoons onions, minced'], 'purpose': None}], 'ingredients': ['2 cups beans, cooked', '1 tablespoon vinegar', '1 teaspoon chili powder', '2 teaspoons onions, minced'], 'instructions': \"Blend until smooth.\\n'.\\nEnjoy.\", 'instructions_list': ['Blend until smooth.', \"'.\", 'Enjoy.'], 'keywords': ['Weeknight', '< 15 Mins', 'Easy'], 'language': 'en', 'nutrients': {'calories': '3.4', 'fatContent': '0.1', 'saturatedFatContent': '0', 'cholesterolContent': '0', 'sodiumContent': '6.7', 'carbohydrateContent': '0.5', 'fiberContent': '0.2', 'sugarContent': '0.1', 'proteinContent': '0.1'}, 'prep_time': 10, 'site_name': 'Food.com', 'title': 'Chili Bean Dip', 'total_time': 10, 'yields': '5 servings', 'source': 'food', 'url': 'https://www.food.com/recipe/chili-bean-dip-403978', 'timestamp': {'$date': '2025-03-14T12:20:23.085Z'}}",
         "0.9999999978606138",
         "Not Relevant"
        ],
        [
         "37",
         "beans",
         "crock pot",
         "https://www.food.com/recipe/frijoles-refritos-classic-mexican-refried-beans-69761",
         "{'_id': {'$oid': '67d457a4293985ce9b45510f'}, 'author': 'Joy1996', 'canonical_url': 'https://www.food.com/recipe/frijoles-refritos-classic-mexican-refried-beans-69761', 'category': 'Mexican', 'cook_time': 10, 'description': 'Make and share this Frijoles Refritos (Classic Mexican Refried Beans) recipe from Food.com.', 'host': 'food.com', 'image': 'https://img.sndimg.com/food/image/upload/q_92,fl_progressive,w_1200,c_scale/v1/img/recipes/69/76/1/pic4dnWZ4.jpg', 'ingredient_groups': [{'ingredients': ['3 tablespoons vegetable oil or 3 tablespoons bacon drippings', '4 cloves peeled and finely chopped garlic', '1 medium onion, chopped', '4 cups undrained cooked beans (slightly warm for easy mashing Note Canned beans may be used)', 'salt'], 'purpose': None}], 'ingredients': ['3 tablespoons vegetable oil or 3 tablespoons bacon drippings', '4 cloves peeled and finely chopped garlic', '1 medium onion, chopped', '4 cups undrained cooked beans (slightly warm for easy mashing Note Canned beans may be used)', 'salt'], 'instructions': 'Mash the beans in a bowl.\\nIn a medium skillet, heat the oil over medium heat.\\nAdd the onion and the garlic; cook and stir until onion is deep golden, about 10 minutes.\\nStir in the mashed beans and cook for about one minute.\\nAdd salt to taste.\\nMakes about one pint.', 'instructions_list': ['Mash the beans in a bowl.', 'In a medium skillet, heat the oil over medium heat.', 'Add the onion and the garlic; cook and stir until onion is deep golden, about 10 minutes.', 'Stir in the mashed beans and cook for about one minute.', 'Add salt to taste.', 'Makes about one pint.'], 'keywords': ['< 15 Mins', 'Stove Top'], 'language': 'en', 'nutrients': {'calories': '424.8', 'fatContent': '41', 'saturatedFatContent': '5.3', 'cholesterolContent': '0', 'sodiumContent': '5.3', 'carbohydrateContent': '15.1', 'fiberContent': '1.8', 'sugarContent': '4.8', 'proteinContent': '1.8'}, 'prep_time': 5, 'ratings': 4.5, 'ratings_count': 3, 'site_name': 'Food.com', 'title': 'Frijoles Refritos (Classic Mexican Refried Beans)', 'total_time': 15, 'yields': '1 pint', 'source': 'food', 'url': 'https://www.food.com/recipe/frijoles-refritos-classic-mexican-refried-beans-69761', 'timestamp': {'$date': '2025-03-14T16:21:56.386Z'}}",
         "0.9999999928793052",
         "Not Relevant"
        ],
        [
         "38",
         "beans",
         "crock pot",
         "https://www.food.com/recipe/healthy-bean-buns-dumplings-217419",
         "{'_id': {'$oid': '67d46a1d293985ce9b45d065'}, 'author': 'Lolliie', 'canonical_url': 'https://www.food.com/recipe/healthy-bean-buns-dumplings-217419', 'category': 'Yeast Breads', 'cook_time': 30, 'description': 'No sugar, oil, salt etc - the filling only contains cooked mixed beans. I know it sounds quite bland, but I love the natural nutty flavour :)', 'host': 'food.com', 'image': 'https://img.sndimg.com/food/image/upload/q_92,fl_progressive,w_1200,c_scale/v1/gk-static/fdc-new/img/fdc-shareGraphic.png', 'ingredient_groups': [{'ingredients': ['7 g dry yeast', '3 cups white flour', '2 cups luke-warm water', '1 cup unprocessed wheat bran', '3 cups beans, cooked'], 'purpose': None}], 'ingredients': ['7 g dry yeast', '3 cups white flour', '2 cups luke-warm water', '1 cup unprocessed wheat bran', '3 cups beans, cooked'], 'instructions': \"Dissolve yeast in the water in a large bowl.\\nAdd flour gradually and continue mixing until a dough starts to form.\\nAdd some more flour if the dough still looks sticky, but don't knead.\\nLeave it in the bowl to rise for approximately 20 min or when the dough has reached the top of the bowl.\\nKnead the dough on a well floured surface until it becomes quite elastic - it's very sticky, but once you've worked with it it'll get easier.\\nDivide dough into 18 pieces and roll them out approximately 2 cms thick.\\nMash the cooked beans/put them in the mixer - don't make them too mushy, there should still be some chunks left.\\nTIPS: I put a small amount of all kinds of beans eg. kidney, borlotti, mung beans, black eyed peas etc.\\nPut some of the paste in the middle of the dough and wrap the sides around it then form into a normal bun, or a Chinese 'dumpling' (baozi).\\nSteam on high heat until you see steam coming out, then turn it down to medium heat and steam for another 10 minutes.\\nServe with your fav seasoning/jam etc. if you think the taste is too bland, & Enjoy!\", 'instructions_list': ['Dissolve yeast in the water in a large bowl.', 'Add flour gradually and continue mixing until a dough starts to form.', \"Add some more flour if the dough still looks sticky, but don't knead.\", 'Leave it in the bowl to rise for approximately 20 min or when the dough has reached the top of the bowl.', \"Knead the dough on a well floured surface until it becomes quite elastic - it's very sticky, but once you've worked with it it'll get easier.\", 'Divide dough into 18 pieces and roll them out approximately 2 cms thick.', \"Mash the cooked beans/put them in the mixer - don't make them too mushy, there should still be some chunks left.\", 'TIPS: I put a small amount of all kinds of beans eg. kidney, borlotti, mung beans, black eyed peas etc.', \"Put some of the paste in the middle of the dough and wrap the sides around it then form into a normal bun, or a Chinese 'dumpling' (baozi).\", 'Steam on high heat until you see steam coming out, then turn it down to medium heat and steam for another 10 minutes.', 'Serve with your fav seasoning/jam etc. if you think the taste is too bland, & Enjoy!'], 'keywords': ['Breads', 'Beans', 'Asian', 'Lactose Free', 'Vegan', 'Egg Free', 'Free Of...', 'For Large Groups', '< 4 Hours', 'Easy'], 'language': 'en', 'nutrients': {'calories': '83.9', 'fatContent': '0.4', 'saturatedFatContent': '0.1', 'cholesterolContent': '0', 'sodiumContent': '1.2', 'carbohydrateContent': '18.1', 'fiberContent': '2', 'sugarContent': '0.1', 'proteinContent': '2.8'}, 'prep_time': 45, 'site_name': 'Food.com', 'title': 'Healthy Bean Buns / Dumplings', 'total_time': 75, 'yields': '1 bun', 'source': 'food', 'url': 'https://www.food.com/recipe/healthy-bean-buns-dumplings-217419', 'timestamp': {'$date': '2025-03-14T17:40:45.207Z'}}",
         "0.9999999928793052",
         "Not Relevant"
        ],
        [
         "39",
         "beans",
         "crock pot",
         "https://www.food.com/recipe/cheesy-bean-dip-made-easy-112745",
         "{'_id': {'$oid': '67d41413293985ce9b439c33'}, 'author': 'Rita1652', 'canonical_url': 'https://www.food.com/recipe/cheesy-bean-dip-made-easy-112745', 'category': 'Beans', 'cook_time': 3, 'description': 'The 4 ingredients in this is easy to keep on hand for unexpected guests or an quick, easy dip to make when needed. I keep grated cheese frozen for times like this and the cans in the cupboard.', 'host': 'food.com', 'image': 'https://img.sndimg.com/food/image/upload/q_92,fl_progressive,w_1200,c_scale/v1/img/recipes/11/27/45/picaTkbcL.jpg', 'ingredient_groups': [{'ingredients': ['1 (16 ounce) can beans, your choice of what you liked i used pink beans', '1 (4 1/2 ounce) can green chilies', '2 cups your favorite salsa (heat level as you like)', '2 cups shredded cheddar cheese or 2 cups monterey jack cheese'], 'purpose': None}], 'ingredients': ['1 (16 ounce) can beans, your choice of what you liked i used pink beans', '1 (4 1/2 ounce) can green chilies', '2 cups your favorite salsa (heat level as you like)', '2 cups shredded cheddar cheese or 2 cups monterey jack cheese'], 'instructions': 'Pour beans into the blender with a 1/4 cup salsa blend till smooth.\\nPlace into a microwave safe bowl with chilies, rest of the salsa and cheese.\\nMix to blend then microwave for 3 minutes mix till smooth and gooey.\\nServe with chips of vegies.', 'instructions_list': ['Pour beans into the blender with a 1/4 cup salsa blend till smooth.', 'Place into a microwave safe bowl with chilies, rest of the salsa and cheese.', 'Mix to blend then microwave for 3 minutes mix till smooth and gooey.', 'Serve with chips of vegies.'], 'keywords': ['Vegetable', 'Mexican', 'Spicy', 'Microwave', '< 15 Mins', 'Small Appliance', 'Easy'], 'language': 'en', 'nutrients': {'calories': '137.8', 'fatContent': '9.5', 'saturatedFatContent': '6', 'cholesterolContent': '29.7', 'sodiumContent': '565.1', 'carbohydrateContent': '5.9', 'fiberContent': '1.3', 'sugarContent': '3', 'proteinContent': '8.3'}, 'prep_time': 5, 'ratings': 5, 'ratings_count': 6, 'site_name': 'Food.com', 'title': 'Cheesy Bean Dip Made Easy', 'total_time': 8, 'yields': '10 servings', 'source': 'food', 'url': 'https://www.food.com/recipe/cheesy-bean-dip-made-easy-112745', 'timestamp': {'$date': '2025-03-14T11:33:39.571Z'}}",
         "0.9999999928793052",
         "Not Relevant"
        ],
        [
         "40",
         "beans",
         "crock pot",
         "https://www.food.com/recipe/crocket-pot-lasagna-443295",
         "{'_id': {'$oid': '67d43cd7293985ce9b449b24'}, 'author': 'Big Mike2', 'canonical_url': 'https://www.food.com/recipe/crocket-pot-lasagna-443295', 'category': 'Meat', 'cook_time': 300, 'description': 'Low-carb crock pot lasagna. Best made in a large oval crock pot or half the recipe and do it in a small round crock pot.', 'host': 'food.com', 'image': 'https://img.sndimg.com/food/image/upload/q_92,fl_progressive,w_1200,c_scale/v1/gk-static/fdc-new/img/fdc-shareGraphic.png', 'ingredient_groups': [{'ingredients': ['1 lb ground beef or 1 lb turkey', '1 lb ground Italian sausage', '1 medium onion, diced (optional)', '1 small green pepper, diced (optional)', '4 ounces mixed mushrooms, diced (optional)', '4 garlic cloves, chopped (optional)', 'italian seasoning, Salt, Pepper', '4 cups mozzarella cheese', '1 (16 ounce) container small curd cottage cheese (small container) or 1 (16 ounce) container ricotta cheese (small container)', '2 (24 ounce) jars spaghetti sauce', \"8 uncooked lasagna noodles (Dreamfield's)\"], 'purpose': None}], 'ingredients': ['1 lb ground beef or 1 lb turkey', '1 lb ground Italian sausage', '1 medium onion, diced (optional)', '1 small green pepper, diced (optional)', '4 ounces mixed mushrooms, diced (optional)', '4 garlic cloves, chopped (optional)', 'italian seasoning, Salt, Pepper', '4 cups mozzarella cheese', '1 (16 ounce) container small curd cottage cheese (small container) or 1 (16 ounce) container ricotta cheese (small container)', '2 (24 ounce) jars spaghetti sauce', \"8 uncooked lasagna noodles (Dreamfield's)\"], 'instructions': 'Brown the meat along with the onions and garlic along with seasonings, drain off the fat.\\nSpray a large, oval-shaped crock pot with non-stick spray – better yet, use a crock pot liner for easier cleanup.\\nPut a small bit of spaghetti sauce in the crock pot – just enough to lightly cover the bottom.\\nThen, place in 4 of the uncooked lasagna noodles. Breaking them up, as necessary.\\nLayer on half of the ground meat.\\nNow, pour on a jar of the spaghetti sauce – I also recommend adding some salt and pepper to this sauce layer to cook inches But this is up to you and depends on what sauce you’re using.\\nThen dollop on half of the cottage cheese or ricotta.\\nPut on 2 cups of the mozzarella.\\nNow, repeat the layers: noodles, meat, cottage/ricotta and mozzarella.\\nPut crock pot on medium for 4-5 hours, if your crock pot does not have medium, then 3 hours on high, 1 on low.', 'instructions_list': ['Brown the meat along with the onions and garlic along with seasonings, drain off the fat.', 'Spray a large, oval-shaped crock pot with non-stick spray – better yet, use a crock pot liner for easier cleanup.', 'Put a small bit of spaghetti sauce in the crock pot – just enough to lightly cover the bottom.', 'Then, place in 4 of the uncooked lasagna noodles. Breaking them up, as necessary.', 'Layer on half of the ground meat.', 'Now, pour on a jar of the spaghetti sauce – I also recommend adding some salt and pepper to this sauce layer to cook inches But this is up to you and depends on what sauce you’re using.', 'Then dollop on half of the cottage cheese or ricotta.', 'Put on 2 cups of the mozzarella.', 'Now, repeat the layers: noodles, meat, cottage/ricotta and mozzarella.', 'Put crock pot on medium for 4-5 hours, if your crock pot does not have medium, then 3 hours on high, 1 on low.'], 'keywords': ['European', 'Weeknight'], 'language': 'en', 'nutrients': {'calories': '761.1', 'fatContent': '43.7', 'saturatedFatContent': '18.4', 'cholesterolContent': '123.6', 'sodiumContent': '2169.3', 'carbohydrateContent': '42.5', 'fiberContent': '1.5', 'sugarContent': '17.6', 'proteinContent': '47.4'}, 'prep_time': 30, 'site_name': 'Food.com', 'title': 'Crocket Pot Lasagna', 'total_time': 330, 'yields': '10 servings', 'source': 'food', 'url': 'https://www.food.com/recipe/crocket-pot-lasagna-443295', 'timestamp': {'$date': '2025-03-14T14:27:35.736Z'}}",
         "0.0033546755144267",
         "Not Relevant"
        ],
        [
         "41",
         "beans",
         "crock pot",
         "https://www.food.com/recipe/crock-pot-pot-roast-107110",
         "{'_id': {'$oid': '67d43ae2293985ce9b448ea9'}, 'author': 'cxstitcher', 'canonical_url': 'https://www.food.com/recipe/crock-pot-pot-roast-107110', 'category': 'Roast Beef', 'cook_time': 480, 'description': 'Make and share this Crock Pot Pot Roast recipe from Food.com.', 'host': 'food.com', 'image': 'https://img.sndimg.com/food/image/upload/q_92,fl_progressive,w_1200,c_scale/v1/gk-static/fdc-new/img/fdc-shareGraphic.png', 'ingredient_groups': [{'ingredients': ['1 1/2 lbs roast', '1 (10 3/4 ounce) can condensed cream of mushroom soup', '1 tablespoon dried onion flakes', '1/2 teaspoon salt', '1 1/2 cups chopped carrots'], 'purpose': None}], 'ingredients': ['1 1/2 lbs roast', '1 (10 3/4 ounce) can condensed cream of mushroom soup', '1 tablespoon dried onion flakes', '1/2 teaspoon salt', '1 1/2 cups chopped carrots'], 'instructions': \"Put uncooked pot roast in crock pot and turn on low.\\nAdd soup, onion flakes, and salt.\\nCook on low about 5 hours.\\nAt lunch time, add the chopped carrots to the pot and continue cooking on low for another 3 hours or so.\\nWhen you get home for the day, your dinner is ready to eat.\\nThe juices make a nice gravy for some mashed potato's if you want to whip them up.\\nOr add potatoes to the pot with the carrots and everything is there; it's easy, fast and very good tasting!\", 'instructions_list': ['Put uncooked pot roast in crock pot and turn on low.', 'Add soup, onion flakes, and salt.', 'Cook on low about 5 hours.', 'At lunch time, add the chopped carrots to the pot and continue cooking on low for another 3 hours or so.', 'When you get home for the day, your dinner is ready to eat.', \"The juices make a nice gravy for some mashed potato's if you want to whip them up.\", \"Or add potatoes to the pot with the carrots and everything is there; it's easy, fast and very good tasting!\"], 'keywords': ['Meat', 'Easy'], 'language': 'en', 'nutrients': {'calories': '519.8', 'fatContent': '37.9', 'saturatedFatContent': '14.5', 'cholesterolContent': '117.4', 'sodiumContent': '911.5', 'carbohydrateContent': '10.1', 'fiberContent': '1.3', 'sugarContent': '3.4', 'proteinContent': '33'}, 'prep_time': 5, 'ratings': 5, 'ratings_count': 1, 'site_name': 'Food.com', 'title': 'Crock Pot Pot Roast', 'total_time': 485, 'yields': '6 servings', 'source': 'food', 'url': 'https://www.food.com/recipe/crock-pot-pot-roast-107110', 'timestamp': {'$date': '2025-03-14T14:19:14.198Z'}}",
         "0.0029875695558231",
         "Not Relevant"
        ],
        [
         "42",
         "beans",
         "crock pot",
         "https://www.food.com/recipe/crock-pot-pot-roast-with-noodles-128234",
         "{'_id': {'$oid': '67d43b60293985ce9b4491bb'}, 'author': 'kzbhansen', 'canonical_url': 'https://www.food.com/recipe/crock-pot-pot-roast-with-noodles-128234', 'category': 'Roast Beef', 'cook_time': 480, 'description': 'Make and share this Crock Pot Pot Roast With Noodles recipe from Food.com.', 'host': 'food.com', 'image': 'https://img.sndimg.com/food/image/upload/q_92,fl_progressive,w_1200,c_scale/v1/gk-static/fdc-new/img/fdc-shareGraphic.png', 'ingredient_groups': [{'ingredients': ['2 1/2-3 lbs pot roast', '1 (10 3/4 ounce) can cream of mushroom soup', '1 (1 ounce) package dry onion soup mix', '1 cup cooking sherry', '1 cup water', '1 (8 ounce) package egg noodles, cooked'], 'purpose': None}], 'ingredients': ['2 1/2-3 lbs pot roast', '1 (10 3/4 ounce) can cream of mushroom soup', '1 (1 ounce) package dry onion soup mix', '1 cup cooking sherry', '1 cup water', '1 (8 ounce) package egg noodles, cooked'], 'instructions': 'Spray crock pot with Pam.\\nBrown roast if desired.\\nPlace all ingredients except noodles in crock pot.\\nCover and cook on Low 6-8 hours, stirring occasionally.\\nServe roast over cooked noodles.', 'instructions_list': ['Spray crock pot with Pam.', 'Brown roast if desired.', 'Place all ingredients except noodles in crock pot.', 'Cover and cook on Low 6-8 hours, stirring occasionally.', 'Serve roast over cooked noodles.'], 'keywords': ['Meat'], 'language': 'en', 'nutrients': {'calories': '1248.4', 'fatContent': '59.4', 'saturatedFatContent': '22.8', 'cholesterolContent': '241', 'sodiumContent': '1256.3', 'carbohydrateContent': '58.1', 'fiberContent': '2.4', 'sugarContent': '5.9', 'proteinContent': '62.5'}, 'prep_time': 10, 'site_name': 'Food.com', 'title': 'Crock Pot Pot Roast With Noodles', 'total_time': 490, 'yields': '6 servings', 'source': 'food', 'url': 'https://www.food.com/recipe/crock-pot-pot-roast-with-noodles-128234', 'timestamp': {'$date': '2025-03-14T14:21:20.020Z'}}",
         "0.0028768458311871",
         "Not Relevant"
        ],
        [
         "43",
         "beans",
         "crock pot",
         "https://www.food.com/recipe/crock-pot-braised-short-ribs-427771",
         "{'_id': {'$oid': '67d43a33293985ce9b448a4a'}, 'author': 'pink cook', 'canonical_url': 'https://www.food.com/recipe/crock-pot-braised-short-ribs-427771', 'category': 'Pork', 'cook_time': 360, 'description': 'Make and share this Crock Pot Braised Short Ribs recipe from Food.com.', 'host': 'food.com', 'image': 'https://img.sndimg.com/food/image/upload/q_92,fl_progressive,w_1200,c_scale/v1/gk-static/fdc-new/img/fdc-shareGraphic.png', 'ingredient_groups': [{'ingredients': ['4 lbs beef short ribs', '1 cup flour', '1 tablespoon chili powder', '1 tablespoon garlic salt', '1 teaspoon black pepper', '3 tablespoons oil', '2 medium onions, sliced', '1 1/2 cups liquid (water, beef broth or BBQ sauce)'], 'purpose': None}], 'ingredients': ['4 lbs beef short ribs', '1 cup flour', '1 tablespoon chili powder', '1 tablespoon garlic salt', '1 teaspoon black pepper', '3 tablespoons oil', '2 medium onions, sliced', '1 1/2 cups liquid (water, beef broth or BBQ sauce)'], 'instructions': 'Dredge ribs in flour, chili powder, garlic salt and pepper.\\nHeat oil in a skillet and brown ribs well.\\nIn the crock pot, layer onions, ribs and liquid.\\nCook on low 8-10 hours or high 4-6 hours.\\nNOTE: you can wrap the ribs and all the ingredients in foil and then place in the crock pot to cook.', 'instructions_list': ['Dredge ribs in flour, chili powder, garlic salt and pepper.', 'Heat oil in a skillet and brown ribs well.', 'In the crock pot, layer onions, ribs and liquid.', 'Cook on low 8-10 hours or high 4-6 hours.', 'NOTE: you can wrap the ribs and all the ingredients in foil and then place in the crock pot to cook.'], 'keywords': ['Meat', 'Crock Pot Slow Cooker'], 'language': 'en', 'nutrients': {'calories': '667', 'fatContent': '58.4', 'saturatedFatContent': '24.3', 'cholesterolContent': '114.9', 'sodiumContent': '86.5', 'carbohydrateContent': '10.7', 'fiberContent': '0.9', 'sugarContent': '0.9', 'proteinContent': '23.3'}, 'prep_time': 15, 'site_name': 'Food.com', 'title': 'Crock Pot Braised Short Ribs', 'total_time': 375, 'yields': '12 servings', 'source': 'food', 'url': 'https://www.food.com/recipe/crock-pot-braised-short-ribs-427771', 'timestamp': {'$date': '2025-03-14T14:16:19.845Z'}}",
         "0.002797781576046",
         "Not Relevant"
        ],
        [
         "44",
         "beans",
         "crock pot",
         "https://www.food.com/recipe/crock-pot-italian-pot-roast-56142",
         "{'_id': {'$oid': '67d43ba8293985ce9b44938f'}, 'author': 'The Range Rover', 'canonical_url': 'https://www.food.com/recipe/crock-pot-italian-pot-roast-56142', 'category': 'Roast Beef', 'cook_time': 270, 'description': 'Make and share this Crock Pot Italian Pot Roast recipe from Food.com.', 'host': 'food.com', 'image': 'https://img.sndimg.com/food/image/upload/q_92,fl_progressive,w_1200,c_scale/v1/gk-static/fdc-new/img/fdc-shareGraphic.png', 'ingredient_groups': [{'ingredients': ['1 (20 ounce) package baby carrots', '3 medium potatoes, peeled and cubed', '3 -5 lbs beef roast', '1 (1 ounce) packet au jus mix', '1 (5/8 ounce) packet Italian salad dressing mix', '1 (12 ounce) can tomato juice'], 'purpose': None}], 'ingredients': ['1 (20 ounce) package baby carrots', '3 medium potatoes, peeled and cubed', '3 -5 lbs beef roast', '1 (1 ounce) packet au jus mix', '1 (5/8 ounce) packet Italian salad dressing mix', '1 (12 ounce) can tomato juice'], 'instructions': \"Place carrots and potatoes in a slow cooker and place the roast on top.\\nSprinkle seasoning packets in a mixing bowl with the tomato juice and blend.\\nDon't worry if there are lumps, they will work out during cooking.\\nPour the mixture over the roast and veggies.\\nCook on LOW for 8-1/2 hours or on HIGH for 4-1/2 hours.\", 'instructions_list': ['Place carrots and potatoes in a slow cooker and place the roast on top.', 'Sprinkle seasoning packets in a mixing bowl with the tomato juice and blend.', \"Don't worry if there are lumps, they will work out during cooking.\", 'Pour the mixture over the roast and veggies.', 'Cook on LOW for 8-1/2 hours or on HIGH for 4-1/2 hours.'], 'keywords': ['Meat', 'Weeknight'], 'language': 'en', 'nutrients': {'calories': '718.1', 'fatContent': '45.1', 'saturatedFatContent': '18.1', 'cholesterolContent': '156.7', 'sodiumContent': '918.1', 'carbohydrateContent': '31.1', 'fiberContent': '4.3', 'sugarContent': '7.4', 'proteinContent': '45.3'}, 'prep_time': 5, 'ratings': 5, 'ratings_count': 3, 'site_name': 'Food.com', 'title': 'Crock Pot Italian Pot Roast', 'total_time': 275, 'yields': '8 servings', 'source': 'food', 'url': 'https://www.food.com/recipe/crock-pot-italian-pot-roast-56142', 'timestamp': {'$date': '2025-03-14T14:22:32.467Z'}}",
         "0.0027721598312435",
         "Not Relevant"
        ],
        [
         "45",
         "beans",
         "crock pot",
         "https://www.food.com/recipe/dilled-pot-roast-crock-pot-281084",
         "{'_id': {'$oid': '67d4433f293985ce9b44c3bc'}, 'author': 'Mom2Rose', 'canonical_url': 'https://www.food.com/recipe/dilled-pot-roast-crock-pot-281084', 'category': 'One Dish Meal', 'cook_time': 360, 'description': 'Make and share this Dilled Pot Roast (Crock Pot) recipe from Food.com.', 'host': 'food.com', 'image': 'https://img.sndimg.com/food/image/upload/q_92,fl_progressive,w_1200,c_scale/v1/img/recipes/28/10/84/picU3NdRY.jpg', 'ingredient_groups': [{'ingredients': ['2 -2 1/2 lbs boneless beef chuck roast', '2 tablespoons cooking oil', '1/2 cup water', '1 teaspoon dried dill', '1 teaspoon coarse kosher salt or 3/4 teaspoon salt', '1/2 teaspoon pepper', '1/2 cup plain yogurt', '1 tablespoon all-purpose flour', '3 cups hot cooked noodles'], 'purpose': None}], 'ingredients': ['2 -2 1/2 lbs boneless beef chuck roast', '2 tablespoons cooking oil', '1/2 cup water', '1 teaspoon dried dill', '1 teaspoon coarse kosher salt or 3/4 teaspoon salt', '1/2 teaspoon pepper', '1/2 cup plain yogurt', '1 tablespoon all-purpose flour', '3 cups hot cooked noodles'], 'instructions': 'If necessary, cut roast to fit into a 3 1/2 to 4 quart crockery cooker.\\nIn a large skillet brown roast on all sides in hot oil.\\nTransfer to cooker.\\nAdd the water to cooker.\\nSprinkle roast with 2 teaspoons of the fresh dillweed or 3/4 teaspoon of the dried dillweed, salt, and pepper.\\nCover and cook on high heat setting for 5 to 6 hours or on low heat setting for 10 to 12 hours, until meat is tender.\\nTransfer roast to a serving platter, reserving juices; cover roast and keep warm.\\nPour cooking juices into a glass measuring cup; skim off fat.\\nMeasure 1 cup of the reserved juices.\\nFor sauce, in a small saucepan stir together yogurt and flour until well combined.\\nStir in the 1 cup reserved cooking juices and remaining dillweed.\\nCook and stir until thickened and bubbly.\\nCook and stir 1 minute more.\\nServe meat with sauce and noodles.', 'instructions_list': ['If necessary, cut roast to fit into a 3 1/2 to 4 quart crockery cooker.', 'In a large skillet brown roast on all sides in hot oil.', 'Transfer to cooker.', 'Add the water to cooker.', 'Sprinkle roast with 2 teaspoons of the fresh dillweed or 3/4 teaspoon of the dried dillweed, salt, and pepper.', 'Cover and cook on high heat setting for 5 to 6 hours or on low heat setting for 10 to 12 hours, until meat is tender.', 'Transfer roast to a serving platter, reserving juices; cover roast and keep warm.', 'Pour cooking juices into a glass measuring cup; skim off fat.', 'Measure 1 cup of the reserved juices.', 'For sauce, in a small saucepan stir together yogurt and flour until well combined.', 'Stir in the 1 cup reserved cooking juices and remaining dillweed.', 'Cook and stir until thickened and bubbly.', 'Cook and stir 1 minute more.', 'Serve meat with sauce and noodles.'], 'keywords': ['Roast Beef', 'Meat'], 'language': 'en', 'nutrients': {'calories': '380.1', 'fatContent': '16.1', 'saturatedFatContent': '5.5', 'cholesterolContent': '125.6', 'sodiumContent': '427.6', 'carbohydrateContent': '22.7', 'fiberContent': '1.1', 'sugarContent': '1.3', 'proteinContent': '36.5'}, 'prep_time': 15, 'ratings': 4.5, 'ratings_count': 6, 'site_name': 'Food.com', 'title': 'Dilled Pot Roast (Crock Pot)', 'total_time': 375, 'yields': '8 servings', 'source': 'food', 'url': 'https://www.food.com/recipe/dilled-pot-roast-crock-pot-281084', 'timestamp': {'$date': '2025-03-14T14:54:55.841Z'}}",
         "0.0026730808034908",
         "Not Relevant"
        ],
        [
         "46",
         "beans",
         "crock pot",
         "https://www.food.com/recipe/hamburger-hot-pot-crock-pot-118030",
         "{'_id': {'$oid': '67d4695b293985ce9b45cb28'}, 'author': 'Northern_Reflectionz', 'canonical_url': 'https://www.food.com/recipe/hamburger-hot-pot-crock-pot-118030', 'category': 'Meat', 'cook_time': 480, 'description': 'Make and share this Hamburger Hot Pot (crock Pot) recipe from Food.com.', 'host': 'food.com', 'image': 'https://img.sndimg.com/food/image/upload/q_92,fl_progressive,w_1200,c_scale/v1/img/recipes/11/80/30/picRQtTQ9.jpg', 'ingredient_groups': [{'ingredients': ['1 1/2 lbs lean ground beef', '1/2 teaspoon garlic powder', '2 teaspoons salt', '1/4 teaspoon pepper', '6 medium potatoes, peeled and sliced', '3 medium onions, sliced', '1 (10 3/4 ounce) can condensed golden mushroom soup', '1/2 cup water'], 'purpose': None}], 'ingredients': ['1 1/2 lbs lean ground beef', '1/2 teaspoon garlic powder', '2 teaspoons salt', '1/4 teaspoon pepper', '6 medium potatoes, peeled and sliced', '3 medium onions, sliced', '1 (10 3/4 ounce) can condensed golden mushroom soup', '1/2 cup water'], 'instructions': 'In skillet, lightly brown ground beef, drain well.\\nAdd seasonings. Set aside.\\nPlace half the potatoes and onions in greased Crock Pot.\\nAdd browned beef.\\nTop with remaining potatoes and onions.\\nCombine mushroom soup and water and spread over top -- being sure to moisten and cover evenly.\\nCover and cook on Low for 8-10 hours (or on High for 3-4 hours).', 'instructions_list': ['In skillet, lightly brown ground beef, drain well.', 'Add seasonings. Set aside.', 'Place half the potatoes and onions in greased Crock Pot.', 'Add browned beef.', 'Top with remaining potatoes and onions.', 'Combine mushroom soup and water and spread over top -- being sure to moisten and cover evenly.', 'Cover and cook on Low for 8-10 hours (or on High for 3-4 hours).'], 'keywords': ['Low Cholesterol', 'Healthy'], 'language': 'en', 'nutrients': {'calories': '425.1', 'fatContent': '13.4', 'saturatedFatContent': '5.4', 'cholesterolContent': '77.1', 'sodiumContent': '1302', 'carbohydrateContent': '46.8', 'fiberContent': '5.7', 'sugarContent': '5.3', 'proteinContent': '29.1'}, 'prep_time': 15, 'ratings': 4.5, 'ratings_count': 30, 'site_name': 'Food.com', 'title': 'Hamburger Hot Pot (crock Pot)', 'total_time': 495, 'yields': '6 servings', 'source': 'food', 'url': 'https://www.food.com/recipe/hamburger-hot-pot-crock-pot-118030', 'timestamp': {'$date': '2025-03-14T17:37:31.063Z'}}",
         "0.0026730808034908",
         "Not Relevant"
        ],
        [
         "47",
         "beans",
         "crock pot",
         "https://www.food.com/recipe/french-pot-roast-crock-pot-251781",
         "{'_id': {'$oid': '67d4542a293985ce9b45380d'}, 'author': 'dicentra', 'canonical_url': 'https://www.food.com/recipe/french-pot-roast-crock-pot-251781', 'category': 'Roast Beef', 'cook_time': 300, 'description': 'Make and share this French Pot Roast (Crock Pot) recipe from Food.com.', 'host': 'food.com', 'image': 'https://img.sndimg.com/food/image/upload/q_92,fl_progressive,w_1200,c_scale/v1/gk-static/fdc-new/img/fdc-shareGraphic.png', 'ingredient_groups': [{'ingredients': ['4 -5 lbs rump roast', '1/4 cup shortening', '12 small carrots, left whole', '12 small white onions', '1/2 lb mushroom, sliced', '2 teaspoons salt', '1 teaspoon celery seed', '1/2 teaspoon nutmeg', '1/2 teaspoon thyme', '1/2 bay leaf, crumbled', '1/4 teaspoon tarragon', '2 cups dry red wine'], 'purpose': None}], 'ingredients': ['4 -5 lbs rump roast', '1/4 cup shortening', '12 small carrots, left whole', '12 small white onions', '1/2 lb mushroom, sliced', '2 teaspoons salt', '1 teaspoon celery seed', '1/2 teaspoon nutmeg', '1/2 teaspoon thyme', '1/2 bay leaf, crumbled', '1/4 teaspoon tarragon', '2 cups dry red wine'], 'instructions': 'Heat shortening in skillet and brown meat on all sides.\\nCombine all ingredients in slow cooker and add browned meat. If wine does not cover, add water.\\nCook on low 10-12 hours or on high 5-6 hours.', 'instructions_list': ['Heat shortening in skillet and brown meat on all sides.', 'Combine all ingredients in slow cooker and add browned meat. If wine does not cover, add water.', 'Cook on low 10-12 hours or on high 5-6 hours.'], 'keywords': ['Meat', 'Winter', 'Easy', 'Inexpensive'], 'language': 'en', 'nutrients': {'calories': '638.7', 'fatContent': '34.4', 'saturatedFatContent': '12.6', 'cholesterolContent': '138.3', 'sodiumContent': '760.7', 'carbohydrateContent': '20.5', 'fiberContent': '3.9', 'sugarContent': '8.8', 'proteinContent': '49.6'}, 'prep_time': 10, 'ratings': 5, 'ratings_count': 1, 'site_name': 'Food.com', 'title': 'French Pot Roast (Crock Pot)', 'total_time': 310, 'yields': '8 servings', 'source': 'food', 'url': 'https://www.food.com/recipe/french-pot-roast-crock-pot-251781', 'timestamp': {'$date': '2025-03-14T16:07:06.371Z'}}",
         "0.0025792157033949",
         "Not Relevant"
        ],
        [
         "48",
         "beans",
         "crock pot",
         "https://www.food.com/recipe/coca-cola-pot-roast-crock-pot-366425",
         "{'_id': {'$oid': '67d42c1f293985ce9b443361'}, 'author': 'Abby Girl', 'canonical_url': 'https://www.food.com/recipe/coca-cola-pot-roast-crock-pot-366425', 'category': 'Roast Beef', 'cook_time': 480, 'description': 'Make and share this Coca Cola Pot Roast (Crock Pot) recipe from Food.com.', 'host': 'food.com', 'image': 'https://img.sndimg.com/food/image/upload/q_92,fl_progressive,w_1200,c_scale/v1/gk-static/fdc-new/img/fdc-shareGraphic.png', 'ingredient_groups': [{'ingredients': ['3 lbs pot roast', '2 tablespoons oil', '28 ounces tomatoes', '1 cup Coca-Cola', '1 onion, chopped', '1 1/4 ounces spaghetti sauce mix', '1 teaspoon salt', '1 1/2 teaspoons garlic salt'], 'purpose': None}], 'ingredients': ['3 lbs pot roast', '2 tablespoons oil', '28 ounces tomatoes', '1 cup Coca-Cola', '1 onion, chopped', '1 1/4 ounces spaghetti sauce mix', '1 teaspoon salt', '1 1/2 teaspoons garlic salt'], 'instructions': 'Brown meat in the vegetable oil for 10 minutes on each side. Remove to crockpot. Drain off fat.\\nBreak up tomatoes in juice and add remaining ingredients.\\nCover and simmer for 6 - 8 hours.', 'instructions_list': ['Brown meat in the vegetable oil for 10 minutes on each side. Remove to crockpot. Drain off fat.', 'Break up tomatoes in juice and add remaining ingredients.', 'Cover and simmer for 6 - 8 hours.'], 'keywords': ['Meat', 'Easy'], 'language': 'en', 'nutrients': {'calories': '659.2', 'fatContent': '46.5', 'saturatedFatContent': '17.6', 'cholesterolContent': '154.2', 'sodiumContent': '1031.1', 'carbohydrateContent': '14.8', 'fiberContent': '2', 'sugarContent': '8', 'proteinContent': '43.7'}, 'prep_time': 20, 'site_name': 'Food.com', 'title': 'Coca Cola Pot Roast (Crock Pot)', 'total_time': 500, 'yields': '8 servings', 'source': 'food', 'url': 'https://www.food.com/recipe/coca-cola-pot-roast-crock-pot-366425', 'timestamp': {'$date': '2025-03-14T13:16:15.498Z'}}",
         "0.0025792157033949",
         "Not Relevant"
        ],
        [
         "49",
         "beans",
         "crock pot",
         "https://www.food.com/recipe/bourbon-pot-roast-crock-pot-251780",
         "{'_id': {'$oid': '67d401dc293985ce9b432846'}, 'author': 'dicentra', 'canonical_url': 'https://www.food.com/recipe/bourbon-pot-roast-crock-pot-251780', 'category': 'Roast Beef', 'cook_time': 300, 'description': 'Make and share this Bourbon Pot Roast (Crock Pot) recipe from Food.com.', 'host': 'food.com', 'image': 'https://img.sndimg.com/food/image/upload/q_92,fl_progressive,w_1200,c_scale/v1/gk-static/fdc-new/img/fdc-shareGraphic.png', 'ingredient_groups': [{'ingredients': ['4 -5 lbs rump roast', '2 tablespoons shortening', '4 potatoes, quartered', '2 carrots, cut in 3 inch pieces', '2 stalks celery, sliced', '2 teaspoons salt', '1/2 teaspoon pepper', '1 bay leaf', '1/2 teaspoon basil', '1/2 cup Bourbon'], 'purpose': None}], 'ingredients': ['4 -5 lbs rump roast', '2 tablespoons shortening', '4 potatoes, quartered', '2 carrots, cut in 3 inch pieces', '2 stalks celery, sliced', '2 teaspoons salt', '1/2 teaspoon pepper', '1 bay leaf', '1/2 teaspoon basil', '1/2 cup Bourbon'], 'instructions': 'Heat shortening in skillet and brown meat on all sides.\\nCombine all ingredients in cooker and add browned meat.\\nCook on low 10-12 hours or on high for 5-6 hours.', 'instructions_list': ['Heat shortening in skillet and brown meat on all sides.', 'Combine all ingredients in cooker and add browned meat.', 'Cook on low 10-12 hours or on high for 5-6 hours.'], 'keywords': ['Meat', 'Winter', 'Easy', 'Inexpensive'], 'language': 'en', 'nutrients': {'calories': '608.4', 'fatContent': '30.9', 'saturatedFatContent': '11.7', 'cholesterolContent': '138.3', 'sodiumContent': '726.7', 'carbohydrateContent': '20.5', 'fiberContent': '3', 'sugarContent': '1.7', 'proteinContent': '49.4'}, 'prep_time': 10, 'site_name': 'Food.com', 'title': 'Bourbon Pot Roast (Crock Pot)', 'total_time': 310, 'yields': '8 servings', 'source': 'food', 'url': 'https://www.food.com/recipe/bourbon-pot-roast-crock-pot-251780', 'timestamp': {'$date': '2025-03-14T10:15:56.404Z'}}",
         "0.0025792157033949",
         "Not Relevant"
        ]
       ],
       "shape": {
        "columns": 6,
        "rows": 140
       }
      },
      "text/html": [
       "<div>\n",
       "<style scoped>\n",
       "    .dataframe tbody tr th:only-of-type {\n",
       "        vertical-align: middle;\n",
       "    }\n",
       "\n",
       "    .dataframe tbody tr th {\n",
       "        vertical-align: top;\n",
       "    }\n",
       "\n",
       "    .dataframe thead th {\n",
       "        text-align: right;\n",
       "    }\n",
       "</style>\n",
       "<table border=\"1\" class=\"dataframe\">\n",
       "  <thead>\n",
       "    <tr style=\"text-align: right;\">\n",
       "      <th></th>\n",
       "      <th>ingredients</th>\n",
       "      <th>keywords</th>\n",
       "      <th>url</th>\n",
       "      <th>recipe</th>\n",
       "      <th>score</th>\n",
       "      <th>label</th>\n",
       "    </tr>\n",
       "  </thead>\n",
       "  <tbody>\n",
       "    <tr>\n",
       "      <th>0</th>\n",
       "      <td>broccoli, chicken</td>\n",
       "      <td>NaN</td>\n",
       "      <td>https://www.food.com/recipe/chicken-broccoli-a...</td>\n",
       "      <td>{'_id': {'$oid': '67d41dd8293985ce9b43d92b'}, ...</td>\n",
       "      <td>0.999399</td>\n",
       "      <td>Relevant</td>\n",
       "    </tr>\n",
       "    <tr>\n",
       "      <th>1</th>\n",
       "      <td>broccoli, chicken</td>\n",
       "      <td>NaN</td>\n",
       "      <td>https://www.food.com/recipe/elvas-chicken-and-...</td>\n",
       "      <td>{'_id': {'$oid': '67d44d48293985ce9b450790'}, ...</td>\n",
       "      <td>0.999206</td>\n",
       "      <td>Relevant</td>\n",
       "    </tr>\n",
       "    <tr>\n",
       "      <th>2</th>\n",
       "      <td>broccoli, chicken</td>\n",
       "      <td>NaN</td>\n",
       "      <td>https://www.food.com/recipe/finicky-feline-die...</td>\n",
       "      <td>{'_id': {'$oid': '67d4518b293985ce9b452520'}, ...</td>\n",
       "      <td>0.998995</td>\n",
       "      <td>Not Relevant</td>\n",
       "    </tr>\n",
       "    <tr>\n",
       "      <th>3</th>\n",
       "      <td>broccoli, chicken</td>\n",
       "      <td>NaN</td>\n",
       "      <td>https://www.food.com/recipe/chicken-divan-386117</td>\n",
       "      <td>{'_id': {'$oid': '67d41918293985ce9b43bba5'}, ...</td>\n",
       "      <td>0.998896</td>\n",
       "      <td>Not Relevant</td>\n",
       "    </tr>\n",
       "    <tr>\n",
       "      <th>4</th>\n",
       "      <td>broccoli, chicken</td>\n",
       "      <td>NaN</td>\n",
       "      <td>https://www.food.com/recipe/chicken-and-brocco...</td>\n",
       "      <td>{'_id': {'$oid': '67d416a4293985ce9b43abfd'}, ...</td>\n",
       "      <td>0.998513</td>\n",
       "      <td>Relevant</td>\n",
       "    </tr>\n",
       "    <tr>\n",
       "      <th>...</th>\n",
       "      <td>...</td>\n",
       "      <td>...</td>\n",
       "      <td>...</td>\n",
       "      <td>...</td>\n",
       "      <td>...</td>\n",
       "      <td>...</td>\n",
       "    </tr>\n",
       "    <tr>\n",
       "      <th>135</th>\n",
       "      <td>eggplant, tomato, feta cheese, olives, cucumbe...</td>\n",
       "      <td>Mediterranean, vegan, fresh, quick</td>\n",
       "      <td>https://www.food.com/recipe/greek-walnut-salsa...</td>\n",
       "      <td>{'_id': {'$oid': '67d4625d293985ce9b459a83'}, ...</td>\n",
       "      <td>0.166667</td>\n",
       "      <td>Not Relevant</td>\n",
       "    </tr>\n",
       "    <tr>\n",
       "      <th>136</th>\n",
       "      <td>eggplant, tomato, feta cheese, olives, cucumbe...</td>\n",
       "      <td>Mediterranean, vegan, fresh, quick</td>\n",
       "      <td>https://www.food.com/recipe/greek-salad-with-b...</td>\n",
       "      <td>{'_id': {'$oid': '67d46267293985ce9b459aca'}, ...</td>\n",
       "      <td>0.142857</td>\n",
       "      <td>Relevant</td>\n",
       "    </tr>\n",
       "    <tr>\n",
       "      <th>137</th>\n",
       "      <td>eggplant, tomato, feta cheese, olives, cucumbe...</td>\n",
       "      <td>Mediterranean, vegan, fresh, quick</td>\n",
       "      <td>https://www.food.com/recipe/horiatiki-salata-1...</td>\n",
       "      <td>{'_id': {'$oid': '67d4701a293985ce9b45fa09'}, ...</td>\n",
       "      <td>0.125000</td>\n",
       "      <td>Relevant</td>\n",
       "    </tr>\n",
       "    <tr>\n",
       "      <th>138</th>\n",
       "      <td>eggplant, tomato, feta cheese, olives, cucumbe...</td>\n",
       "      <td>Mediterranean, vegan, fresh, quick</td>\n",
       "      <td>https://www.food.com/recipe/baked-veggie-quesa...</td>\n",
       "      <td>{'_id': {'$oid': '67d3f03b293985ce9b42b994'}, ...</td>\n",
       "      <td>0.111111</td>\n",
       "      <td>Relevant</td>\n",
       "    </tr>\n",
       "    <tr>\n",
       "      <th>139</th>\n",
       "      <td>eggplant, tomato, feta cheese, olives, cucumbe...</td>\n",
       "      <td>Mediterranean, vegan, fresh, quick</td>\n",
       "      <td>https://www.food.com/recipe/best-macaroni-sala...</td>\n",
       "      <td>{'_id': {'$oid': '67d3fa76293985ce9b42f977'}, ...</td>\n",
       "      <td>0.100000</td>\n",
       "      <td>Not Relevant</td>\n",
       "    </tr>\n",
       "  </tbody>\n",
       "</table>\n",
       "<p>140 rows × 6 columns</p>\n",
       "</div>"
      ],
      "text/plain": [
       "                                           ingredients  \\\n",
       "0                                    broccoli, chicken   \n",
       "1                                    broccoli, chicken   \n",
       "2                                    broccoli, chicken   \n",
       "3                                    broccoli, chicken   \n",
       "4                                    broccoli, chicken   \n",
       "..                                                 ...   \n",
       "135  eggplant, tomato, feta cheese, olives, cucumbe...   \n",
       "136  eggplant, tomato, feta cheese, olives, cucumbe...   \n",
       "137  eggplant, tomato, feta cheese, olives, cucumbe...   \n",
       "138  eggplant, tomato, feta cheese, olives, cucumbe...   \n",
       "139  eggplant, tomato, feta cheese, olives, cucumbe...   \n",
       "\n",
       "                               keywords  \\\n",
       "0                                   NaN   \n",
       "1                                   NaN   \n",
       "2                                   NaN   \n",
       "3                                   NaN   \n",
       "4                                   NaN   \n",
       "..                                  ...   \n",
       "135  Mediterranean, vegan, fresh, quick   \n",
       "136  Mediterranean, vegan, fresh, quick   \n",
       "137  Mediterranean, vegan, fresh, quick   \n",
       "138  Mediterranean, vegan, fresh, quick   \n",
       "139  Mediterranean, vegan, fresh, quick   \n",
       "\n",
       "                                                   url  \\\n",
       "0    https://www.food.com/recipe/chicken-broccoli-a...   \n",
       "1    https://www.food.com/recipe/elvas-chicken-and-...   \n",
       "2    https://www.food.com/recipe/finicky-feline-die...   \n",
       "3     https://www.food.com/recipe/chicken-divan-386117   \n",
       "4    https://www.food.com/recipe/chicken-and-brocco...   \n",
       "..                                                 ...   \n",
       "135  https://www.food.com/recipe/greek-walnut-salsa...   \n",
       "136  https://www.food.com/recipe/greek-salad-with-b...   \n",
       "137  https://www.food.com/recipe/horiatiki-salata-1...   \n",
       "138  https://www.food.com/recipe/baked-veggie-quesa...   \n",
       "139  https://www.food.com/recipe/best-macaroni-sala...   \n",
       "\n",
       "                                                recipe     score         label  \n",
       "0    {'_id': {'$oid': '67d41dd8293985ce9b43d92b'}, ...  0.999399      Relevant  \n",
       "1    {'_id': {'$oid': '67d44d48293985ce9b450790'}, ...  0.999206      Relevant  \n",
       "2    {'_id': {'$oid': '67d4518b293985ce9b452520'}, ...  0.998995  Not Relevant  \n",
       "3    {'_id': {'$oid': '67d41918293985ce9b43bba5'}, ...  0.998896  Not Relevant  \n",
       "4    {'_id': {'$oid': '67d416a4293985ce9b43abfd'}, ...  0.998513      Relevant  \n",
       "..                                                 ...       ...           ...  \n",
       "135  {'_id': {'$oid': '67d4625d293985ce9b459a83'}, ...  0.166667  Not Relevant  \n",
       "136  {'_id': {'$oid': '67d46267293985ce9b459aca'}, ...  0.142857      Relevant  \n",
       "137  {'_id': {'$oid': '67d4701a293985ce9b45fa09'}, ...  0.125000      Relevant  \n",
       "138  {'_id': {'$oid': '67d3f03b293985ce9b42b994'}, ...  0.111111      Relevant  \n",
       "139  {'_id': {'$oid': '67d3fa76293985ce9b42f977'}, ...  0.100000  Not Relevant  \n",
       "\n",
       "[140 rows x 6 columns]"
      ]
     },
     "execution_count": 24,
     "metadata": {},
     "output_type": "execute_result"
    }
   ],
   "source": [
    "annotations_rrf"
   ]
  },
  {
   "cell_type": "code",
   "execution_count": 19,
   "id": "58c99869",
   "metadata": {},
   "outputs": [
    {
     "data": {
      "text/plain": [
       "ingredients                                                                                                                keywords                          \n",
       "almond flour, eggs, coconut oil                                                                                            gluten-free, dessert                  20\n",
       "beans                                                                                                                      crock pot                             20\n",
       "beef, bell peppers, onion                                                                                                  quick, stir-fry                       10\n",
       "chicken, garlic, onion, tomato, basil, oregano, parsley, thyme, rosemary, lemon, olive oil, butter, salt, pepper, paprika  spicy                                 10\n",
       "chicken, garlic, rice                                                                                                      spicy, quick                          20\n",
       "eggplant, tomato, feta cheese, olives, cucumber, red onion, mint, oregano                                                  Mediterranean, vegan, fresh, quick    10\n",
       "dtype: int64"
      ]
     },
     "execution_count": 19,
     "metadata": {},
     "output_type": "execute_result"
    }
   ],
   "source": [
    "annotations_simple.groupby(['ingredients', 'keywords']).size()"
   ]
  },
  {
   "cell_type": "code",
   "execution_count": null,
   "id": "bfc0cbbc",
   "metadata": {},
   "outputs": [
    {
     "name": "stdout",
     "output_type": "stream",
     "text": [
      "MAP for ingredients only: 0.793447656840514\n",
      "MAP for keywords only: nan\n",
      "MAP for both: nan\n"
     ]
    },
    {
     "name": "stderr",
     "output_type": "stream",
     "text": [
      "C:\\Users\\nikna\\AppData\\Local\\Temp\\ipykernel_75308\\1389403213.py:26: RuntimeWarning: invalid value encountered in scalar divide\n",
      "  ap = np.sum(precision * relevancy) / np.sum(relevancy)\n",
      "C:\\Users\\nikna\\AppData\\Local\\Temp\\ipykernel_75308\\1389403213.py:26: RuntimeWarning: invalid value encountered in scalar divide\n",
      "  ap = np.sum(precision * relevancy) / np.sum(relevancy)\n"
     ]
    }
   ],
   "source": [
    "def compute_ap(query_scored, k=10):\n",
    "    \"\"\"Given a list of list of dictionary of query relevancy scores, compute the average precision\"\"\"\n",
    "    query_sorted = sorted(query_scored, key=lambda x: x['score'], reverse=True)[:k]\n",
    "    relevancy = [1 if query_sorted[i]['label'] == \"Relevant\" else 0 for i in range(len(query_scored))]\n",
    "    \n",
    "    precision = np.cumsum(relevancy) / (np.arange(len(relevancy)) + 1)\n",
    "    ap = np.sum(precision * relevancy) / np.sum(relevancy)\n",
    "    return ap\n",
    "\n",
    "def compute_map(querries_all, k=10):\n",
    "    \"\"\"Given a list of list of dictionary of query relevancy scores, compute the mean average precision\"\"\"\n",
    "    aps = []\n",
    "    for i in range(len(querries_all)):\n",
    "        query_scored = querries_all[i]\n",
    "        ap = compute_ap(query_scored, k)\n",
    "        aps.append(ap)\n",
    "    map_score = np.mean(aps)\n",
    "    return map_score\n",
    "\n",
    "def compute_ap_df(query_scored, k=10):\n",
    "    \"\"\"Given a dataframce of query relevancy scores, compute the average precision\"\"\"\n",
    "    query_sorted = query_scored.sort_values(by='score', ascending=False).head(k)\n",
    "    relevancy = query_sorted['label'].values\n",
    "    relevancy = [1 if relevancy[i] == \"Relevant\" else 0 for i in range(len(relevancy))]\n",
    "    precision = np.cumsum(relevancy) / (np.arange(len(relevancy)) + 1)\n",
    "    if np.sum(relevancy) == 0:\n",
    "        return 0.0\n",
    "    ap = np.sum(precision * relevancy) / np.sum(relevancy)\n",
    "    return ap\n",
    "\n",
    "def compute_map_df(annotations, k=10):\n",
    "    \"\"\"Given an ungrouped dataframe of query relevancy scores, compute the mean average precision\"\"\"\n",
    "    # if anontations do not exist, return none\n",
    "    if annotations.empty:\n",
    "        return np.nan\n",
    "    vals = annotations.groupby(\"ID\").apply(lambda x: compute_ap_df(x, k=k), include_groups=False).values\n",
    "    maper = np.mean(vals)\n",
    "    return maper\n",
    "    \n",
    "\n",
    "def compute_score_for_annotations(annotations, k=10):\n",
    "    \"\"\"Given a list of annotations, compute the mean average precision for the annotations split in 3 groups: ingredient only, keyword only, and both\"\"\"\n",
    "    \n",
    "    # select only the relevant columns\n",
    "    annotations = annotations[['ingredients', 'keywords', 'label', 'score']]\n",
    "    \n",
    "    # assign ID to each of the keyword and ingredient pair (even if it is NaN)\n",
    "    annotations.loc[:, ['ID']] = annotations['ingredients'].astype(str) + '_' + annotations['keywords'].astype(str)\n",
    "    \n",
    "    \n",
    "    # split the annotations into 3 groups\n",
    "    annotations_ingredient = annotations[pd.isna(annotations['keywords'])]\n",
    "    annotations_keyword = annotations[pd.isna(annotations['ingredients'])]\n",
    "    annotations_both = annotations[~pd.isna(annotations['ingredients']) & ~pd.isna(annotations['keywords'])]\n",
    "    \n",
    "    # group by the ingredients and keywords and compute the mean average precision for each group\n",
    "    map_ingredient = compute_map_df(annotations_ingredient, k=k)\n",
    "    map_keyword = compute_map_df(annotations_keyword, k=k)\n",
    "    map_both = compute_map_df(annotations_both, k=k)\n",
    "    return map_ingredient, map_keyword, map_both\n",
    "    \n",
    "    \n",
    "map_ingredient, map_keyword, map_both = compute_score_for_annotations(annotations_rrf, k=10)\n",
    "    \n",
    "print(f\"MAP for ingredients only: {map_ingredient}\")\n",
    "print(f\"MAP for keywords only: {map_keyword}\")\n",
    "print(f\"MAP for both: {map_both}\")\n",
    "    "
   ]
  },
  {
   "cell_type": "code",
   "execution_count": null,
   "id": "cdbfe677",
   "metadata": {},
   "outputs": [],
   "source": []
  }
 ],
 "metadata": {
  "kernelspec": {
   "display_name": "rsr",
   "language": "python",
   "name": "python3"
  },
  "language_info": {
   "codemirror_mode": {
    "name": "ipython",
    "version": 3
   },
   "file_extension": ".py",
   "mimetype": "text/x-python",
   "name": "python",
   "nbconvert_exporter": "python",
   "pygments_lexer": "ipython3",
   "version": "3.12.10"
  }
 },
 "nbformat": 4,
 "nbformat_minor": 5
}
